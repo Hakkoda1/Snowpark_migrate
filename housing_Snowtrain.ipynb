{
 "cells": [
  {
   "cell_type": "markdown",
   "metadata": {},
   "source": [
    "### Tittle option\n",
    "# Option 1: Snowpark Python: Run your Data Science where your data lives: A hands-on guide\n",
    "\n",
    "# Option 2: Snowpark Python: How to migrate your DS projects."
   ]
  },
  {
   "cell_type": "markdown",
   "metadata": {},
   "source": [
    "**[Python for Snowpark](https://www.snowflake.com/news/snowflake-expands-native-python-support-and-data-access-to-advance-programmability-in-the-data-cloud/)** has just been released, and now we have the ability to run our models closer of were our data lives, using Snowflake procesing power to run our model prediction. \n",
    "\n",
    "In this example we're going to take a fairly known dataset **[California Housing Prices](https://www.kaggle.com/datasets/camnugent/california-housing-prices)**, upload the data  into Snowflake using **Snowpark for Python**, we will do a quick data exploration, crossvalidation and fine-tunning, to then deploy our model into Snowflake to get our predictions using Snowflake's data warehouse. \n",
    "\n"
   ]
  },
  {
   "cell_type": "markdown",
   "metadata": {},
   "source": [
    "## 1. Load necesary Snowpark packages and connect to Snowflake\n",
    "\n",
    "We will begin by importing necesary libraries, the session class will give us everything we need to connect to Snowflake, using the same parameters from the connect function in the Snowflake Connector for Python. To create a session we will build a Python dictionary containing the names and values of the parameters, see example below. \n",
    "\n",
    "For this example, we placed those parameters in a different file called \"config\"."
   ]
  },
  {
   "cell_type": "code",
   "execution_count": null,
   "metadata": {},
   "outputs": [],
   "source": [
    "import os\n",
    "\n",
    "connection_parameters = {\n",
    "    \"account\": os.environ[\"snowflake_account\"],\n",
    "    \"user\": os.environ[\"snowflake_user\"],\n",
    "    \"password\": os.environ[\"snowflake_password\"],\n",
    "    \"role\": os.environ[\"snowflake_user_role\"],\n",
    "    \"warehouse\": os.environ[\"snowflake_warehouse\"],\n",
    "    \"database\": os.environ[\"snowflake_database\"],\n",
    "    \"schema\": os.environ[\"snowflake_schema\"]\n",
    "  }"
   ]
  },
  {
   "cell_type": "markdown",
   "metadata": {},
   "source": [
    "We will also import standart machine learning libraries like pandas, numpy and Matplotlib, and several snowpark libraries like \"functions\" that provides utility and SQL functions to generate column expressions to pass to DataFrame transformation methods, date types, and UDF to build our predictions in Snowflake. \n",
    "\n"
   ]
  },
  {
   "cell_type": "code",
   "execution_count": 1,
   "metadata": {},
   "outputs": [],
   "source": [
    "# Snowflake packages\n",
    "import snowflake.snowpark\n",
    "from snowflake.snowpark.functions import sproc\n",
    "from snowflake.snowpark.session import Session\n",
    "from snowflake.snowpark import functions as F\n",
    "from snowflake.snowpark.types import *\n",
    "from snowflake.snowpark.functions import udf\n",
    "\n",
    "#Python packages\n",
    "import sys\n",
    "import cachetools\n",
    "import os\n",
    "import pandas as pd\n",
    "import numpy as np\n",
    "import io\n",
    "import joblib\n",
    "%matplotlib inline\n",
    "import matplotlib.pyplot as plt\n",
    "from sklearn.pipeline import Pipeline\n",
    "from sklearn.preprocessing import StandardScaler\n",
    "from sklearn.preprocessing import OneHotEncoder\n",
    "from sklearn.compose import ColumnTransformer\n",
    "from sklearn.ensemble import RandomForestRegressor\n",
    "from sklearn.metrics import mean_squared_error\n",
    "from sklearn.linear_model import LinearRegression\n",
    "from sklearn.model_selection import cross_val_score\n",
    "from sklearn.model_selection import RepeatedKFold\n",
    "from sklearn.model_selection import StratifiedShuffleSplit\n",
    "from sklearn.model_selection import RandomizedSearchCV\n",
    "from xgboost import XGBRegressor\n",
    "\n",
    "#Snowflake connection info is saved in config.py\n",
    "from config import snowflake_conn_prop\n",
    "\n"
   ]
  },
  {
   "cell_type": "markdown",
   "metadata": {},
   "source": [
    "Print Snowpark version"
   ]
  },
  {
   "cell_type": "code",
   "execution_count": 64,
   "metadata": {},
   "outputs": [
    {
     "name": "stdout",
     "output_type": "stream",
     "text": [
      "(0, 6, 0, None)\n"
     ]
    }
   ],
   "source": [
    "from snowflake.snowpark import version\n",
    "print(version.VERSION)"
   ]
  },
  {
   "cell_type": "markdown",
   "metadata": {},
   "source": [
    "We'll load our data using pd.read() and pull a sample."
   ]
  },
  {
   "cell_type": "code",
   "execution_count": 65,
   "metadata": {},
   "outputs": [],
   "source": [
    "#Read the housing data\n",
    "\n",
    "data=pd.read_csv('https://raw.githubusercontent.com/ageron/handson-ml2/master/datasets/housing/housing.csv')\n",
    "#this one will work once we release and make the repo public\n",
    "## TODO : Include public URL\n",
    "#You can download the data from our public repo\n",
    "#data=pd.read_csv('https://raw.githubusercontent.com/Hakkoda1/Snowpark_migrate/main/housing.csv')\n",
    "\n",
    "data.columns= ['LONGITUDE',\n",
    " 'LATITUDE',\n",
    " 'HOUSING_MEDIAN_AGE',\n",
    " 'TOTAL_ROOMS',\n",
    " 'TOTAL_BEDROOMS',\n",
    " 'POPULATION',\n",
    " 'HOUSEHOLDS',\n",
    " 'MEDIAN_INCOME',\n",
    " 'MEDIAN_HOUSE_VALUE',\n",
    " 'OCEAN_PROXIMITY']"
   ]
  },
  {
   "cell_type": "code",
   "execution_count": 66,
   "metadata": {},
   "outputs": [
    {
     "data": {
      "text/html": [
       "<div>\n",
       "<style scoped>\n",
       "    .dataframe tbody tr th:only-of-type {\n",
       "        vertical-align: middle;\n",
       "    }\n",
       "\n",
       "    .dataframe tbody tr th {\n",
       "        vertical-align: top;\n",
       "    }\n",
       "\n",
       "    .dataframe thead th {\n",
       "        text-align: right;\n",
       "    }\n",
       "</style>\n",
       "<table border=\"1\" class=\"dataframe\">\n",
       "  <thead>\n",
       "    <tr style=\"text-align: right;\">\n",
       "      <th></th>\n",
       "      <th>LONGITUDE</th>\n",
       "      <th>LATITUDE</th>\n",
       "      <th>HOUSING_MEDIAN_AGE</th>\n",
       "      <th>TOTAL_ROOMS</th>\n",
       "      <th>TOTAL_BEDROOMS</th>\n",
       "      <th>POPULATION</th>\n",
       "      <th>HOUSEHOLDS</th>\n",
       "      <th>MEDIAN_INCOME</th>\n",
       "      <th>MEDIAN_HOUSE_VALUE</th>\n",
       "      <th>OCEAN_PROXIMITY</th>\n",
       "    </tr>\n",
       "  </thead>\n",
       "  <tbody>\n",
       "    <tr>\n",
       "      <th>0</th>\n",
       "      <td>-122.23</td>\n",
       "      <td>37.88</td>\n",
       "      <td>41.0</td>\n",
       "      <td>880.0</td>\n",
       "      <td>129.0</td>\n",
       "      <td>322.0</td>\n",
       "      <td>126.0</td>\n",
       "      <td>8.3252</td>\n",
       "      <td>452600.0</td>\n",
       "      <td>NEAR BAY</td>\n",
       "    </tr>\n",
       "    <tr>\n",
       "      <th>1</th>\n",
       "      <td>-122.22</td>\n",
       "      <td>37.86</td>\n",
       "      <td>21.0</td>\n",
       "      <td>7099.0</td>\n",
       "      <td>1106.0</td>\n",
       "      <td>2401.0</td>\n",
       "      <td>1138.0</td>\n",
       "      <td>8.3014</td>\n",
       "      <td>358500.0</td>\n",
       "      <td>NEAR BAY</td>\n",
       "    </tr>\n",
       "    <tr>\n",
       "      <th>2</th>\n",
       "      <td>-122.24</td>\n",
       "      <td>37.85</td>\n",
       "      <td>52.0</td>\n",
       "      <td>1467.0</td>\n",
       "      <td>190.0</td>\n",
       "      <td>496.0</td>\n",
       "      <td>177.0</td>\n",
       "      <td>7.2574</td>\n",
       "      <td>352100.0</td>\n",
       "      <td>NEAR BAY</td>\n",
       "    </tr>\n",
       "    <tr>\n",
       "      <th>3</th>\n",
       "      <td>-122.25</td>\n",
       "      <td>37.85</td>\n",
       "      <td>52.0</td>\n",
       "      <td>1274.0</td>\n",
       "      <td>235.0</td>\n",
       "      <td>558.0</td>\n",
       "      <td>219.0</td>\n",
       "      <td>5.6431</td>\n",
       "      <td>341300.0</td>\n",
       "      <td>NEAR BAY</td>\n",
       "    </tr>\n",
       "    <tr>\n",
       "      <th>4</th>\n",
       "      <td>-122.25</td>\n",
       "      <td>37.85</td>\n",
       "      <td>52.0</td>\n",
       "      <td>1627.0</td>\n",
       "      <td>280.0</td>\n",
       "      <td>565.0</td>\n",
       "      <td>259.0</td>\n",
       "      <td>3.8462</td>\n",
       "      <td>342200.0</td>\n",
       "      <td>NEAR BAY</td>\n",
       "    </tr>\n",
       "  </tbody>\n",
       "</table>\n",
       "</div>"
      ],
      "text/plain": [
       "   LONGITUDE  LATITUDE  HOUSING_MEDIAN_AGE  TOTAL_ROOMS  TOTAL_BEDROOMS  \\\n",
       "0    -122.23     37.88                41.0        880.0           129.0   \n",
       "1    -122.22     37.86                21.0       7099.0          1106.0   \n",
       "2    -122.24     37.85                52.0       1467.0           190.0   \n",
       "3    -122.25     37.85                52.0       1274.0           235.0   \n",
       "4    -122.25     37.85                52.0       1627.0           280.0   \n",
       "\n",
       "   POPULATION  HOUSEHOLDS  MEDIAN_INCOME  MEDIAN_HOUSE_VALUE OCEAN_PROXIMITY  \n",
       "0       322.0       126.0         8.3252            452600.0        NEAR BAY  \n",
       "1      2401.0      1138.0         8.3014            358500.0        NEAR BAY  \n",
       "2       496.0       177.0         7.2574            352100.0        NEAR BAY  \n",
       "3       558.0       219.0         5.6431            341300.0        NEAR BAY  \n",
       "4       565.0       259.0         3.8462            342200.0        NEAR BAY  "
      ]
     },
     "execution_count": 66,
     "metadata": {},
     "output_type": "execute_result"
    }
   ],
   "source": [
    "data.head()"
   ]
  },
  {
   "cell_type": "markdown",
   "metadata": {},
   "source": [
    "Now let's create a connection.\n",
    "\n",
    "We will pass the dictionary containing the name and values of the parameters from config.py to the session.builder.configs method to return a object with the parameters to call th create method and stablish connection."
   ]
  },
  {
   "cell_type": "code",
   "execution_count": 2,
   "metadata": {},
   "outputs": [],
   "source": [
    "session = Session.builder.configs(snowflake_conn_prop).create()\n"
   ]
  },
  {
   "cell_type": "markdown",
   "metadata": {},
   "source": [
    "To create our environment in snowflake you can load different variables with the rolename, database, schema, warehouse name and create them running SQL in Snowflake with the session.sql command. You can update these to adapt your snowflake environment, just make sure the role has create priviledges for the database.\n",
    "Snowpark operations are lazy, which means that to trigger queries you need to call and action function, like the collect function.\n"
   ]
  },
  {
   "cell_type": "code",
   "execution_count": 3,
   "metadata": {},
   "outputs": [
    {
     "data": {
      "text/plain": [
       "[Row(status='Statement executed successfully.')]"
      ]
     },
     "execution_count": 3,
     "metadata": {},
     "output_type": "execute_result"
    }
   ],
   "source": [
    "rolename = \"SYSADMIN\"\n",
    "dbname = \"DEMO\"\n",
    "schemaname = \"TEST\"\n",
    "warehouse = \"HOUSING_LAB_SNOW\"\n",
    "\n",
    "session.sql(f\"USE ROLE {rolename}\").collect()"
   ]
  },
  {
   "cell_type": "code",
   "execution_count": 7,
   "metadata": {},
   "outputs": [
    {
     "data": {
      "text/plain": [
       "[Row(status='HOUSING_LAB_SNOW already exists, statement succeeded.')]"
      ]
     },
     "execution_count": 7,
     "metadata": {},
     "output_type": "execute_result"
    }
   ],
   "source": [
    "#  Create a database, schema, warehouse)\n",
    "session.sql(f\"CREATE DATABASE IF NOT EXISTS {dbname}\").collect()\n",
    "session.sql(f\"CREATE SCHEMA IF NOT EXISTS {dbname}.{schemaname}\").collect()\n",
    "session.sql(f\"CREATE WAREHOUSE  IF NOT EXISTS {warehouse} \\\n",
    "                WAREHOUSE_SIZE = 'Large' \\\n",
    "                AUTO_SUSPEND = 300 \\\n",
    "                AUTO_RESUME = TRUE \\\n",
    "                MIN_CLUSTER_COUNT = 1 \\\n",
    "                MAX_CLUSTER_COUNT = 3 \\\n",
    "                SCALING_POLICY = 'STANDARD' \").collect()"
   ]
  },
  {
   "cell_type": "code",
   "execution_count": 4,
   "metadata": {},
   "outputs": [
    {
     "data": {
      "text/plain": [
       "[Row(status='Statement executed successfully.')]"
      ]
     },
     "execution_count": 4,
     "metadata": {},
     "output_type": "execute_result"
    }
   ],
   "source": [
    "session.sql(f\"USE WAREHOUSE {warehouse}\").collect()\n",
    "session.sql(f\"USE SCHEMA {dbname}.{schemaname}\").collect()"
   ]
  },
  {
   "cell_type": "code",
   "execution_count": 5,
   "metadata": {},
   "outputs": [
    {
     "name": "stdout",
     "output_type": "stream",
     "text": [
      "[Row(CURRENT_WAREHOUSE()='HOUSING_LAB_SNOW', CURRENT_DATABASE()='DEMO', CURRENT_SCHEMA()='TEST')]\n"
     ]
    }
   ],
   "source": [
    "print(session.sql('select current_warehouse(), current_database(), current_schema()').collect())"
   ]
  },
  {
   "cell_type": "code",
   "execution_count": 6,
   "metadata": {},
   "outputs": [],
   "source": [
    "session.add_packages('snowflake-snowpark-python', 'scikit-learn', 'pandas', 'numpy', 'joblib', 'cachetools', 'xgboost')"
   ]
  },
  {
   "cell_type": "markdown",
   "metadata": {},
   "source": [
    "Now, to explain the whole process, we will load our csv into Snowflake and use it for our analysis, in your case the data might already be in Snowflake.\n",
    "\n",
    "The following variable names contain our file name, in this case, housing.csv, the name of the stage for the file, model and UDF, and the raw table name.\n",
    "\n",
    "The session.fle.put command will load the file in the stage, \n",
    "\n",
    "Note: for this example it's important to have our file in the same folder as the notebook.\n",
    "\n"
   ]
  },
  {
   "cell_type": "code",
   "execution_count": 72,
   "metadata": {},
   "outputs": [],
   "source": [
    "filename = \"housing.csv\"\n",
    "stagename = \"rawdata\"\n",
    "model_stage = \"models\"\n",
    "rawtable = \"housing\"\n",
    "udf=\"udf\""
   ]
  },
  {
   "cell_type": "code",
   "execution_count": 52,
   "metadata": {},
   "outputs": [
    {
     "data": {
      "text/plain": [
       "[PutResult(source='housing.csv', target='housing.csv.gz', source_size=1423529, target_size=396000, source_compression='NONE', target_compression='GZIP', status='UPLOADED', message='')]"
      ]
     },
     "execution_count": 52,
     "metadata": {},
     "output_type": "execute_result"
    }
   ],
   "source": [
    "# Create Snowflake stage\n",
    "session.sql(f\"create or replace stage {stagename} DIRECTORY = (ENABLE = TRUE);\").collect()\n",
    "\n",
    "# Put the file in the stage\n",
    "session.file.put(filename,stagename)"
   ]
  },
  {
   "cell_type": "code",
   "execution_count": 82,
   "metadata": {},
   "outputs": [
    {
     "data": {
      "text/plain": [
       "[Row(status='Stage area UDF successfully created.')]"
      ]
     },
     "execution_count": 82,
     "metadata": {},
     "output_type": "execute_result"
    }
   ],
   "source": [
    "session.sql(f\"create or replace stage {model_stage} DIRECTORY = (ENABLE = TRUE) copy_options = (on_error='skip_file');\").collect()\n",
    "session.sql(f\"create or replace stage {udf} copy_options = (on_error='skip_file');\").collect()"
   ]
  },
  {
   "cell_type": "markdown",
   "metadata": {},
   "source": [
    "Let's create our schema by using a SructType containing names of the columns and data types of such columns, then we'll call the schema property to return an object configured to read files containing the specified fields and with the options property we define the format fields like compressions, field delimiter, type and skipping the header, with the csv option we define the location of our file in the stage and then the copy into creates our table."
   ]
  },
  {
   "cell_type": "code",
   "execution_count": null,
   "metadata": {},
   "outputs": [],
   "source": [
    "schema_for_data_file = StructType([\n",
    "    StructField(\"longitude\",IntegerType()),\n",
    "    StructField(\"latitude\",IntegerType()),\n",
    "    StructField(\"housing_median_age\",IntegerType()),\n",
    "    StructField(\"total_rooms\",IntegerType()),\n",
    "    StructField(\"total_bedrooms\",IntegerType()),\n",
    "    StructField(\"population\",IntegerType()),\n",
    "    StructField(\"households\",IntegerType()),\n",
    "    StructField(\"median_income\",IntegerType()),\n",
    "    StructField(\"median_house_value\",IntegerType()),\n",
    "    StructField(\"ocean_proximity\",StringType())])\n"
   ]
  },
  {
   "cell_type": "code",
   "execution_count": 54,
   "metadata": {},
   "outputs": [],
   "source": [
    "csv_reader=session.read.schema(schema_for_data_file)"
   ]
  },
  {
   "cell_type": "code",
   "execution_count": 55,
   "metadata": {},
   "outputs": [],
   "source": [
    "format_options={\"compression\": \"gzip\",  \"type\" : \"csv\", \"field_delimiter\" : \",\",\"skip_header\": 1}\n",
    "csv_reader=csv_reader.options(format_options)"
   ]
  },
  {
   "cell_type": "code",
   "execution_count": 56,
   "metadata": {},
   "outputs": [],
   "source": [
    "df = csv_reader.csv(\"@rawdata/housing.csv.gz\")"
   ]
  },
  {
   "cell_type": "code",
   "execution_count": 57,
   "metadata": {},
   "outputs": [
    {
     "data": {
      "text/plain": [
       "[Row(status='HOUSING successfully dropped.')]"
      ]
     },
     "execution_count": 57,
     "metadata": {},
     "output_type": "execute_result"
    }
   ],
   "source": [
    "# In case you already have a table there\n",
    "\n",
    "drop_result = session.sql(f\"drop table if exists {rawtable}\").collect() \n",
    "drop_result"
   ]
  },
  {
   "cell_type": "code",
   "execution_count": 58,
   "metadata": {},
   "outputs": [],
   "source": [
    "df_table=df.copy_into_table(\"housing\",format_type_options=format_options ,force=True)"
   ]
  },
  {
   "cell_type": "code",
   "execution_count": 59,
   "metadata": {},
   "outputs": [
    {
     "name": "stdout",
     "output_type": "stream",
     "text": [
      "CPU times: user 620 ms, sys: 56.6 ms, total: 676 ms\n",
      "Wall time: 3.12 s\n"
     ]
    },
    {
     "data": {
      "text/html": [
       "<div>\n",
       "<style scoped>\n",
       "    .dataframe tbody tr th:only-of-type {\n",
       "        vertical-align: middle;\n",
       "    }\n",
       "\n",
       "    .dataframe tbody tr th {\n",
       "        vertical-align: top;\n",
       "    }\n",
       "\n",
       "    .dataframe thead th {\n",
       "        text-align: right;\n",
       "    }\n",
       "</style>\n",
       "<table border=\"1\" class=\"dataframe\">\n",
       "  <thead>\n",
       "    <tr style=\"text-align: right;\">\n",
       "      <th></th>\n",
       "      <th>LONGITUDE</th>\n",
       "      <th>LATITUDE</th>\n",
       "      <th>HOUSING_MEDIAN_AGE</th>\n",
       "      <th>TOTAL_ROOMS</th>\n",
       "      <th>TOTAL_BEDROOMS</th>\n",
       "      <th>POPULATION</th>\n",
       "      <th>HOUSEHOLDS</th>\n",
       "      <th>MEDIAN_INCOME</th>\n",
       "      <th>MEDIAN_HOUSE_VALUE</th>\n",
       "      <th>OCEAN_PROXIMITY</th>\n",
       "    </tr>\n",
       "  </thead>\n",
       "  <tbody>\n",
       "    <tr>\n",
       "      <th>0</th>\n",
       "      <td>-122</td>\n",
       "      <td>38</td>\n",
       "      <td>41</td>\n",
       "      <td>880</td>\n",
       "      <td>129.0</td>\n",
       "      <td>322</td>\n",
       "      <td>126</td>\n",
       "      <td>8</td>\n",
       "      <td>452600</td>\n",
       "      <td>NEAR BAY</td>\n",
       "    </tr>\n",
       "    <tr>\n",
       "      <th>1</th>\n",
       "      <td>-122</td>\n",
       "      <td>38</td>\n",
       "      <td>21</td>\n",
       "      <td>7099</td>\n",
       "      <td>1106.0</td>\n",
       "      <td>2401</td>\n",
       "      <td>1138</td>\n",
       "      <td>8</td>\n",
       "      <td>358500</td>\n",
       "      <td>NEAR BAY</td>\n",
       "    </tr>\n",
       "    <tr>\n",
       "      <th>2</th>\n",
       "      <td>-122</td>\n",
       "      <td>38</td>\n",
       "      <td>52</td>\n",
       "      <td>1467</td>\n",
       "      <td>190.0</td>\n",
       "      <td>496</td>\n",
       "      <td>177</td>\n",
       "      <td>7</td>\n",
       "      <td>352100</td>\n",
       "      <td>NEAR BAY</td>\n",
       "    </tr>\n",
       "    <tr>\n",
       "      <th>3</th>\n",
       "      <td>-122</td>\n",
       "      <td>38</td>\n",
       "      <td>52</td>\n",
       "      <td>1274</td>\n",
       "      <td>235.0</td>\n",
       "      <td>558</td>\n",
       "      <td>219</td>\n",
       "      <td>6</td>\n",
       "      <td>341300</td>\n",
       "      <td>NEAR BAY</td>\n",
       "    </tr>\n",
       "    <tr>\n",
       "      <th>4</th>\n",
       "      <td>-122</td>\n",
       "      <td>38</td>\n",
       "      <td>52</td>\n",
       "      <td>1627</td>\n",
       "      <td>280.0</td>\n",
       "      <td>565</td>\n",
       "      <td>259</td>\n",
       "      <td>4</td>\n",
       "      <td>342200</td>\n",
       "      <td>NEAR BAY</td>\n",
       "    </tr>\n",
       "  </tbody>\n",
       "</table>\n",
       "</div>"
      ],
      "text/plain": [
       "   LONGITUDE  LATITUDE  HOUSING_MEDIAN_AGE  TOTAL_ROOMS  TOTAL_BEDROOMS  \\\n",
       "0       -122        38                  41          880           129.0   \n",
       "1       -122        38                  21         7099          1106.0   \n",
       "2       -122        38                  52         1467           190.0   \n",
       "3       -122        38                  52         1274           235.0   \n",
       "4       -122        38                  52         1627           280.0   \n",
       "\n",
       "   POPULATION  HOUSEHOLDS  MEDIAN_INCOME  MEDIAN_HOUSE_VALUE OCEAN_PROXIMITY  \n",
       "0         322         126              8              452600        NEAR BAY  \n",
       "1        2401        1138              8              358500        NEAR BAY  \n",
       "2         496         177              7              352100        NEAR BAY  \n",
       "3         558         219              6              341300        NEAR BAY  \n",
       "4         565         259              4              342200        NEAR BAY  "
      ]
     },
     "execution_count": 59,
     "metadata": {},
     "output_type": "execute_result"
    }
   ],
   "source": [
    "%%time\n",
    "\n",
    "housing_snowflake = session.table('housing')\n",
    "\n",
    "pd.pandas.set_option('display.max_columns', None)\n",
    "\n",
    "data = housing_snowflake.toPandas()\n",
    "data.head()"
   ]
  },
  {
   "cell_type": "code",
   "execution_count": 107,
   "metadata": {},
   "outputs": [
    {
     "name": "stdout",
     "output_type": "stream",
     "text": [
      "<class 'pandas.core.frame.DataFrame'>\n",
      "RangeIndex: 20640 entries, 0 to 20639\n",
      "Data columns (total 10 columns):\n",
      " #   Column              Non-Null Count  Dtype  \n",
      "---  ------              --------------  -----  \n",
      " 0   LONGITUDE           20640 non-null  float64\n",
      " 1   LATITUDE            20640 non-null  float64\n",
      " 2   HOUSING_MEDIAN_AGE  20640 non-null  float64\n",
      " 3   TOTAL_ROOMS         20640 non-null  float64\n",
      " 4   TOTAL_BEDROOMS      20433 non-null  float64\n",
      " 5   POPULATION          20640 non-null  float64\n",
      " 6   HOUSEHOLDS          20640 non-null  float64\n",
      " 7   MEDIAN_INCOME       20640 non-null  float64\n",
      " 8   MEDIAN_HOUSE_VALUE  20640 non-null  float64\n",
      " 9   OCEAN_PROXIMITY     20640 non-null  object \n",
      "dtypes: float64(9), object(1)\n",
      "memory usage: 1.6+ MB\n"
     ]
    }
   ],
   "source": [
    "data.info()"
   ]
  },
  {
   "cell_type": "markdown",
   "metadata": {},
   "source": [
    "## Perform Exploratory Data Analysis (EDA)"
   ]
  },
  {
   "cell_type": "markdown",
   "metadata": {},
   "source": [
    "Now that we have our data in Snowflake we can decide if we want to work with Snowpark python or with our preferred Python native libraries like numpy and pandas, but Snowpark offers the ability to run most of the analysis in Snowflake, preventing your data to leave your database.\n",
    "\n",
    "We will perform a quick visual EDA starting with a histogram on numeric variables to see how our data is represented.\n",
    "\n",
    "At first glance we can see that this attributes have very different ranges, we will work on this when we create our Snowpark function and do feature scaling with our transformation pipeline."
   ]
  },
  {
   "cell_type": "code",
   "execution_count": 70,
   "metadata": {},
   "outputs": [
    {
     "data": {
      "image/png": "[encoded data removed]",
      "text/plain": [
       "<Figure size 1440x1080 with 9 Axes>"
      ]
     },
     "metadata": {
      "needs_background": "light"
     },
     "output_type": "display_data"
    }
   ],
   "source": [
    "data.hist(bins=50, figsize=(20,15))\n",
    "plt.show()"
   ]
  },
  {
   "cell_type": "code",
   "execution_count": 26,
   "metadata": {},
   "outputs": [
    {
     "name": "stdout",
     "output_type": "stream",
     "text": [
      "['OCEAN_PROXIMITY']\n",
      "['LONGITUDE', 'LATITUDE', 'HOUSING_MEDIAN_AGE', 'TOTAL_ROOMS', 'TOTAL_BEDROOMS', 'POPULATION', 'HOUSEHOLDS', 'MEDIAN_INCOME', 'MEDIAN_HOUSE_VALUE']\n"
     ]
    }
   ],
   "source": [
    "cat_vars = [var for var in data.columns if ((data[var].dtype == 'O') or (data[var].dtype==\"bool\"))]\n",
    "print(cat_vars)\n",
    "\n",
    "num_vars = [var for var in data.columns if var not in cat_vars]\n",
    "print(num_vars)\n"
   ]
  },
  {
   "cell_type": "markdown",
   "metadata": {},
   "source": [
    "\n",
    "Median income is an important predictor for median housing prices, so we will create a new attribute with pd.cut() called INCOME_CAT, that will define 5 categories (labeled from 1 to 5) based on Median_INCOME cuts. "
   ]
  },
  {
   "cell_type": "code",
   "execution_count": 27,
   "metadata": {},
   "outputs": [],
   "source": [
    "data[\"INCOME_CAT\"] = pd.cut(data[\"MEDIAN_INCOME\"],\n",
    " bins=[0., 1.5, 3.0, 4.5, 6., np.inf],\n",
    " labels=[1, 2, 3, 4, 5])"
   ]
  },
  {
   "cell_type": "markdown",
   "metadata": {},
   "source": [
    "Then some clean up is required, we will run code detect null values in our dataset."
   ]
  },
  {
   "cell_type": "code",
   "execution_count": 28,
   "metadata": {},
   "outputs": [],
   "source": [
    "vars_with_na = [var for var in data.columns if data[var].isnull().sum() > 0]\n",
    "\n",
    "mean_val=data[vars_with_na].isnull().sum().sort_values(ascending=False)\n",
    "sum_val=data[vars_with_na].isnull().mean().sort_values(ascending=False)\n"
   ]
  },
  {
   "cell_type": "markdown",
   "metadata": {},
   "source": [
    "Variables TOTAL_BEDROOMS and INCOME_CAT have 207 and 12 null values respectively."
   ]
  },
  {
   "cell_type": "code",
   "execution_count": 29,
   "metadata": {},
   "outputs": [
    {
     "data": {
      "text/html": [
       "<div>\n",
       "<style scoped>\n",
       "    .dataframe tbody tr th:only-of-type {\n",
       "        vertical-align: middle;\n",
       "    }\n",
       "\n",
       "    .dataframe tbody tr th {\n",
       "        vertical-align: top;\n",
       "    }\n",
       "\n",
       "    .dataframe thead th {\n",
       "        text-align: right;\n",
       "    }\n",
       "</style>\n",
       "<table border=\"1\" class=\"dataframe\">\n",
       "  <thead>\n",
       "    <tr style=\"text-align: right;\">\n",
       "      <th></th>\n",
       "      <th>sum</th>\n",
       "      <th>mean</th>\n",
       "    </tr>\n",
       "  </thead>\n",
       "  <tbody>\n",
       "    <tr>\n",
       "      <th>TOTAL_BEDROOMS</th>\n",
       "      <td>207</td>\n",
       "      <td>0.010029</td>\n",
       "    </tr>\n",
       "  </tbody>\n",
       "</table>\n",
       "</div>"
      ],
      "text/plain": [
       "                sum      mean\n",
       "TOTAL_BEDROOMS  207  0.010029"
      ]
     },
     "execution_count": 29,
     "metadata": {},
     "output_type": "execute_result"
    }
   ],
   "source": [
    "pd.concat([mean_val.rename('sum'),sum_val.rename('mean')],axis=1)"
   ]
  },
  {
   "cell_type": "code",
   "execution_count": 30,
   "metadata": {},
   "outputs": [
    {
     "name": "stdout",
     "output_type": "stream",
     "text": [
      "<class 'pandas.core.frame.DataFrame'>\n",
      "RangeIndex: 20640 entries, 0 to 20639\n",
      "Data columns (total 11 columns):\n",
      " #   Column              Non-Null Count  Dtype   \n",
      "---  ------              --------------  -----   \n",
      " 0   LONGITUDE           20640 non-null  float64 \n",
      " 1   LATITUDE            20640 non-null  float64 \n",
      " 2   HOUSING_MEDIAN_AGE  20640 non-null  float64 \n",
      " 3   TOTAL_ROOMS         20640 non-null  float64 \n",
      " 4   TOTAL_BEDROOMS      20433 non-null  float64 \n",
      " 5   POPULATION          20640 non-null  float64 \n",
      " 6   HOUSEHOLDS          20640 non-null  float64 \n",
      " 7   MEDIAN_INCOME       20640 non-null  float64 \n",
      " 8   MEDIAN_HOUSE_VALUE  20640 non-null  float64 \n",
      " 9   OCEAN_PROXIMITY     20640 non-null  object  \n",
      " 10  INCOME_CAT          20640 non-null  category\n",
      "dtypes: category(1), float64(9), object(1)\n",
      "memory usage: 1.6+ MB\n"
     ]
    }
   ],
   "source": [
    "data.info()"
   ]
  },
  {
   "cell_type": "markdown",
   "metadata": {},
   "source": [
    "In this case, for example purposes, we're going to drop the na's but calculating the mean is also an option if the dataset is small and you need each and every row."
   ]
  },
  {
   "cell_type": "code",
   "execution_count": 31,
   "metadata": {},
   "outputs": [],
   "source": [
    "data=data.dropna(subset=['TOTAL_BEDROOMS','INCOME_CAT'])"
   ]
  },
  {
   "cell_type": "code",
   "execution_count": 32,
   "metadata": {},
   "outputs": [
    {
     "name": "stdout",
     "output_type": "stream",
     "text": [
      "<class 'pandas.core.frame.DataFrame'>\n",
      "Int64Index: 20433 entries, 0 to 20639\n",
      "Data columns (total 11 columns):\n",
      " #   Column              Non-Null Count  Dtype   \n",
      "---  ------              --------------  -----   \n",
      " 0   LONGITUDE           20433 non-null  float64 \n",
      " 1   LATITUDE            20433 non-null  float64 \n",
      " 2   HOUSING_MEDIAN_AGE  20433 non-null  float64 \n",
      " 3   TOTAL_ROOMS         20433 non-null  float64 \n",
      " 4   TOTAL_BEDROOMS      20433 non-null  float64 \n",
      " 5   POPULATION          20433 non-null  float64 \n",
      " 6   HOUSEHOLDS          20433 non-null  float64 \n",
      " 7   MEDIAN_INCOME       20433 non-null  float64 \n",
      " 8   MEDIAN_HOUSE_VALUE  20433 non-null  float64 \n",
      " 9   OCEAN_PROXIMITY     20433 non-null  object  \n",
      " 10  INCOME_CAT          20433 non-null  category\n",
      "dtypes: category(1), float64(9), object(1)\n",
      "memory usage: 1.7+ MB\n"
     ]
    }
   ],
   "source": [
    "\n",
    "data.info()"
   ]
  },
  {
   "cell_type": "markdown",
   "metadata": {},
   "source": [
    "Now we will create a dataframe from the pandas dataset and load to snowflake our data without null values. Keep in mind that we performed this analysis in Python directly but you can also use snowpark functions to clear your null values. "
   ]
  },
  {
   "cell_type": "code",
   "execution_count": 45,
   "metadata": {},
   "outputs": [],
   "source": [
    "d2=session.create_dataframe(data)"
   ]
  },
  {
   "cell_type": "code",
   "execution_count": 61,
   "metadata": {},
   "outputs": [],
   "source": [
    "d2.write.mode(\"overwrite\").save_as_table(\"Data_no_nulls\")"
   ]
  },
  {
   "cell_type": "markdown",
   "metadata": {},
   "source": [
    "We're getting into the fun part, testing different machine learning algoritms and see how they perform in our data. \n",
    "\n",
    "We will create a python funtion that encapsulate everything we consider necesary to train our model in Snowflake. \n",
    "\n",
    "The function safe_file will drop our model into Snowflake so that we can call it and use it for inference after our training. \n"
   ]
  },
  {
   "cell_type": "code",
   "execution_count": 7,
   "metadata": {},
   "outputs": [],
   "source": [
    "def save_file(session, model, path):\n",
    "  input_stream = io.BytesIO()\n",
    "  joblib.dump(model, input_stream)\n",
    "  session._conn._cursor.upload_stream(input_stream, path)\n",
    "  return \"successfully created file: \" + path\n"
   ]
  },
  {
   "cell_type": "markdown",
   "metadata": {},
   "source": [
    "The train_model function does exactly that, it trains our  into snowflake with the parameters we choose. \n",
    "\n",
    "The function have the following sections:\n",
    "\n",
    "1. Ingestion: We will take our data cleaned from null values, and put it as a pandas dataframe. \n",
    "\n",
    "2. Split the train and test set: perform a stratified split of our data based on INCOME_CAT, this way we can be sure that our test set has almost the same proportion of income categories than the full dataset. Note: More on why this is important at reference 2 pag. 57 and 58. \n",
    "Then we will save the train and test set and get the data labels.\n",
    "\n",
    "3.  Create a pipeline for numerical and categorical features: Here it's were the transformation process takes place, in summary we need to separate our numerical and categorical features to prepare them for training, in this case we're performing feature scaling to get all variables in the same scale and apply a one hot encoder to convert categories into numbers, fit preprocessing pipeline and the model and then save the model in the MODEL stage as .joblib file. The full_pipeline.transform will apply transformations done in the training set. In this case we will use the Random Forest regressor.\n",
    "\n",
    "\n",
    "4. \n"
   ]
  },
  {
   "cell_type": "code",
   "execution_count": 34,
   "metadata": {},
   "outputs": [],
   "source": [
    "\n",
    "\n",
    "def train_model(session: snowflake.snowpark.Session) -> float:\n",
    "    #1. Ingestion\n",
    "    data_no_nulls = session.table(\"Data_no_nulls\")\n",
    "    data=data_no_nulls.to_pandas()\n",
    "    #2. split the train and test set\n",
    "    split = StratifiedShuffleSplit(n_splits=1, test_size=0.2, random_state=42)\n",
    "    for train_index, test_index in split.split(data, data[\"INCOME_CAT\"]):\n",
    "        strat_train_set = data.iloc[train_index]\n",
    "        strat_test_set = data.iloc[test_index]\n",
    "\n",
    "    # save the train and test sets as time stamped tables in Snowflake \n",
    "    session.create_dataframe(strat_train_set).write.mode(\"overwrite\").save_as_table(\"HOUSING_TRAIN\")\n",
    "    session.create_dataframe(strat_test_set).write.mode(\"overwrite\").save_as_table(\"HOUSING_TEST\")\n",
    "\n",
    "    \n",
    "    data = strat_train_set.drop(['MEDIAN_HOUSE_VALUE', 'INCOME_CAT'], axis=1)\n",
    "    data_labels = strat_train_set[\"MEDIAN_HOUSE_VALUE\"].copy()\n",
    "    housing_test = strat_test_set.drop(\"MEDIAN_HOUSE_VALUE\", axis=1)\n",
    "    housing_test_labels = strat_test_set[\"MEDIAN_HOUSE_VALUE\"].copy()\n",
    " \n",
    "     #3. create a pipeline for numerical and categorical features\n",
    "     \n",
    "    # Get numerical features\n",
    "    housing_num = data.drop(\"OCEAN_PROXIMITY\", axis=1)\n",
    "    num_pipeline = Pipeline([\n",
    "            ('std_scaler', StandardScaler()),\n",
    "        ])\n",
    "\n",
    "    num_attribs = list(housing_num)\n",
    "    cat_attribs = [\"OCEAN_PROXIMITY\"]\n",
    "\n",
    "    preprocessor = ColumnTransformer([\n",
    "            (\"num\", num_pipeline, num_attribs),\n",
    "            (\"cat\", OneHotEncoder(), cat_attribs)\n",
    "        ])\n",
    "\n",
    "    full_pipeline = Pipeline([\n",
    "            ('preprocessor', preprocessor),\n",
    "            ('model', RandomForestRegressor(n_estimators=100, random_state=42)),\n",
    "        ])\n",
    "\n",
    "    # Fit the preprocessing pipeline and the model together\n",
    "    full_pipeline.fit(data, data_labels)\n",
    "\n",
    "    # save the full pipeline including the model\n",
    "    save_file(session, full_pipeline, \"@MODELS/housing_reg.joblib\")\n",
    "\n",
    "    #5 predict on the test set and return the root mean squared error (RMSE)\n",
    "    housing_predictions = full_pipeline.predict(housing_test)\n",
    "    lin_mse = mean_squared_error(housing_test_labels, housing_predictions)\n",
    "    lin_rmse = np.sqrt(lin_mse)\n",
    "    return lin_rmse\n",
    "\n",
    "    #6 Create an instance of StoredProcedure using the sproc() function\n",
    "train_model_sp = sproc(train_model, replace=True, session=session)"
   ]
  },
  {
   "cell_type": "markdown",
   "metadata": {},
   "source": [
    "# Cross validation"
   ]
  },
  {
   "cell_type": "code",
   "execution_count": null,
   "metadata": {},
   "outputs": [],
   "source": [
    "\n",
    "def train_model(session: snowflake.snowpark.Session) -> float:\n",
    "    data_no_nulls = session.table(\"Data_no_nulls\")\n",
    "    data=data_no_nulls.to_pandas()\n",
    "    # split the train and test set\n",
    "    split = StratifiedShuffleSplit(n_splits=1, test_size=0.2, random_state=42)\n",
    "    for train_index, test_index in split.split(data, data[\"INCOME_CAT\"]):\n",
    "        strat_train_set = data.iloc[train_index]\n",
    "        strat_test_set = data.iloc[test_index]\n",
    "    #strat_train_set, strat_test_set = data.random_split([0.8, 0.2], seed=82)\n",
    "\n",
    "    # save the train and test sets as time stamped tables in Snowflake \n",
    "    session.create_dataframe(strat_train_set).write.mode(\"overwrite\").save_as_table(\"HOUSING_TRAIN\")\n",
    "    session.create_dataframe(strat_test_set).write.mode(\"overwrite\").save_as_table(\"HOUSING_TEST\")\n",
    "\n",
    "    \n",
    "    data = strat_train_set.drop(['MEDIAN_HOUSE_VALUE', 'INCOME_CAT'], axis=1)\n",
    "    data_labels = strat_train_set[\"MEDIAN_HOUSE_VALUE\"].copy()\n",
    "    housing_test = strat_test_set.drop(\"MEDIAN_HOUSE_VALUE\", axis=1)\n",
    "    housing_test_labels = strat_test_set[\"MEDIAN_HOUSE_VALUE\"].copy()\n",
    " \n",
    "\n",
    "#best practice of repeated k-fold cross-validation with 3 repeats and 10 folds. Check this fact\n",
    "    cv = RepeatedKFold(n_splits=10, n_repeats=3, random_state=1)\n",
    "    # numerical features\n",
    "    housing_num = data.drop(\"OCEAN_PROXIMITY\", axis=1)\n",
    "    # create a pipeline for numerical features\n",
    "    num_pipeline = Pipeline([\n",
    "    ('std_scaler', StandardScaler()),\n",
    "    ])\n",
    "    data_num_tr = num_pipeline.fit_transform(housing_num)\n",
    "\n",
    "    num_attribs = list(housing_num)\n",
    "    cat_attribs = [\"OCEAN_PROXIMITY\"]\n",
    "    \n",
    "    preprocessor = ColumnTransformer([\n",
    "    (\"num\", num_pipeline, num_attribs),\n",
    "    (\"cat\", OneHotEncoder(), cat_attribs),\n",
    "    ])\n",
    "    \n",
    "    #data_prepared = preprocessor.fit_transform(data)\n",
    "\n",
    "    full_pipeline = Pipeline([\n",
    "            ('preprocessor', preprocessor),\n",
    "            ('model', RandomForestRegressor(n_estimators=100, random_state=42)),\n",
    "        ])\n",
    "    \n",
    "    # fit the preprocessing pipeline and the model together\n",
    "    full_pipeline.fit(data, data_labels)\n",
    "\n",
    "    # save the full pipeline including the model\n",
    "    save_file(session, full_pipeline, \"@MODELS/housing_reg.joblib\")\n",
    "\n",
    "    #best practice of repeated k-fold cross-validation with 3 repeats and 10 folds. Check this fact\n",
    "    cv = RepeatedKFold(n_splits=10, n_repeats=3, random_state=1)\n",
    "    \n",
    "    linear_scores = cross_val_score(full_pipeline, data, data_labels, scoring=\"neg_mean_squared_error\", cv=cv)\n",
    "    linear_rmse_scores = np.sqrt(-linear_scores)\n",
    "\n",
    "    session.create_dataframe(pd.DataFrame(linear_rmse_scores, columns=['Scores'])).write.mode(\"overwrite\").save_as_table(\"Results\")\n",
    "    return linear_rmse_scores.mean()\n",
    "\n",
    "# Create an instance of StoredProcedure using the sproc() function\n",
    "train_model_sp = sproc(train_model, replace=True,session=session)"
   ]
  },
  {
   "cell_type": "markdown",
   "metadata": {},
   "source": [
    "# Parameter tunning"
   ]
  },
  {
   "cell_type": "code",
   "execution_count": 25,
   "metadata": {},
   "outputs": [],
   "source": [
    "\n",
    "def train_model(session: snowflake.snowpark.Session) -> float:\n",
    "    data_no_nulls = session.table(\"Data_no_nulls\")\n",
    "    data=data_no_nulls.to_pandas()\n",
    "    # split the train and test set\n",
    "    split = StratifiedShuffleSplit(n_splits=1, test_size=0.2, random_state=42)\n",
    "    for train_index, test_index in split.split(data, data[\"INCOME_CAT\"]):\n",
    "        strat_train_set = data.iloc[train_index]\n",
    "        strat_test_set = data.iloc[test_index]\n",
    "    #strat_train_set, strat_test_set = data.random_split([0.8, 0.2], seed=82)\n",
    "\n",
    "    # save the train and test sets as time stamped tables in Snowflake \n",
    "    session.create_dataframe(strat_train_set).write.mode(\"overwrite\").save_as_table(\"HOUSING_TRAIN\")\n",
    "    session.create_dataframe(strat_test_set).write.mode(\"overwrite\").save_as_table(\"HOUSING_TEST\")\n",
    "\n",
    "    \n",
    "    data = strat_train_set.drop(['MEDIAN_HOUSE_VALUE', 'INCOME_CAT'], axis=1)\n",
    "    data_labels = strat_train_set[\"MEDIAN_HOUSE_VALUE\"].copy()\n",
    "    housing_test = strat_test_set.drop(\"MEDIAN_HOUSE_VALUE\", axis=1)\n",
    "    housing_test_labels = strat_test_set[\"MEDIAN_HOUSE_VALUE\"].copy()\n",
    "\n",
    "#best practice of repeated k-fold cross-validation with 3 repeats and 10 folds. Check this fact\n",
    "    cv = RepeatedKFold(n_splits=10, n_repeats=3, random_state=1)\n",
    "    # numerical features\n",
    "    housing_num = data.drop(\"OCEAN_PROXIMITY\", axis=1)\n",
    "    # create a pipeline for numerical features\n",
    "    num_pipeline = Pipeline([\n",
    "    ('std_scaler', StandardScaler()),\n",
    "    ])\n",
    "    data_num_tr = num_pipeline.fit_transform(housing_num)\n",
    "\n",
    "    num_attribs = list(housing_num)\n",
    "    cat_attribs = [\"OCEAN_PROXIMITY\"]\n",
    "    \n",
    "    preprocessor = ColumnTransformer([\n",
    "    (\"num\", num_pipeline, num_attribs),\n",
    "    (\"cat\", OneHotEncoder(), cat_attribs),\n",
    "    ])\n",
    "    #data_prepared = preprocessor.fit_transform(data)\n",
    "    full_pipeline = Pipeline([\n",
    "            ('preprocessor', preprocessor),\n",
    "            ('model', RandomForestRegressor(random_state=42)),\n",
    "        ])\n",
    "    \n",
    "    # fit the preprocessing pipeline and the model together\n",
    "    full_pipeline.fit(data, data_labels)\n",
    "\n",
    "    # save the full pipeline including the model\n",
    "    save_file(session, full_pipeline, \"@MODELS/housing_reg.joblib\")\n",
    "\n",
    "    #best practice of repeated k-fold cross-validation with 3 repeats and 10 folds. Check this fact\n",
    "    rf_param_distribs = {'model__n_estimators': [int(x) for x in np.linspace(start = 1, stop = 20, num = 20)],\n",
    "    'model__max_features': ['auto', 'sqrt'],\n",
    "    'model__max_depth': [int(x) for x in np.linspace(10, 120, num = 12)],\n",
    "    'model__min_samples_split': [2, 6, 10],\n",
    "    'model__min_samples_leaf':[1, 3, 4],\n",
    "    'model__bootstrap': [True, False]}\n",
    "    \n",
    "    random_search = RandomizedSearchCV(full_pipeline, param_distributions=rf_param_distribs,\n",
    "                                n_iter=50, cv=cv, scoring='neg_mean_squared_error',\n",
    "                                verbose=1, random_state=42)\n",
    "\n",
    "    random_search.fit(data, data_labels)\n",
    "    \n",
    "    negative_mse = random_search.best_score_\n",
    "    rmse = np.sqrt(-negative_mse)\n",
    "    #session.create_dataframe(pd.DataFrame(negative_mse, columns=['Scores'])).write.mode(\"overwrite\").save_as_table(\"Results\")\n",
    "    return rmse\n",
    "\n"
   ]
  },
  {
   "cell_type": "code",
   "execution_count": 23,
   "metadata": {},
   "outputs": [],
   "source": [
    "\n",
    "def train_model(session: snowflake.snowpark.Session, table:str, params_distr:dict, algorithm:str) -> float:\n",
    "        models_select= {}\n",
    "        xgb= XGBRegressor(nthreads=1, random_state=42)\n",
    "        forest= RandomForestRegressor(random_state=42)   \n",
    "        models_select[\"xgb\"] = xgb\n",
    "        models_select[\"forest\"] = forest\n",
    "        \n",
    "        data_no_nulls = session.table(table)\n",
    "        data=data_no_nulls.to_pandas()\n",
    "        # split the train and test set\n",
    "        split = StratifiedShuffleSplit(n_splits=1, test_size=0.2, random_state=42)\n",
    "        for train_index, test_index in split.split(data, data[\"INCOME_CAT\"]):\n",
    "            strat_train_set = data.iloc[train_index]\n",
    "            strat_test_set = data.iloc[test_index]\n",
    "        #strat_train_set, strat_test_set = data.random_split([0.8, 0.2], seed=82)\n",
    "\n",
    "        # save the train and test sets as time stamped tables in Snowflake \n",
    "        session.create_dataframe(strat_train_set).write.mode(\"overwrite\").save_as_table(\"HOUSING_TRAIN\")\n",
    "        session.create_dataframe(strat_test_set).write.mode(\"overwrite\").save_as_table(\"HOUSING_TEST\")\n",
    "\n",
    "        \n",
    "        data = strat_train_set.drop(['MEDIAN_HOUSE_VALUE', 'INCOME_CAT'], axis=1)\n",
    "        data_labels = strat_train_set[\"MEDIAN_HOUSE_VALUE\"].copy()\n",
    "        housing_test = strat_test_set.drop(\"MEDIAN_HOUSE_VALUE\", axis=1)\n",
    "        housing_test_labels = strat_test_set[\"MEDIAN_HOUSE_VALUE\"].copy()\n",
    "\n",
    "    #best practice of repeated k-fold cross-validation with 3 repeats and 10 folds. Check this fact\n",
    "        cv = RepeatedKFold(n_splits=5, n_repeats=3, random_state=1)\n",
    "        # numerical features\n",
    "        housing_num = data.drop(\"OCEAN_PROXIMITY\", axis=1)\n",
    "        # create a pipeline for numerical features\n",
    "        num_pipeline = Pipeline([\n",
    "        ('std_scaler', StandardScaler()),\n",
    "        ])\n",
    "        data_num_tr = num_pipeline.fit_transform(housing_num)\n",
    "\n",
    "        num_attribs = list(housing_num)\n",
    "        cat_attribs = [\"OCEAN_PROXIMITY\"]\n",
    "        \n",
    "        preprocessor = ColumnTransformer([\n",
    "        (\"num\", num_pipeline, num_attribs),\n",
    "        (\"cat\", OneHotEncoder(), cat_attribs),\n",
    "        ])\n",
    "        #data_prepared = preprocessor.fit_transform(data)\n",
    "        full_pipeline = Pipeline([\n",
    "                ('preprocessor', preprocessor),\n",
    "                ('model', models_select[algorithm]),\n",
    "            ])\n",
    "        \n",
    "        # fit the preprocessing pipeline and the model together\n",
    "        full_pipeline.fit(data, data_labels)\n",
    "\n",
    "        # save the full pipeline including the model\n",
    "        save_file(session, full_pipeline, \"@MODELS/housing_reg.joblib\")\n",
    "\n",
    "        #best practice of repeated k-fold cross-validation with 3 repeats and 10 folds. Check this fact\n",
    "    \n",
    "        \n",
    "        random_search = RandomizedSearchCV(full_pipeline, param_distributions=params_distr,\n",
    "                                    n_iter=50, cv=cv, scoring='neg_mean_squared_error',\n",
    "                                    verbose=1, random_state=42)\n",
    "\n",
    "        random_search.fit(data, data_labels)\n",
    "        \n",
    "        negative_mse = random_search.best_score_\n",
    "        rmse = np.sqrt(-negative_mse)\n",
    "        #session.create_dataframe(pd.DataFrame(negative_mse, columns=['Scores'])).write.mode(\"overwrite\").save_as_table(\"Results\")\n",
    "        return rmse"
   ]
  },
  {
   "cell_type": "code",
   "execution_count": 24,
   "metadata": {},
   "outputs": [],
   "source": [
    "params_distr = {'model__n_estimators': [int(x) for x in np.linspace(start = 1, stop = 20, num = 20)],\n",
    "    'model__max_features': ['auto', 'sqrt'],\n",
    "    'model__max_depth': [int(x) for x in np.linspace(10, 120, num = 12)],\n",
    "    'model__min_samples_split': [2, 6, 10],\n",
    "    'model__min_samples_leaf':[1, 3, 4],\n",
    "    'model__bootstrap': [True, False]}\n",
    "\n",
    "table=\"Data_no_nulls\"\n",
    "\n"
   ]
  },
  {
   "cell_type": "code",
   "execution_count": 10,
   "metadata": {},
   "outputs": [],
   "source": [
    "# Create an instance of StoredProcedure using the sproc() function\n",
    "train_model_sp = sproc(train_model, replace=True, session=session)\n"
   ]
  },
  {
   "cell_type": "code",
   "execution_count": 11,
   "metadata": {},
   "outputs": [
    {
     "data": {
      "text/plain": [
       "59700.080256977235"
      ]
     },
     "execution_count": 11,
     "metadata": {},
     "output_type": "execute_result"
    }
   ],
   "source": [
    "train_model_sp(table,params_distr, \"forest\", session=session)"
   ]
  },
  {
   "cell_type": "markdown",
   "metadata": {},
   "source": [
    "## XGBoost"
   ]
  },
  {
   "cell_type": "code",
   "execution_count": 25,
   "metadata": {},
   "outputs": [],
   "source": [
    "xgb_param_distribs = { \n",
    "            'model__max_depth': [3, 5, 10, 15, 20],\n",
    "           'model__learning_rate': [0.01, 0.2, 0.3],\n",
    "           'model__subsample': [0.5, 0.7, 0.8, 0.9],\n",
    "           'model__colsample_bytree':[ 0.5, 0.7, 0.8, 0.9],\n",
    "           'model__colsample_bylevel': [ 0.5, 0.7, 0.8, 0.9],\n",
    "           'model__n_estimators': [100, 500, 1000]}\n"
   ]
  },
  {
   "cell_type": "code",
   "execution_count": 26,
   "metadata": {},
   "outputs": [
    {
     "data": {
      "text/plain": [
       "[Row(status='Statement executed successfully.')]"
      ]
     },
     "execution_count": 26,
     "metadata": {},
     "output_type": "execute_result"
    }
   ],
   "source": [
    "session.sql(f\"alter warehouse {warehouse} set warehouse_size=XLARGE;\").collect()\n"
   ]
  },
  {
   "cell_type": "code",
   "execution_count": 27,
   "metadata": {},
   "outputs": [
    {
     "name": "stdout",
     "output_type": "stream",
     "text": [
      "CPU times: user 398 ms, sys: 41.8 ms, total: 440 ms\n",
      "Wall time: 48min 11s\n"
     ]
    },
    {
     "data": {
      "text/plain": [
       "56359.97521077821"
      ]
     },
     "execution_count": 27,
     "metadata": {},
     "output_type": "execute_result"
    }
   ],
   "source": [
    "%%time\n",
    "train_model_sp(table,xgb_param_distribs, \"xgb\", session=session)"
   ]
  },
  {
   "cell_type": "markdown",
   "metadata": {},
   "source": [
    "That's better, XGBoost get's us a prediction error of $56949. I think you get the idea at this point, it's important to check different algorithms to see which one can give you best results. "
   ]
  },
  {
   "cell_type": "code",
   "execution_count": null,
   "metadata": {},
   "outputs": [],
   "source": [
    "#session.create_dataframe(pd.DataFrame(linear_rmse_scores, columns=['Scores'])).write.mode(\"overwrite\").save_as_table(\"Results\")\n",
    "session.sql(f\"alter warehouse {warehouse} set warehouse_size=small;\").collect()\n"
   ]
  },
  {
   "cell_type": "markdown",
   "metadata": {},
   "source": [
    "# Deploy the model in Snowflake"
   ]
  },
  {
   "cell_type": "markdown",
   "metadata": {},
   "source": [
    "Once our model is trained and tuned, and we are satisifed with the accuracy, let's proceed to deploy it in Snowflake using python UDFs.\n",
    "\n",
    "First we create a stage to store the artifacts."
   ]
  },
  {
   "cell_type": "code",
   "execution_count": 115,
   "metadata": {},
   "outputs": [
    {
     "name": "stdout",
     "output_type": "stream",
     "text": [
      "[Row(status='MODELSTAGE already exists, statement succeeded.')]\n"
     ]
    }
   ],
   "source": [
    "print(session.sql('create stage if not exists MODELSTAGE').collect())"
   ]
  },
  {
   "cell_type": "markdown",
   "metadata": {},
   "source": [
    "Then we specify the Anaconda packages to install using **session.add_packages**. The **@udf** decorator will package the function as Snowflake Python UDF and save the model into Snowflake's internal stage.\n",
    "\n",
    "\n",
    "The session.table will load a HOUSING sample of 10 rows in snow_df, then we will call the UDF we created \"predict_housing\" with the statement call_udf from the functions library, the array_construct will an array based on our feature and then we will save our table as \"housing_detection\" and call the prediction column \"PREDICTED_HOUSE_VALUE\"."
   ]
  },
  {
   "cell_type": "code",
   "execution_count": 28,
   "metadata": {},
   "outputs": [],
   "source": [
    "\n",
    "# New code\n",
    "import sys\n",
    "import cachetools\n",
    "import os\n",
    "session.add_import(\"@MODELS/housing_reg.joblib\") \n",
    "\n",
    "@cachetools.cached(cache={})\n",
    "def read_file(filename):\n",
    "       import_dir = sys._xoptions.get(\"snowflake_import_directory\")\n",
    "       if import_dir:\n",
    "              with open(os.path.join(import_dir, filename), 'rb') as file:\n",
    "                     m = joblib.load(file)\n",
    "                     return m\n"
   ]
  },
  {
   "cell_type": "code",
   "execution_count": 29,
   "metadata": {},
   "outputs": [],
   "source": [
    "features = ['LONGITUDE', 'LATITUDE', 'HOUSING_MEDIAN_AGE', 'TOTAL_ROOMS',\n",
    "       'TOTAL_BEDROOMS', 'POPULATION', 'HOUSEHOLDS', 'MEDIAN_INCOME', 'OCEAN_PROXIMITY']\n",
    "\n",
    "@udf(name='predict', is_permanent=True, stage_location='@udf', replace=True)\n",
    "def predict(LONGITUDE: float, LATITUDE: float, HOUSING_MEDIAN_AGE: float, TOTAL_ROOMS: float, \n",
    "                    TOTAL_BEDROOMS: float, POPULATION: float, HOUSEHOLDS: float, MEDIAN_INCOME: float, \n",
    "                    OCEAN_PROXIMITY: str) -> float:\n",
    "       m = read_file('housing_reg.joblib')       \n",
    "       row = pd.DataFrame([locals()], columns=features)\n",
    "       return m.predict(row)[0]"
   ]
  },
  {
   "cell_type": "code",
   "execution_count": 30,
   "metadata": {},
   "outputs": [],
   "source": [
    "# New code\n",
    "\n",
    "from snowflake.snowpark import functions as F\n",
    "\n",
    "snowdf_test = session.table(\"HOUSING_TEST\")\n",
    "inputs = snowdf_test.drop(\"MEDIAN_HOUSE_VALUE\", \"INCOME_CAT\")\n",
    "snowdf_results = snowdf_test.select(*inputs,\n",
    "                    predict(*inputs).alias('PREDICTION'), \n",
    "                    (F.col('MEDIAN_HOUSE_VALUE')).alias('ACTUAL_LABEL')\n",
    "                    ).limit(20)\n",
    "                    \n"
   ]
  },
  {
   "cell_type": "markdown",
   "metadata": {},
   "source": [
    "And finally we place the results in a pandas dataframe and display the results."
   ]
  },
  {
   "cell_type": "code",
   "execution_count": 32,
   "metadata": {},
   "outputs": [
    {
     "data": {
      "text/html": [
       "<div>\n",
       "<style scoped>\n",
       "    .dataframe tbody tr th:only-of-type {\n",
       "        vertical-align: middle;\n",
       "    }\n",
       "\n",
       "    .dataframe tbody tr th {\n",
       "        vertical-align: top;\n",
       "    }\n",
       "\n",
       "    .dataframe thead th {\n",
       "        text-align: right;\n",
       "    }\n",
       "</style>\n",
       "<table border=\"1\" class=\"dataframe\">\n",
       "  <thead>\n",
       "    <tr style=\"text-align: right;\">\n",
       "      <th></th>\n",
       "      <th>PREDICTION</th>\n",
       "      <th>ACTUAL_LABEL</th>\n",
       "    </tr>\n",
       "  </thead>\n",
       "  <tbody>\n",
       "    <tr>\n",
       "      <th>0</th>\n",
       "      <td>460689.843750</td>\n",
       "      <td>450000</td>\n",
       "    </tr>\n",
       "    <tr>\n",
       "      <th>1</th>\n",
       "      <td>168093.218750</td>\n",
       "      <td>159500</td>\n",
       "    </tr>\n",
       "    <tr>\n",
       "      <th>2</th>\n",
       "      <td>313027.312500</td>\n",
       "      <td>335700</td>\n",
       "    </tr>\n",
       "    <tr>\n",
       "      <th>3</th>\n",
       "      <td>392631.281250</td>\n",
       "      <td>294800</td>\n",
       "    </tr>\n",
       "    <tr>\n",
       "      <th>4</th>\n",
       "      <td>77582.554688</td>\n",
       "      <td>64100</td>\n",
       "    </tr>\n",
       "    <tr>\n",
       "      <th>5</th>\n",
       "      <td>276011.781250</td>\n",
       "      <td>227000</td>\n",
       "    </tr>\n",
       "    <tr>\n",
       "      <th>6</th>\n",
       "      <td>330892.437500</td>\n",
       "      <td>358000</td>\n",
       "    </tr>\n",
       "    <tr>\n",
       "      <th>7</th>\n",
       "      <td>189973.015625</td>\n",
       "      <td>186700</td>\n",
       "    </tr>\n",
       "    <tr>\n",
       "      <th>8</th>\n",
       "      <td>403154.781250</td>\n",
       "      <td>500001</td>\n",
       "    </tr>\n",
       "    <tr>\n",
       "      <th>9</th>\n",
       "      <td>306781.750000</td>\n",
       "      <td>319300</td>\n",
       "    </tr>\n",
       "    <tr>\n",
       "      <th>10</th>\n",
       "      <td>503207.625000</td>\n",
       "      <td>500001</td>\n",
       "    </tr>\n",
       "    <tr>\n",
       "      <th>11</th>\n",
       "      <td>219742.937500</td>\n",
       "      <td>169400</td>\n",
       "    </tr>\n",
       "    <tr>\n",
       "      <th>12</th>\n",
       "      <td>93850.718750</td>\n",
       "      <td>87300</td>\n",
       "    </tr>\n",
       "    <tr>\n",
       "      <th>13</th>\n",
       "      <td>284478.062500</td>\n",
       "      <td>275000</td>\n",
       "    </tr>\n",
       "    <tr>\n",
       "      <th>14</th>\n",
       "      <td>166814.437500</td>\n",
       "      <td>160100</td>\n",
       "    </tr>\n",
       "    <tr>\n",
       "      <th>15</th>\n",
       "      <td>261994.609375</td>\n",
       "      <td>223900</td>\n",
       "    </tr>\n",
       "    <tr>\n",
       "      <th>16</th>\n",
       "      <td>146732.093750</td>\n",
       "      <td>137500</td>\n",
       "    </tr>\n",
       "    <tr>\n",
       "      <th>17</th>\n",
       "      <td>80157.882812</td>\n",
       "      <td>67500</td>\n",
       "    </tr>\n",
       "    <tr>\n",
       "      <th>18</th>\n",
       "      <td>56249.949219</td>\n",
       "      <td>112500</td>\n",
       "    </tr>\n",
       "    <tr>\n",
       "      <th>19</th>\n",
       "      <td>104823.015625</td>\n",
       "      <td>90400</td>\n",
       "    </tr>\n",
       "  </tbody>\n",
       "</table>\n",
       "</div>"
      ],
      "text/plain": [
       "       PREDICTION  ACTUAL_LABEL\n",
       "0   460689.843750        450000\n",
       "1   168093.218750        159500\n",
       "2   313027.312500        335700\n",
       "3   392631.281250        294800\n",
       "4    77582.554688         64100\n",
       "5   276011.781250        227000\n",
       "6   330892.437500        358000\n",
       "7   189973.015625        186700\n",
       "8   403154.781250        500001\n",
       "9   306781.750000        319300\n",
       "10  503207.625000        500001\n",
       "11  219742.937500        169400\n",
       "12   93850.718750         87300\n",
       "13  284478.062500        275000\n",
       "14  166814.437500        160100\n",
       "15  261994.609375        223900\n",
       "16  146732.093750        137500\n",
       "17   80157.882812         67500\n",
       "18   56249.949219        112500\n",
       "19  104823.015625         90400"
      ]
     },
     "execution_count": 32,
     "metadata": {},
     "output_type": "execute_result"
    }
   ],
   "source": [
    "snowdf_results.select(snowdf_results.PREDICTION,snowdf_results.ACTUAL_LABEL).to_pandas()"
   ]
  },
  {
   "cell_type": "markdown",
   "metadata": {},
   "source": [
    "And this is the view we get in a Housing_Detection table with our predictions located in our Snowflake database."
   ]
  },
  {
   "cell_type": "markdown",
   "metadata": {},
   "source": [
    "![Snowflake predictions](./pictures/Snowflake_predictions.png)"
   ]
  },
  {
   "cell_type": "markdown",
   "metadata": {},
   "source": [
    "# Summary\n",
    "\n",
    "In this article/tutorial, you discovered how to take an already available data science model and migrate it to Snowflake using Snowpark for python.\n",
    "\n",
    "Specifically:\n",
    "- How to connect to Snowflake\n",
    "- Loading data using Snowpark functions like copy_into\n",
    "- Connect to your data in Snowflake\n",
    "- Perform data science predictive modeling in our data with EDA, Cross-validation and fine tunnning \n",
    "- Deploy the model in Snowflake with UDF python functions.\n",
    "\n",
    "I hope you enjoyed the tutorial as much as we did creating it, a closing thought, ff you no longer need to use a session for executing queries and  want to cancel any queries that are currently running calling the close method of the Session object is a good practice."
   ]
  },
  {
   "cell_type": "code",
   "execution_count": 162,
   "metadata": {},
   "outputs": [],
   "source": [
    "session.close()"
   ]
  },
  {
   "cell_type": "code",
   "execution_count": null,
   "metadata": {},
   "outputs": [],
   "source": [
    "#TODO Change to official documentation"
   ]
  },
  {
   "cell_type": "markdown",
   "metadata": {},
   "source": [
    "# More information and references \n",
    "\n",
    "\n",
    "1. Snowpark Developer Guide for Python https://docs.snowflake.com/en/LIMITEDACCESS/snowpark-python.html#label-snowpark-python-dataframe-action-method\n",
    "\n",
    "2. Hands-On Machine Learning with Scikit-Learn, Keras and TensorFlow by Aurélien Géron (O’Reilly).Copyright 2019 Aurélien Géron, 978-1-492-03264-9.\n",
    "\n",
    "\n",
    "\n",
    "\n",
    "\n"
   ]
  }
 ],
 "metadata": {
  "interpreter": {
   "hash": "c1917fe8151d500fea6fd19db5b478956755590a3bdb3718d1d00685aaa0a887"
  },
  "kernelspec": {
   "display_name": "Python 3.8.13 ('snowpark')",
   "language": "python",
   "name": "python3"
  },
  "language_info": {
   "codemirror_mode": {
    "name": "ipython",
    "version": 3
   },
   "file_extension": ".py",
   "mimetype": "text/x-python",
   "name": "python",
   "nbconvert_exporter": "python",
   "pygments_lexer": "ipython3",
   "version": "3.8.13"
  },
  "orig_nbformat": 4
 },
 "nbformat": 4,
 "nbformat_minor": 2
}
