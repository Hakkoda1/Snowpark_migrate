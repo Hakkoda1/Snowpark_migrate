{
  "cells": [
    {
      "cell_type": "markdown",
      "metadata": {
        "id": "mezBHp6mcGRt"
      },
      "source": [
        "# Snowpark Python: How to Migrate Your Data Science Projects"
      ]
    },
    {
      "cell_type": "markdown",
      "metadata": {
        "id": "qEExdMH1cGRx"
      },
      "source": [
        "*With Python for Snowpark now in GA, we can run models using Snowflake's processing power. This tutorial will show us how.*\n",
        "\n",
        "With **[Python for Snowpark](https://www.snowflake.com/blog/snowpark-python-feature-engineering-machine-learning/)** now in GA, we have the ability to run our models closer to where our data lives. Aided by the processing power of Snowflake, we can run our model predictions easily.\n",
        "\n",
        "In this tutorial, we're going to take the **[California Housing Prices](https://www.kaggle.com/datasets/camnugent/california-housing-prices)** dataset, which is fairly know, and upload it into Snowflake using **Snowpark for Python**. Then, we will do a quick data exploration, cross-validation, and fine-tunning to deploy our model into Snowflake. This way, we can get our predictions using Snowflake's data warehouse. \n",
        "\n"
      ]
    },
    {
      "cell_type": "markdown",
      "metadata": {
        "id": "lFE9Bd54cGRy"
      },
      "source": [
        "## 1. Load Necesary Snowpark Packages and Connect to Snowflake\n",
        "\n",
        "We will begin by importing necesary libraries, the session class will give us everything we need to connect to Snowflake, using the same parameters from the connect function in the Snowflake Connector for Python. To create a session we will build a Python dictionary containing the names and values of the parameters, see example below. \n",
        "\n",
        "For this example, we placed those parameters in a different file called \"config.py\"."
      ]
    },
    {
      "cell_type": "markdown",
      "metadata": {
        "id": "uRv6YCstcGR0"
      },
      "source": [
        "Let's begin by importing the standard machine learning libraries like Pandas, Numpy and Matplotlib, as well as several Snowpark libraries such as \"functions\". These provide utility and SQL functions to generate column expressions to pass to DataFrame transformation methods, date types, and UDF. \n",
        "\n",
        "What's the purpose of this? To build our predictions in Snowflake. \n",
        "\n"
      ]
    },
    {
      "cell_type": "code",
      "execution_count": 143,
      "metadata": {
        "colab": {
          "base_uri": "https://localhost:8080/",
          "height": 383
        },
        "id": "hHSpXS9vcGR0",
        "outputId": "44996c79-f851-4fd6-900e-1799923a9049"
      },
      "outputs": [],
      "source": [
        "# Snowflake packages\n",
        "import snowflake.snowpark\n",
        "from snowflake.snowpark.functions import sproc\n",
        "from snowflake.snowpark.session import Session\n",
        "from snowflake.snowpark import functions as F\n",
        "from snowflake.snowpark.types import *\n",
        "from snowflake.snowpark.functions import udf,col, is_null\n",
        "\n",
        "#Python packages\n",
        "import sys\n",
        "import cachetools\n",
        "import os\n",
        "import pandas as pd\n",
        "import numpy as np\n",
        "import io\n",
        "import joblib\n",
        "%matplotlib inline\n",
        "import matplotlib.pyplot as plt\n",
        "from sklearn.pipeline import Pipeline\n",
        "from sklearn.preprocessing import StandardScaler\n",
        "from sklearn.preprocessing import OneHotEncoder\n",
        "from sklearn.compose import ColumnTransformer\n",
        "from sklearn.ensemble import RandomForestRegressor\n",
        "from sklearn.metrics import mean_squared_error\n",
        "from sklearn.linear_model import LinearRegression\n",
        "from sklearn.model_selection import cross_val_score\n",
        "from sklearn.model_selection import RepeatedKFold\n",
        "from sklearn.model_selection import StratifiedShuffleSplit\n",
        "from sklearn.model_selection import RandomizedSearchCV\n",
        "from xgboost import XGBRegressor\n",
        "\n",
        "\n",
        "#Snowflake connection info is saved in config.py\n",
        "from config import snowflake_conn_prop\n",
        "\n"
      ]
    },
    {
      "cell_type": "markdown",
      "metadata": {
        "id": "SrycZvaacGR1"
      },
      "source": [
        "Print Snowpark version."
      ]
    },
    {
      "cell_type": "code",
      "execution_count": 113,
      "metadata": {
        "id": "aWSrSTRzcGR1"
      },
      "outputs": [
        {
          "name": "stdout",
          "output_type": "stream",
          "text": [
            "(0, 8, 0)\n"
          ]
        }
      ],
      "source": [
        "from snowflake.snowpark import version\n",
        "print(version.VERSION)"
      ]
    },
    {
      "cell_type": "markdown",
      "metadata": {
        "id": "HNqxbQC5cGR2"
      },
      "source": [
        "Now, we'll load our data using pd.read() and pull a sample."
      ]
    },
    {
      "cell_type": "code",
      "execution_count": 8,
      "metadata": {
        "id": "Xsbii9MncGR2"
      },
      "outputs": [],
      "source": [
        "#Read the housing data\n",
        "\n",
        "data=pd.read_csv('https://raw.githubusercontent.com/serbre/Snowpark_migrate/main/housing.csv')\n",
        "\n",
        "data.columns= ['LONGITUDE',\n",
        " 'LATITUDE',\n",
        " 'HOUSING_MEDIAN_AGE',\n",
        " 'TOTAL_ROOMS',\n",
        " 'TOTAL_BEDROOMS',\n",
        " 'POPULATION',\n",
        " 'HOUSEHOLDS',\n",
        " 'MEDIAN_INCOME',\n",
        " 'MEDIAN_HOUSE_VALUE',\n",
        " 'OCEAN_PROXIMITY']"
      ]
    },
    {
      "cell_type": "code",
      "execution_count": 9,
      "metadata": {
        "id": "otEd34qxcGR3"
      },
      "outputs": [
        {
          "data": {
            "text/html": [
              "<div>\n",
              "<style scoped>\n",
              "    .dataframe tbody tr th:only-of-type {\n",
              "        vertical-align: middle;\n",
              "    }\n",
              "\n",
              "    .dataframe tbody tr th {\n",
              "        vertical-align: top;\n",
              "    }\n",
              "\n",
              "    .dataframe thead th {\n",
              "        text-align: right;\n",
              "    }\n",
              "</style>\n",
              "<table border=\"1\" class=\"dataframe\">\n",
              "  <thead>\n",
              "    <tr style=\"text-align: right;\">\n",
              "      <th></th>\n",
              "      <th>LONGITUDE</th>\n",
              "      <th>LATITUDE</th>\n",
              "      <th>HOUSING_MEDIAN_AGE</th>\n",
              "      <th>TOTAL_ROOMS</th>\n",
              "      <th>TOTAL_BEDROOMS</th>\n",
              "      <th>POPULATION</th>\n",
              "      <th>HOUSEHOLDS</th>\n",
              "      <th>MEDIAN_INCOME</th>\n",
              "      <th>MEDIAN_HOUSE_VALUE</th>\n",
              "      <th>OCEAN_PROXIMITY</th>\n",
              "    </tr>\n",
              "  </thead>\n",
              "  <tbody>\n",
              "    <tr>\n",
              "      <th>0</th>\n",
              "      <td>-122.23</td>\n",
              "      <td>37.88</td>\n",
              "      <td>41.0</td>\n",
              "      <td>880.0</td>\n",
              "      <td>129.0</td>\n",
              "      <td>322.0</td>\n",
              "      <td>126.0</td>\n",
              "      <td>8.3252</td>\n",
              "      <td>452600.0</td>\n",
              "      <td>NEAR BAY</td>\n",
              "    </tr>\n",
              "    <tr>\n",
              "      <th>1</th>\n",
              "      <td>-122.22</td>\n",
              "      <td>37.86</td>\n",
              "      <td>21.0</td>\n",
              "      <td>7099.0</td>\n",
              "      <td>1106.0</td>\n",
              "      <td>2401.0</td>\n",
              "      <td>1138.0</td>\n",
              "      <td>8.3014</td>\n",
              "      <td>358500.0</td>\n",
              "      <td>NEAR BAY</td>\n",
              "    </tr>\n",
              "    <tr>\n",
              "      <th>2</th>\n",
              "      <td>-122.24</td>\n",
              "      <td>37.85</td>\n",
              "      <td>52.0</td>\n",
              "      <td>1467.0</td>\n",
              "      <td>190.0</td>\n",
              "      <td>496.0</td>\n",
              "      <td>177.0</td>\n",
              "      <td>7.2574</td>\n",
              "      <td>352100.0</td>\n",
              "      <td>NEAR BAY</td>\n",
              "    </tr>\n",
              "    <tr>\n",
              "      <th>3</th>\n",
              "      <td>-122.25</td>\n",
              "      <td>37.85</td>\n",
              "      <td>52.0</td>\n",
              "      <td>1274.0</td>\n",
              "      <td>235.0</td>\n",
              "      <td>558.0</td>\n",
              "      <td>219.0</td>\n",
              "      <td>5.6431</td>\n",
              "      <td>341300.0</td>\n",
              "      <td>NEAR BAY</td>\n",
              "    </tr>\n",
              "    <tr>\n",
              "      <th>4</th>\n",
              "      <td>-122.25</td>\n",
              "      <td>37.85</td>\n",
              "      <td>52.0</td>\n",
              "      <td>1627.0</td>\n",
              "      <td>280.0</td>\n",
              "      <td>565.0</td>\n",
              "      <td>259.0</td>\n",
              "      <td>3.8462</td>\n",
              "      <td>342200.0</td>\n",
              "      <td>NEAR BAY</td>\n",
              "    </tr>\n",
              "  </tbody>\n",
              "</table>\n",
              "</div>"
            ],
            "text/plain": [
              "   LONGITUDE  LATITUDE  HOUSING_MEDIAN_AGE  TOTAL_ROOMS  TOTAL_BEDROOMS  \\\n",
              "0    -122.23     37.88                41.0        880.0           129.0   \n",
              "1    -122.22     37.86                21.0       7099.0          1106.0   \n",
              "2    -122.24     37.85                52.0       1467.0           190.0   \n",
              "3    -122.25     37.85                52.0       1274.0           235.0   \n",
              "4    -122.25     37.85                52.0       1627.0           280.0   \n",
              "\n",
              "   POPULATION  HOUSEHOLDS  MEDIAN_INCOME  MEDIAN_HOUSE_VALUE OCEAN_PROXIMITY  \n",
              "0       322.0       126.0         8.3252            452600.0        NEAR BAY  \n",
              "1      2401.0      1138.0         8.3014            358500.0        NEAR BAY  \n",
              "2       496.0       177.0         7.2574            352100.0        NEAR BAY  \n",
              "3       558.0       219.0         5.6431            341300.0        NEAR BAY  \n",
              "4       565.0       259.0         3.8462            342200.0        NEAR BAY  "
            ]
          },
          "execution_count": 9,
          "metadata": {},
          "output_type": "execute_result"
        }
      ],
      "source": [
        "data.head()"
      ]
    },
    {
      "cell_type": "markdown",
      "metadata": {
        "id": "M5l0suBAcGR3"
      },
      "source": [
        "The next step is to create a connection. We'll pass the dictionary containing the name and values of the parameters from config.py to the session.builder.configs method. This will return an object with the parameters needed to call the Create method and establish connection."
      ]
    },
    {
      "cell_type": "code",
      "execution_count": 114,
      "metadata": {
        "id": "FAO1f021cGR4"
      },
      "outputs": [],
      "source": [
        "session = Session.builder.configs(snowflake_conn_prop).create()\n"
      ]
    },
    {
      "cell_type": "markdown",
      "metadata": {
        "id": "X7nyzwsicGR4"
      },
      "source": [
        "To create our environment in Snowflake, you can load different variables with the rolename, database, schema, and warehouse name, and run them within an SQL in Snowflake environment using the session.sql command. You can update these to adapt your Snowflake environment. Just make sure you have create privileges in your database.\n",
        "\n",
        "Snowpark operations are lazy. To trigger queries, you need to call an Action function such as the Collect function.\n"
      ]
    },
    {
      "cell_type": "code",
      "execution_count": 115,
      "metadata": {
        "id": "XXptTKwHcGR4"
      },
      "outputs": [
        {
          "data": {
            "text/plain": [
              "[Row(status='Statement executed successfully.')]"
            ]
          },
          "execution_count": 115,
          "metadata": {},
          "output_type": "execute_result"
        }
      ],
      "source": [
        "rolename = \"SYSADMIN\"\n",
        "dbname = \"DEMO\"\n",
        "schemaname = \"TEST\"\n",
        "warehouse = \"COMPUTE_WH\"\n",
        "\n",
        "session.sql(f\"USE ROLE {rolename}\").collect()"
      ]
    },
    {
      "cell_type": "code",
      "execution_count": 116,
      "metadata": {
        "id": "S8uzK6f-cGR4"
      },
      "outputs": [
        {
          "data": {
            "text/plain": [
              "[Row(status='COMPUTE_WH already exists, statement succeeded.')]"
            ]
          },
          "execution_count": 116,
          "metadata": {},
          "output_type": "execute_result"
        }
      ],
      "source": [
        "#  Create a database, schema, warehouse)\n",
        "session.sql(f\"CREATE DATABASE IF NOT EXISTS {dbname}\").collect()\n",
        "session.sql(f\"CREATE SCHEMA IF NOT EXISTS {dbname}.{schemaname}\").collect()\n",
        "session.sql(f\"CREATE WAREHOUSE  IF NOT EXISTS {warehouse} \\\n",
        "                WAREHOUSE_SIZE = 'Large' \\\n",
        "                AUTO_SUSPEND = 300 \\\n",
        "                AUTO_RESUME = TRUE \\\n",
        "                MIN_CLUSTER_COUNT = 1 \\\n",
        "                MAX_CLUSTER_COUNT = 3 \\\n",
        "                SCALING_POLICY = 'STANDARD' \").collect()"
      ]
    },
    {
      "cell_type": "code",
      "execution_count": 117,
      "metadata": {
        "id": "hEBaA0KOcGR5"
      },
      "outputs": [
        {
          "data": {
            "text/plain": [
              "[Row(status='Statement executed successfully.')]"
            ]
          },
          "execution_count": 117,
          "metadata": {},
          "output_type": "execute_result"
        }
      ],
      "source": [
        "session.sql(f\"USE WAREHOUSE {warehouse}\").collect()\n",
        "session.sql(f\"USE SCHEMA {dbname}.{schemaname}\").collect()"
      ]
    },
    {
      "cell_type": "code",
      "execution_count": 118,
      "metadata": {
        "id": "GmtVpyhpcGR5"
      },
      "outputs": [
        {
          "name": "stdout",
          "output_type": "stream",
          "text": [
            "[Row(CURRENT_WAREHOUSE()='COMPUTE_WH', CURRENT_DATABASE()='DEMO', CURRENT_SCHEMA()='TEST')]\n"
          ]
        }
      ],
      "source": [
        "print(session.sql('select current_warehouse(), current_database(), current_schema()').collect())\n"
      ]
    },
    {
      "cell_type": "code",
      "execution_count": null,
      "metadata": {
        "id": "Z6KJ0kIgcGR5"
      },
      "outputs": [],
      "source": [
        "session.add_packages('snowflake-snowpark-python', 'scikit-learn', 'pandas', 'numpy', 'joblib', 'cachetools', 'xgboost')"
      ]
    },
    {
      "cell_type": "markdown",
      "metadata": {
        "id": "6v9tpmREcGR5"
      },
      "source": [
        "Now, to explain the whole process, we will load our CSV into Snowflake and use it for our analysis. In your case, the data might already be in Snowflake.\n",
        "\n",
        "The following variable names contain our file name. In the housing.csv example, we use this same name for the stage for the file, model, and UDF, as well as the raw table name.\n",
        "\n",
        "The session.file.put command will load the file in the stage. Please note that, for this exercise, it's important to have our file in the same folder as the notebook.\n",
        "\n"
      ]
    },
    {
      "cell_type": "code",
      "execution_count": 18,
      "metadata": {
        "id": "Ki7lp3S8cGR6"
      },
      "outputs": [],
      "source": [
        "filename = \"housing.csv\"\n",
        "stagename = \"rawdata\"\n",
        "model_stage = \"models\"\n",
        "rawtable = \"housing\"\n",
        "udf=\"udf\""
      ]
    },
    {
      "cell_type": "code",
      "execution_count": 20,
      "metadata": {
        "id": "M6zKLMZMcGR6"
      },
      "outputs": [
        {
          "data": {
            "text/plain": [
              "[PutResult(source='housing.csv', target='housing.csv.gz', source_size=1423529, target_size=396000, source_compression='NONE', target_compression='GZIP', status='UPLOADED', message='')]"
            ]
          },
          "execution_count": 20,
          "metadata": {},
          "output_type": "execute_result"
        }
      ],
      "source": [
        "# Create Snowflake stage\n",
        "session.sql(f\"create or replace stage {stagename} DIRECTORY = (ENABLE = TRUE);\").collect()\n",
        "\n",
        "# Put the file in the stage\n",
        "session.file.put(filename,stagename)"
      ]
    },
    {
      "cell_type": "code",
      "execution_count": 21,
      "metadata": {
        "id": "6kEJ9ZVEcGR6"
      },
      "outputs": [
        {
          "data": {
            "text/plain": [
              "[Row(status='Stage area UDF successfully created.')]"
            ]
          },
          "execution_count": 21,
          "metadata": {},
          "output_type": "execute_result"
        }
      ],
      "source": [
        "session.sql(f\"create or replace stage {model_stage} DIRECTORY = (ENABLE = TRUE) copy_options = (on_error='skip_file');\").collect()\n",
        "session.sql(f\"create or replace stage {udf} copy_options = (on_error='skip_file');\").collect()"
      ]
    },
    {
      "cell_type": "markdown",
      "metadata": {
        "id": "rHCdBUvZcGR7"
      },
      "source": [
        "The next step is to create our schema by using a SructType containing names of the columns and data types of such columns. Then, we'll call the schema property to return an object configured to read files that contains the specified fields. \n",
        "\n",
        "In the Options property, we define the format fields like compressions, field delimiter, and type. Finally, with the CSV option, we indicate the location of our file to create our table."
      ]
    },
    {
      "cell_type": "code",
      "execution_count": 22,
      "metadata": {
        "id": "DoxJ5Rl4cGR7"
      },
      "outputs": [],
      "source": [
        "schema_for_data_file = StructType([\n",
        "    StructField(\"longitude\",IntegerType()),\n",
        "    StructField(\"latitude\",IntegerType()),\n",
        "    StructField(\"housing_median_age\",IntegerType()),\n",
        "    StructField(\"total_rooms\",IntegerType()),\n",
        "    StructField(\"total_bedrooms\",IntegerType()),\n",
        "    StructField(\"population\",IntegerType()),\n",
        "    StructField(\"households\",IntegerType()),\n",
        "    StructField(\"median_income\",IntegerType()),\n",
        "    StructField(\"median_house_value\",IntegerType()),\n",
        "    StructField(\"ocean_proximity\",StringType())])\n"
      ]
    },
    {
      "cell_type": "code",
      "execution_count": 23,
      "metadata": {
        "id": "sTgTXCzpcGR7"
      },
      "outputs": [],
      "source": [
        "csv_reader=session.read.schema(schema_for_data_file)"
      ]
    },
    {
      "cell_type": "code",
      "execution_count": 24,
      "metadata": {
        "id": "8_cOh81dcGR7"
      },
      "outputs": [],
      "source": [
        "format_options={\"compression\": \"gzip\",  \"type\" : \"csv\", \"field_delimiter\" : \",\",\"skip_header\": 1}\n",
        "csv_reader=csv_reader.options(format_options)"
      ]
    },
    {
      "cell_type": "code",
      "execution_count": 38,
      "metadata": {
        "id": "IMbK6XsecGR8"
      },
      "outputs": [],
      "source": [
        "df = csv_reader.csv(\"@rawdata/housing.csv.gz\")"
      ]
    },
    {
      "cell_type": "code",
      "execution_count": 39,
      "metadata": {
        "id": "Fy1ghgA5cGR8"
      },
      "outputs": [
        {
          "data": {
            "text/plain": [
              "[Row(status='HOUSING successfully dropped.')]"
            ]
          },
          "execution_count": 39,
          "metadata": {},
          "output_type": "execute_result"
        }
      ],
      "source": [
        "# In case you already have a table there\n",
        "\n",
        "drop_result = session.sql(f\"drop table if exists {rawtable}\").collect() \n",
        "drop_result"
      ]
    },
    {
      "cell_type": "code",
      "execution_count": 40,
      "metadata": {
        "id": "EEnep4qgcGR8"
      },
      "outputs": [],
      "source": [
        "df_table=df.copy_into_table(\"housing\",format_type_options=format_options ,force=True)"
      ]
    },
    {
      "cell_type": "code",
      "execution_count": 41,
      "metadata": {
        "id": "GSGuUqgBcGR8"
      },
      "outputs": [
        {
          "name": "stdout",
          "output_type": "stream",
          "text": [
            "CPU times: user 429 ms, sys: 32 ms, total: 461 ms\n",
            "Wall time: 3.5 s\n"
          ]
        },
        {
          "data": {
            "text/html": [
              "<div>\n",
              "<style scoped>\n",
              "    .dataframe tbody tr th:only-of-type {\n",
              "        vertical-align: middle;\n",
              "    }\n",
              "\n",
              "    .dataframe tbody tr th {\n",
              "        vertical-align: top;\n",
              "    }\n",
              "\n",
              "    .dataframe thead th {\n",
              "        text-align: right;\n",
              "    }\n",
              "</style>\n",
              "<table border=\"1\" class=\"dataframe\">\n",
              "  <thead>\n",
              "    <tr style=\"text-align: right;\">\n",
              "      <th></th>\n",
              "      <th>LONGITUDE</th>\n",
              "      <th>LATITUDE</th>\n",
              "      <th>HOUSING_MEDIAN_AGE</th>\n",
              "      <th>TOTAL_ROOMS</th>\n",
              "      <th>TOTAL_BEDROOMS</th>\n",
              "      <th>POPULATION</th>\n",
              "      <th>HOUSEHOLDS</th>\n",
              "      <th>MEDIAN_INCOME</th>\n",
              "      <th>MEDIAN_HOUSE_VALUE</th>\n",
              "      <th>OCEAN_PROXIMITY</th>\n",
              "    </tr>\n",
              "  </thead>\n",
              "  <tbody>\n",
              "    <tr>\n",
              "      <th>0</th>\n",
              "      <td>-122</td>\n",
              "      <td>38</td>\n",
              "      <td>41</td>\n",
              "      <td>880</td>\n",
              "      <td>129.0</td>\n",
              "      <td>322</td>\n",
              "      <td>126</td>\n",
              "      <td>8</td>\n",
              "      <td>452600</td>\n",
              "      <td>NEAR BAY</td>\n",
              "    </tr>\n",
              "    <tr>\n",
              "      <th>1</th>\n",
              "      <td>-122</td>\n",
              "      <td>38</td>\n",
              "      <td>21</td>\n",
              "      <td>7099</td>\n",
              "      <td>1106.0</td>\n",
              "      <td>2401</td>\n",
              "      <td>1138</td>\n",
              "      <td>8</td>\n",
              "      <td>358500</td>\n",
              "      <td>NEAR BAY</td>\n",
              "    </tr>\n",
              "    <tr>\n",
              "      <th>2</th>\n",
              "      <td>-122</td>\n",
              "      <td>38</td>\n",
              "      <td>52</td>\n",
              "      <td>1467</td>\n",
              "      <td>190.0</td>\n",
              "      <td>496</td>\n",
              "      <td>177</td>\n",
              "      <td>7</td>\n",
              "      <td>352100</td>\n",
              "      <td>NEAR BAY</td>\n",
              "    </tr>\n",
              "    <tr>\n",
              "      <th>3</th>\n",
              "      <td>-122</td>\n",
              "      <td>38</td>\n",
              "      <td>52</td>\n",
              "      <td>1274</td>\n",
              "      <td>235.0</td>\n",
              "      <td>558</td>\n",
              "      <td>219</td>\n",
              "      <td>6</td>\n",
              "      <td>341300</td>\n",
              "      <td>NEAR BAY</td>\n",
              "    </tr>\n",
              "    <tr>\n",
              "      <th>4</th>\n",
              "      <td>-122</td>\n",
              "      <td>38</td>\n",
              "      <td>52</td>\n",
              "      <td>1627</td>\n",
              "      <td>280.0</td>\n",
              "      <td>565</td>\n",
              "      <td>259</td>\n",
              "      <td>4</td>\n",
              "      <td>342200</td>\n",
              "      <td>NEAR BAY</td>\n",
              "    </tr>\n",
              "  </tbody>\n",
              "</table>\n",
              "</div>"
            ],
            "text/plain": [
              "   LONGITUDE  LATITUDE  HOUSING_MEDIAN_AGE  TOTAL_ROOMS  TOTAL_BEDROOMS  \\\n",
              "0       -122        38                  41          880           129.0   \n",
              "1       -122        38                  21         7099          1106.0   \n",
              "2       -122        38                  52         1467           190.0   \n",
              "3       -122        38                  52         1274           235.0   \n",
              "4       -122        38                  52         1627           280.0   \n",
              "\n",
              "   POPULATION  HOUSEHOLDS  MEDIAN_INCOME  MEDIAN_HOUSE_VALUE OCEAN_PROXIMITY  \n",
              "0         322         126              8              452600        NEAR BAY  \n",
              "1        2401        1138              8              358500        NEAR BAY  \n",
              "2         496         177              7              352100        NEAR BAY  \n",
              "3         558         219              6              341300        NEAR BAY  \n",
              "4         565         259              4              342200        NEAR BAY  "
            ]
          },
          "execution_count": 41,
          "metadata": {},
          "output_type": "execute_result"
        }
      ],
      "source": [
        "%%time\n",
        "\n",
        "housing_snowflake = session.table('housing')\n",
        "\n",
        "pd.pandas.set_option('display.max_columns', None)\n",
        "\n",
        "data = housing_snowflake.toPandas()\n",
        "data.head()"
      ]
    },
    {
      "cell_type": "code",
      "execution_count": 42,
      "metadata": {
        "id": "_1xtO8uEcGR8"
      },
      "outputs": [
        {
          "name": "stdout",
          "output_type": "stream",
          "text": [
            "<class 'pandas.core.frame.DataFrame'>\n",
            "RangeIndex: 20640 entries, 0 to 20639\n",
            "Data columns (total 10 columns):\n",
            " #   Column              Non-Null Count  Dtype  \n",
            "---  ------              --------------  -----  \n",
            " 0   LONGITUDE           20640 non-null  int8   \n",
            " 1   LATITUDE            20640 non-null  int8   \n",
            " 2   HOUSING_MEDIAN_AGE  20640 non-null  int8   \n",
            " 3   TOTAL_ROOMS         20640 non-null  int32  \n",
            " 4   TOTAL_BEDROOMS      20433 non-null  float64\n",
            " 5   POPULATION          20640 non-null  int32  \n",
            " 6   HOUSEHOLDS          20640 non-null  int16  \n",
            " 7   MEDIAN_INCOME       20640 non-null  int8   \n",
            " 8   MEDIAN_HOUSE_VALUE  20640 non-null  int32  \n",
            " 9   OCEAN_PROXIMITY     20640 non-null  object \n",
            "dtypes: float64(1), int16(1), int32(3), int8(4), object(1)\n",
            "memory usage: 685.4+ KB\n"
          ]
        }
      ],
      "source": [
        "data.info()"
      ]
    },
    {
      "cell_type": "markdown",
      "metadata": {
        "id": "y2-x52lmcGR9"
      },
      "source": [
        "## 2. Perform Exploratory Data Analysis (EDA)"
      ]
    },
    {
      "cell_type": "markdown",
      "metadata": {
        "id": "Nbebov9McGR9"
      },
      "source": [
        "Now that we have our data in Snowflake, we can decide if we want to work with Snowpark Python or with our preferred Python native libraries. Snowpark offers the ability to run most of the analysis in Snowflake, preventing data from leaving your database.\n",
        "\n",
        "We'll perform a quick visual EDA starting with a histogram on numeric variables to see how our data is represented.\n",
        "\n",
        "At first glance, we observe that the attributes have very different ranges. Using such insight, we'll work on feature scaling with transformation pipelines."
      ]
    },
    {
      "cell_type": "code",
      "execution_count": 30,
      "metadata": {
        "id": "qnPebBTacGR9",
        "outputId": "ebfc7ec5-7a0f-4ec3-9771-cf58480ad552"
      },
      "outputs": [
        {
          "data": {
            "image/png": "[encoded data removed]",
            "text/plain": [
              "<Figure size 1440x1080 with 9 Axes>"
            ]
          },
          "metadata": {
            "needs_background": "light"
          },
          "output_type": "display_data"
        }
      ],
      "source": [
        "data.hist(bins=50, figsize=(20,15))\n",
        "plt.show()"
      ]
    },
    {
      "cell_type": "code",
      "execution_count": 31,
      "metadata": {
        "id": "1i47xBoKcGR9",
        "outputId": "25a00dd7-0532-451d-d9ad-200d04393dd0"
      },
      "outputs": [
        {
          "name": "stdout",
          "output_type": "stream",
          "text": [
            "Categorical Variables: ['OCEAN_PROXIMITY']\n",
            "Numerical Variables: ['LONGITUDE', 'LATITUDE', 'HOUSING_MEDIAN_AGE', 'TOTAL_ROOMS', 'TOTAL_BEDROOMS', 'POPULATION', 'HOUSEHOLDS', 'MEDIAN_INCOME', 'MEDIAN_HOUSE_VALUE']\n"
          ]
        }
      ],
      "source": [
        "cat_vars = [var for var in data.columns if ((data[var].dtype == 'O') or (data[var].dtype==\"bool\"))]\n",
        "print('Categorical Variables:' , cat_vars)\n",
        "\n",
        "num_vars = [var for var in data.columns if var not in cat_vars]\n",
        "print('Numerical Variables:', num_vars)\n"
      ]
    },
    {
      "cell_type": "markdown",
      "metadata": {
        "id": "CfPVEYzrcGR9"
      },
      "source": [
        "\n",
        "Because median income is an important predictor for median housing prices, we'll create a new attribute with pd.cut() called INCOME_CAT. This will define 5 categories (labeled from 1 to 5) based on Median_INCOME cuts. "
      ]
    },
    {
      "cell_type": "code",
      "execution_count": 99,
      "metadata": {
        "id": "Qva2pUR0cGR-"
      },
      "outputs": [],
      "source": [
        "data[\"INCOME_CAT\"] = pd.cut(data[\"MEDIAN_INCOME\"],\n",
        " bins=[0., 1.5, 3.0, 4.5, 6., np.inf],\n",
        " labels=[1, 2, 3, 4, 5])"
      ]
    },
    {
      "cell_type": "markdown",
      "metadata": {
        "id": "sm0k1zY_cGR-"
      },
      "source": [
        "At this point, we need to clean our data and since null values can bring problems, below we can see TOTAL_BEDROOMS and INCOME_CAT having lower non-null count than the rest of the dataset, let's turn our pandas dataset back to Snowpark dataframe and handle those null values."
      ]
    },
    {
      "cell_type": "code",
      "execution_count": 134,
      "metadata": {
        "id": "fD0NaSgKcGR-"
      },
      "outputs": [
        {
          "name": "stdout",
          "output_type": "stream",
          "text": [
            "<class 'pandas.core.frame.DataFrame'>\n",
            "RangeIndex: 20640 entries, 0 to 20639\n",
            "Data columns (total 11 columns):\n",
            " #   Column              Non-Null Count  Dtype   \n",
            "---  ------              --------------  -----   \n",
            " 0   LONGITUDE           20640 non-null  int8    \n",
            " 1   LATITUDE            20640 non-null  int8    \n",
            " 2   HOUSING_MEDIAN_AGE  20640 non-null  int8    \n",
            " 3   TOTAL_ROOMS         20640 non-null  int32   \n",
            " 4   TOTAL_BEDROOMS      20433 non-null  float64 \n",
            " 5   POPULATION          20640 non-null  int32   \n",
            " 6   HOUSEHOLDS          20640 non-null  int16   \n",
            " 7   MEDIAN_INCOME       20640 non-null  int8    \n",
            " 8   MEDIAN_HOUSE_VALUE  20640 non-null  int32   \n",
            " 9   OCEAN_PROXIMITY     20640 non-null  object  \n",
            " 10  INCOME_CAT          20628 non-null  category\n",
            "dtypes: category(1), float64(1), int16(1), int32(3), int8(4), object(1)\n",
            "memory usage: 705.8+ KB\n"
          ]
        }
      ],
      "source": [
        "data.info()\n"
      ]
    },
    {
      "cell_type": "code",
      "execution_count": 127,
      "metadata": {},
      "outputs": [],
      "source": [
        "data_no_nulls=session.create_dataframe(data)"
      ]
    },
    {
      "cell_type": "markdown",
      "metadata": {},
      "source": [
        "Variables TOTAL_BEDROOMS and INCOME_CAT have 207 and 12 null values respectively."
      ]
    },
    {
      "cell_type": "code",
      "execution_count": 128,
      "metadata": {},
      "outputs": [
        {
          "name": "stdout",
          "output_type": "stream",
          "text": [
            "Total Bedrooms nulls: 207 \n",
            "Income cat nulls: 12\n"
          ]
        }
      ],
      "source": [
        "bedrooms_null=data_no_nulls.filter(is_null(col('TOTAL_BEDROOMS'))).count()\n",
        "income_cat_null=data_no_nulls.filter(is_null(col('INCOME_CAT'))).count()\n",
        "\n",
        "print(f\"Total Bedrooms nulls: {bedrooms_null} \\nIncome cat nulls: {income_cat_null}\")"
      ]
    },
    {
      "cell_type": "markdown",
      "metadata": {},
      "source": [
        "In this case, we're going to drop the NAs, but calculating the mean instead is also an option if the dataset is small and you need each and every row."
      ]
    },
    {
      "cell_type": "code",
      "execution_count": 129,
      "metadata": {},
      "outputs": [],
      "source": [
        "data_no_nulls=data_no_nulls.na.drop()"
      ]
    },
    {
      "cell_type": "code",
      "execution_count": 136,
      "metadata": {},
      "outputs": [
        {
          "name": "stdout",
          "output_type": "stream",
          "text": [
            "<class 'pandas.core.frame.DataFrame'>\n",
            "RangeIndex: 20421 entries, 0 to 20420\n",
            "Data columns (total 11 columns):\n",
            " #   Column              Non-Null Count  Dtype  \n",
            "---  ------              --------------  -----  \n",
            " 0   LONGITUDE           20421 non-null  int8   \n",
            " 1   LATITUDE            20421 non-null  int8   \n",
            " 2   HOUSING_MEDIAN_AGE  20421 non-null  int8   \n",
            " 3   TOTAL_ROOMS         20421 non-null  int32  \n",
            " 4   TOTAL_BEDROOMS      20421 non-null  float64\n",
            " 5   POPULATION          20421 non-null  int32  \n",
            " 6   HOUSEHOLDS          20421 non-null  int16  \n",
            " 7   MEDIAN_INCOME       20421 non-null  int8   \n",
            " 8   MEDIAN_HOUSE_VALUE  20421 non-null  int32  \n",
            " 9   OCEAN_PROXIMITY     20421 non-null  object \n",
            " 10  INCOME_CAT          20421 non-null  int8   \n",
            "dtypes: float64(1), int16(1), int32(3), int8(5), object(1)\n",
            "memory usage: 698.1+ KB\n"
          ]
        }
      ],
      "source": [
        "data_no_nulls.toPandas().info()"
      ]
    },
    {
      "cell_type": "markdown",
      "metadata": {},
      "source": [
        "Now, we can load it to snowflake without any null values."
      ]
    },
    {
      "cell_type": "code",
      "execution_count": 132,
      "metadata": {},
      "outputs": [],
      "source": [
        "data_no_nulls.write.mode(\"overwrite\").save_as_table(\"Data_no_nulls\")"
      ]
    },
    {
      "cell_type": "markdown",
      "metadata": {
        "id": "R1P3M6IkcGSA"
      },
      "source": [
        "## 3. Training"
      ]
    },
    {
      "cell_type": "markdown",
      "metadata": {
        "id": "_jQRK7_xcGSA"
      },
      "source": [
        "We're getting into the fun part! We can test different Machine Learning algoritms and see how they perform in our data. To do so, we'll create a Python funtion that encapsulates everything we consider necessary to train our model in Snowflake. \n",
        "\n",
        "The function save_file will drop our model into Snowflake to create a .joblib file. We can then call it and use it for inference after our training. \n"
      ]
    },
    {
      "cell_type": "code",
      "execution_count": 147,
      "metadata": {
        "id": "vRfATdpGcGSA"
      },
      "outputs": [],
      "source": [
        "def save_file(session, model, path):\n",
        "  input_stream = io.BytesIO()\n",
        "  joblib.dump(model, input_stream)\n",
        "  session._conn._cursor.upload_stream(input_stream, path)\n",
        "  return \"successfully created file: \" + path\n"
      ]
    },
    {
      "cell_type": "markdown",
      "metadata": {
        "id": "eNzPSOBkcGSB"
      },
      "source": [
        "The train_model function, as the name indicates, trains our model into Snowflake using the parameters we choose. \n",
        "\n",
        "The function is divided into five parts:\n",
        "\n",
        "#### 1. Ingestion\n",
        "\n",
        "First, let's create a selection to pick the models we want to test, in this case we're going to include XGBoost and Random forest\n",
        "We'll take our data, cleaned from null values, and put it as a Pandas dataframe. \n",
        "\n",
        "#### 2. Split the Train and Test Set\n",
        "\n",
        "Perform a stratified split of our data based on INCOME_CAT. Thus, we can be sure that our test set has almost the same proportion of income categories than the full dataset. For more information on why is this important, please check out pages 57 and 58 of the second reference we included at the end of this tutotial. Finally, we'll save the train and test set and get the data labels.\n",
        "\n",
        "#### 3.  Create a Pipeline for Numerical and Categorical Features \n",
        "\n",
        "This is where the transformation process takes place. By separating our numerical and categorical features to prepare them for training, we're performing feature scaling to get all variables in the same scale. We can then apply one hot encoder to convert categories into numbers, fit them in the pre-processing pipeline. \n",
        "\n",
        "\n",
        "#### 4. Predict on the Test Set and Return the Root Mean Squared Error (RMSE)\n",
        "\n",
        "In this step we use cross-validation and  RandomizedSearchCV to find optimal parameters for our algorithm, the final step saves the model in the MODEL stage as .joblib file. The full_pipeline.transform will apply transformations done in the training set. In this case, we used the Random Forest Regressor.\n"
      ]
    },
    {
      "cell_type": "code",
      "execution_count": 149,
      "metadata": {
        "id": "wiuYuspFcGSB"
      },
      "outputs": [],
      "source": [
        "\n",
        "def train_model(session: snowflake.snowpark.Session, table:str, params_distr:dict, algorithm:str) -> float:\n",
        "        #1. Ingestion\n",
        "        #Let's create a selection to pick the models we want to test, in this case we're going to include XGBoost and Random forest\n",
        "        models_select= {}\n",
        "        xgb= XGBRegressor(nthreads=1, random_state=42)\n",
        "        forest= RandomForestRegressor(random_state=42)   \n",
        "        models_select[\"xgb\"] = xgb\n",
        "        models_select[\"forest\"] = forest\n",
        "        \n",
        "        #Load the table without null values \n",
        "        data_no_nulls = session.table(table)\n",
        "        data=data_no_nulls.to_pandas()\n",
        "        \n",
        "        #2. split the train and test set\n",
        "        split = StratifiedShuffleSplit(n_splits=1, test_size=0.2, random_state=42)\n",
        "        for train_index, test_index in split.split(data, data[\"INCOME_CAT\"]):\n",
        "            strat_train_set = data.iloc[train_index]\n",
        "            strat_test_set = data.iloc[test_index]\n",
        "        #strat_train_set, strat_test_set = data.random_split([0.8, 0.2], seed=82)\n",
        "\n",
        "        # save the train and test sets as time stamped tables in Snowflake \n",
        "        session.create_dataframe(strat_train_set).write.mode(\"overwrite\").save_as_table(\"HOUSING_TRAIN\")\n",
        "        session.create_dataframe(strat_test_set).write.mode(\"overwrite\").save_as_table(\"HOUSING_TEST\")\n",
        "\n",
        "        #3. create a pipeline for numerical and categorical features    \n",
        "        data = strat_train_set.drop(['MEDIAN_HOUSE_VALUE', 'INCOME_CAT'], axis=1)\n",
        "        data_labels = strat_train_set[\"MEDIAN_HOUSE_VALUE\"].copy()\n",
        "        housing_test = strat_test_set.drop(\"MEDIAN_HOUSE_VALUE\", axis=1)\n",
        "        housing_test_labels = strat_test_set[\"MEDIAN_HOUSE_VALUE\"].copy()\n",
        "\n",
        "        \n",
        "        # numerical features\n",
        "        housing_num = data.drop(\"OCEAN_PROXIMITY\", axis=1)\n",
        "        # create a pipeline for numerical features\n",
        "        num_pipeline = Pipeline([\n",
        "        ('std_scaler', StandardScaler()),\n",
        "        ])\n",
        "        data_num_tr = num_pipeline.fit_transform(housing_num)\n",
        "\n",
        "        num_attribs = list(housing_num)\n",
        "        cat_attribs = [\"OCEAN_PROXIMITY\"]\n",
        "        \n",
        "        preprocessor = ColumnTransformer([\n",
        "        (\"num\", num_pipeline, num_attribs),\n",
        "        (\"cat\", OneHotEncoder(), cat_attribs),\n",
        "        ])\n",
        "        #data_prepared = preprocessor.fit_transform(data)\n",
        "        full_pipeline = Pipeline([\n",
        "                ('preprocessor', preprocessor),\n",
        "                ('model', models_select[algorithm]),\n",
        "            ])  \n",
        "        \n",
        "        #4 predict on the test set and return the root mean squared error (RMSE)\n",
        "        \n",
        "        # Good practice of repeated k-fold cross-validation with 3 repeats and 10 folds in this case we select 5 for faster execution.\n",
        "        cv = RepeatedKFold(n_splits=5, n_repeats=3, random_state=1)\n",
        "        random_search = RandomizedSearchCV(full_pipeline, param_distributions=params_distr,\n",
        "                                    n_iter=50, cv=cv, scoring='neg_mean_squared_error',\n",
        "                                    verbose=1, random_state=42)\n",
        "\n",
        "        random_search.fit(data, data_labels)\n",
        "         #5 save the model\n",
        "        save_file(session, random_search, \"@MODELS/housing_reg.joblib\") \n",
        "        negative_mse = random_search.best_score_\n",
        "        rmse = np.sqrt(-negative_mse)\n",
        "        return rmse"
      ]
    },
    {
      "cell_type": "code",
      "execution_count": 150,
      "metadata": {
        "id": "D8XxtFaZcGSB"
      },
      "outputs": [],
      "source": [
        "params_distr = {'model__n_estimators': [int(x) for x in np.linspace(start = 1, stop = 20, num = 20)],\n",
        "    'model__max_features': ['auto', 'sqrt'],\n",
        "    'model__max_depth': [int(x) for x in np.linspace(10, 120, num = 12)],\n",
        "    'model__min_samples_split': [2, 6, 10],\n",
        "    'model__min_samples_leaf':[1, 3, 4],\n",
        "    'model__bootstrap': [True, False]}\n",
        "\n",
        "table=\"Data_no_nulls\"\n",
        "\n"
      ]
    },
    {
      "cell_type": "code",
      "execution_count": 151,
      "metadata": {
        "id": "55WLAsklcGSC"
      },
      "outputs": [],
      "source": [
        "# Create an instance of StoredProcedure using the sproc() function\n",
        "train_model_sp = sproc(train_model, replace=True, session=session)\n"
      ]
    },
    {
      "cell_type": "code",
      "execution_count": 152,
      "metadata": {
        "id": "Gx0QRtXTcGSC",
        "outputId": "85673144-ef51-4230-ff8b-2082651faf47"
      },
      "outputs": [
        {
          "data": {
            "text/plain": [
              "59098.024468258394"
            ]
          },
          "execution_count": 152,
          "metadata": {},
          "output_type": "execute_result"
        }
      ],
      "source": [
        "train_model_sp(table,params_distr, \"forest\", session=session)"
      ]
    },
    {
      "cell_type": "markdown",
      "metadata": {
        "id": "Cmqb_AXjcGSC"
      },
      "source": [
        "Random Forest gets us a prediction error of $59098. Although this isn't a satisfactory result, we're going to leave it there.  When working with any data set, please check different algorithms and features to see which one will give you best results. The function built previously can be expanded to include other algorithms besides Random Forests. \n",
        "\n",
        "<mark>Note:</mark> By the time this article was written, executing XGBoost would eventually exhaust warehouse memory, but with the recent release of Snowpark in GA, Snowflake also announced [Snowpark-Optimized Warehouses](https://docs.snowflake.com/en/user-guide/warehouses-snowpark-optimized.html), this are recommended for workloads that have large memory requirements such as ML training.\n",
        "\n",
        "You will see XGBoost already there, so just give a try and also add your own."
      ]
    },
    {
      "cell_type": "markdown",
      "metadata": {
        "id": "FZJpRrgKcGSC"
      },
      "source": [
        "## 4. Deploy the Model in Snowflake"
      ]
    },
    {
      "cell_type": "markdown",
      "metadata": {
        "id": "fpRqXUgmcGSC"
      },
      "source": [
        "Let's say our model is trained and tuned and we're satisifed with the accuracy. In this case, let's proceed to deploy it to Snowflake using Python UDFs.\n",
        "\n"
      ]
    },
    {
      "cell_type": "markdown",
      "metadata": {
        "id": "kefAH77VcGSC"
      },
      "source": [
        "The Snowpark library uploads and executes UDFs on the server. If your UDF has a dependency or needs to read data from a file, you need to call Session.add_import(). For this case, we added the models from the model stage. The next step is to create a function that will reconstruct a Python object from a file persisted with joblib.dump, like we did on the save_file function."
      ]
    },
    {
      "cell_type": "code",
      "execution_count": 153,
      "metadata": {
        "id": "stLuIa0hcGSD"
      },
      "outputs": [],
      "source": [
        "\n",
        "import sys\n",
        "import cachetools\n",
        "import os\n",
        "session.add_import(\"@MODELS/housing_reg.joblib\") \n",
        "\n",
        "@cachetools.cached(cache={})\n",
        "def read_file(filename):\n",
        "       import_dir = sys._xoptions.get(\"snowflake_import_directory\")\n",
        "       if import_dir:\n",
        "              with open(os.path.join(import_dir, filename), 'rb') as file:\n",
        "                     m = joblib.load(file)\n",
        "                     return m\n"
      ]
    },
    {
      "cell_type": "markdown",
      "metadata": {
        "id": "nkA9NclncGSD"
      },
      "source": [
        "The **@udf** decorator will package the function as Snowflake Python UDF and save the model into Snowflake's internal stage UDF. The function name will be \"predict\". It will run the previous read_file function, load it into the variable called \"m\", create a dataframe with locals variables, and run \"predict\" on the variable row. "
      ]
    },
    {
      "cell_type": "code",
      "execution_count": 155,
      "metadata": {
        "id": "EmJQoS4vcGSD"
      },
      "outputs": [],
      "source": [
        "from snowflake.snowpark.functions import udf\n",
        "\n",
        "features = ['LONGITUDE', 'LATITUDE', 'HOUSING_MEDIAN_AGE', 'TOTAL_ROOMS',\n",
        "       'TOTAL_BEDROOMS', 'POPULATION', 'HOUSEHOLDS', 'MEDIAN_INCOME', 'OCEAN_PROXIMITY']\n",
        "\n",
        "@udf(name='predict', is_permanent=True, stage_location='@udf', replace=True, session=session)\n",
        "def predict(LONGITUDE: float, LATITUDE: float, HOUSING_MEDIAN_AGE: float, TOTAL_ROOMS: float, \n",
        "                    TOTAL_BEDROOMS: float, POPULATION: float, HOUSEHOLDS: float, MEDIAN_INCOME: float, \n",
        "                    OCEAN_PROXIMITY: str) -> float:\n",
        "       m = read_file('housing_reg.joblib')       \n",
        "       row = pd.DataFrame([locals()], columns=features)\n",
        "       return m.predict(row)[0]"
      ]
    },
    {
      "cell_type": "markdown",
      "metadata": {
        "id": "wslXr8C6cGSD"
      },
      "source": [
        "We load the Housing_Test set we created before in snowdf_test. If we want to predict \"Median_house_Value\", we drop that one and the one we created earlier \"Income_Cat\". Once that is done, we call our predict UDF."
      ]
    },
    {
      "cell_type": "code",
      "execution_count": 156,
      "metadata": {
        "id": "feSQ0klfcGSD"
      },
      "outputs": [],
      "source": [
        "\n",
        "from snowflake.snowpark import functions as F\n",
        "\n",
        "snowdf_test = session.table(\"HOUSING_TEST\")\n",
        "inputs = snowdf_test.drop(\"MEDIAN_HOUSE_VALUE\", \"INCOME_CAT\")\n",
        "snowdf_results = snowdf_test.select(\n",
        "                    *inputs,\n",
        "                    predict(*inputs).alias('PREDICTION'), \n",
        "                    (F.col('MEDIAN_HOUSE_VALUE')).alias('ACTUAL_LABEL')\n",
        "                    ).limit(20)\n",
        "                    \n"
      ]
    },
    {
      "cell_type": "code",
      "execution_count": 157,
      "metadata": {
        "id": "W0gXQprUcGSD",
        "outputId": "6a82f0df-149c-497a-bfdb-2f33fff4b2db"
      },
      "outputs": [
        {
          "data": {
            "text/html": [
              "<div>\n",
              "<style scoped>\n",
              "    .dataframe tbody tr th:only-of-type {\n",
              "        vertical-align: middle;\n",
              "    }\n",
              "\n",
              "    .dataframe tbody tr th {\n",
              "        vertical-align: top;\n",
              "    }\n",
              "\n",
              "    .dataframe thead th {\n",
              "        text-align: right;\n",
              "    }\n",
              "</style>\n",
              "<table border=\"1\" class=\"dataframe\">\n",
              "  <thead>\n",
              "    <tr style=\"text-align: right;\">\n",
              "      <th></th>\n",
              "      <th>LONGITUDE</th>\n",
              "      <th>LATITUDE</th>\n",
              "      <th>HOUSING_MEDIAN_AGE</th>\n",
              "      <th>TOTAL_ROOMS</th>\n",
              "      <th>TOTAL_BEDROOMS</th>\n",
              "      <th>POPULATION</th>\n",
              "      <th>HOUSEHOLDS</th>\n",
              "      <th>MEDIAN_INCOME</th>\n",
              "      <th>OCEAN_PROXIMITY</th>\n",
              "      <th>PREDICTION</th>\n",
              "      <th>ACTUAL_LABEL</th>\n",
              "    </tr>\n",
              "  </thead>\n",
              "  <tbody>\n",
              "    <tr>\n",
              "      <th>0</th>\n",
              "      <td>-118</td>\n",
              "      <td>34</td>\n",
              "      <td>48</td>\n",
              "      <td>1226</td>\n",
              "      <td>288.0</td>\n",
              "      <td>370</td>\n",
              "      <td>264</td>\n",
              "      <td>4</td>\n",
              "      <td>&lt;1H OCEAN</td>\n",
              "      <td>337086.605000</td>\n",
              "      <td>450000</td>\n",
              "    </tr>\n",
              "    <tr>\n",
              "      <th>1</th>\n",
              "      <td>-117</td>\n",
              "      <td>33</td>\n",
              "      <td>7</td>\n",
              "      <td>10665</td>\n",
              "      <td>2576.0</td>\n",
              "      <td>4917</td>\n",
              "      <td>2424</td>\n",
              "      <td>2</td>\n",
              "      <td>&lt;1H OCEAN</td>\n",
              "      <td>143332.138278</td>\n",
              "      <td>159500</td>\n",
              "    </tr>\n",
              "    <tr>\n",
              "      <th>2</th>\n",
              "      <td>-122</td>\n",
              "      <td>38</td>\n",
              "      <td>52</td>\n",
              "      <td>3563</td>\n",
              "      <td>832.0</td>\n",
              "      <td>1712</td>\n",
              "      <td>787</td>\n",
              "      <td>3</td>\n",
              "      <td>NEAR BAY</td>\n",
              "      <td>274763.820107</td>\n",
              "      <td>335700</td>\n",
              "    </tr>\n",
              "    <tr>\n",
              "      <th>3</th>\n",
              "      <td>-118</td>\n",
              "      <td>34</td>\n",
              "      <td>15</td>\n",
              "      <td>4713</td>\n",
              "      <td>671.0</td>\n",
              "      <td>2197</td>\n",
              "      <td>673</td>\n",
              "      <td>8</td>\n",
              "      <td>&lt;1H OCEAN</td>\n",
              "      <td>360629.228535</td>\n",
              "      <td>294800</td>\n",
              "    </tr>\n",
              "    <tr>\n",
              "      <th>4</th>\n",
              "      <td>-122</td>\n",
              "      <td>39</td>\n",
              "      <td>41</td>\n",
              "      <td>1317</td>\n",
              "      <td>309.0</td>\n",
              "      <td>856</td>\n",
              "      <td>337</td>\n",
              "      <td>2</td>\n",
              "      <td>INLAND</td>\n",
              "      <td>88481.666667</td>\n",
              "      <td>64100</td>\n",
              "    </tr>\n",
              "    <tr>\n",
              "      <th>5</th>\n",
              "      <td>-119</td>\n",
              "      <td>34</td>\n",
              "      <td>27</td>\n",
              "      <td>1527</td>\n",
              "      <td>220.0</td>\n",
              "      <td>756</td>\n",
              "      <td>226</td>\n",
              "      <td>6</td>\n",
              "      <td>&lt;1H OCEAN</td>\n",
              "      <td>291188.946429</td>\n",
              "      <td>227000</td>\n",
              "    </tr>\n",
              "    <tr>\n",
              "      <th>6</th>\n",
              "      <td>-118</td>\n",
              "      <td>34</td>\n",
              "      <td>38</td>\n",
              "      <td>1437</td>\n",
              "      <td>272.0</td>\n",
              "      <td>590</td>\n",
              "      <td>250</td>\n",
              "      <td>5</td>\n",
              "      <td>&lt;1H OCEAN</td>\n",
              "      <td>341047.958493</td>\n",
              "      <td>358000</td>\n",
              "    </tr>\n",
              "    <tr>\n",
              "      <th>7</th>\n",
              "      <td>-118</td>\n",
              "      <td>34</td>\n",
              "      <td>20</td>\n",
              "      <td>9893</td>\n",
              "      <td>2283.0</td>\n",
              "      <td>7228</td>\n",
              "      <td>2159</td>\n",
              "      <td>3</td>\n",
              "      <td>&lt;1H OCEAN</td>\n",
              "      <td>188565.617965</td>\n",
              "      <td>186700</td>\n",
              "    </tr>\n",
              "    <tr>\n",
              "      <th>8</th>\n",
              "      <td>-122</td>\n",
              "      <td>38</td>\n",
              "      <td>52</td>\n",
              "      <td>1900</td>\n",
              "      <td>290.0</td>\n",
              "      <td>665</td>\n",
              "      <td>276</td>\n",
              "      <td>5</td>\n",
              "      <td>NEAR OCEAN</td>\n",
              "      <td>335901.317419</td>\n",
              "      <td>500001</td>\n",
              "    </tr>\n",
              "    <tr>\n",
              "      <th>9</th>\n",
              "      <td>-119</td>\n",
              "      <td>34</td>\n",
              "      <td>29</td>\n",
              "      <td>1287</td>\n",
              "      <td>194.0</td>\n",
              "      <td>525</td>\n",
              "      <td>187</td>\n",
              "      <td>6</td>\n",
              "      <td>&lt;1H OCEAN</td>\n",
              "      <td>324530.925852</td>\n",
              "      <td>319300</td>\n",
              "    </tr>\n",
              "    <tr>\n",
              "      <th>10</th>\n",
              "      <td>-122</td>\n",
              "      <td>37</td>\n",
              "      <td>33</td>\n",
              "      <td>2398</td>\n",
              "      <td>317.0</td>\n",
              "      <td>832</td>\n",
              "      <td>314</td>\n",
              "      <td>10</td>\n",
              "      <td>NEAR BAY</td>\n",
              "      <td>490211.876667</td>\n",
              "      <td>500001</td>\n",
              "    </tr>\n",
              "    <tr>\n",
              "      <th>11</th>\n",
              "      <td>-118</td>\n",
              "      <td>34</td>\n",
              "      <td>29</td>\n",
              "      <td>2228</td>\n",
              "      <td>396.0</td>\n",
              "      <td>1140</td>\n",
              "      <td>352</td>\n",
              "      <td>4</td>\n",
              "      <td>&lt;1H OCEAN</td>\n",
              "      <td>217153.803752</td>\n",
              "      <td>169400</td>\n",
              "    </tr>\n",
              "    <tr>\n",
              "      <th>12</th>\n",
              "      <td>-122</td>\n",
              "      <td>40</td>\n",
              "      <td>19</td>\n",
              "      <td>7254</td>\n",
              "      <td>1785.0</td>\n",
              "      <td>4030</td>\n",
              "      <td>1667</td>\n",
              "      <td>2</td>\n",
              "      <td>INLAND</td>\n",
              "      <td>115840.000000</td>\n",
              "      <td>87300</td>\n",
              "    </tr>\n",
              "    <tr>\n",
              "      <th>13</th>\n",
              "      <td>-123</td>\n",
              "      <td>38</td>\n",
              "      <td>20</td>\n",
              "      <td>4582</td>\n",
              "      <td>1124.0</td>\n",
              "      <td>2325</td>\n",
              "      <td>1040</td>\n",
              "      <td>4</td>\n",
              "      <td>NEAR OCEAN</td>\n",
              "      <td>293688.742883</td>\n",
              "      <td>275000</td>\n",
              "    </tr>\n",
              "    <tr>\n",
              "      <th>14</th>\n",
              "      <td>-122</td>\n",
              "      <td>37</td>\n",
              "      <td>20</td>\n",
              "      <td>3976</td>\n",
              "      <td>953.0</td>\n",
              "      <td>3866</td>\n",
              "      <td>950</td>\n",
              "      <td>3</td>\n",
              "      <td>INLAND</td>\n",
              "      <td>128528.714286</td>\n",
              "      <td>160100</td>\n",
              "    </tr>\n",
              "    <tr>\n",
              "      <th>15</th>\n",
              "      <td>-117</td>\n",
              "      <td>34</td>\n",
              "      <td>5</td>\n",
              "      <td>1775</td>\n",
              "      <td>234.0</td>\n",
              "      <td>726</td>\n",
              "      <td>222</td>\n",
              "      <td>8</td>\n",
              "      <td>INLAND</td>\n",
              "      <td>246011.340909</td>\n",
              "      <td>223900</td>\n",
              "    </tr>\n",
              "    <tr>\n",
              "      <th>16</th>\n",
              "      <td>-118</td>\n",
              "      <td>34</td>\n",
              "      <td>24</td>\n",
              "      <td>1705</td>\n",
              "      <td>479.0</td>\n",
              "      <td>2037</td>\n",
              "      <td>459</td>\n",
              "      <td>2</td>\n",
              "      <td>&lt;1H OCEAN</td>\n",
              "      <td>135870.625992</td>\n",
              "      <td>137500</td>\n",
              "    </tr>\n",
              "    <tr>\n",
              "      <th>17</th>\n",
              "      <td>-118</td>\n",
              "      <td>36</td>\n",
              "      <td>15</td>\n",
              "      <td>1962</td>\n",
              "      <td>403.0</td>\n",
              "      <td>730</td>\n",
              "      <td>321</td>\n",
              "      <td>2</td>\n",
              "      <td>INLAND</td>\n",
              "      <td>87135.583333</td>\n",
              "      <td>67500</td>\n",
              "    </tr>\n",
              "    <tr>\n",
              "      <th>18</th>\n",
              "      <td>-120</td>\n",
              "      <td>37</td>\n",
              "      <td>38</td>\n",
              "      <td>1696</td>\n",
              "      <td>301.0</td>\n",
              "      <td>985</td>\n",
              "      <td>278</td>\n",
              "      <td>2</td>\n",
              "      <td>INLAND</td>\n",
              "      <td>85476.583333</td>\n",
              "      <td>112500</td>\n",
              "    </tr>\n",
              "    <tr>\n",
              "      <th>19</th>\n",
              "      <td>-121</td>\n",
              "      <td>39</td>\n",
              "      <td>15</td>\n",
              "      <td>7901</td>\n",
              "      <td>1422.0</td>\n",
              "      <td>4769</td>\n",
              "      <td>1418</td>\n",
              "      <td>3</td>\n",
              "      <td>INLAND</td>\n",
              "      <td>116869.821429</td>\n",
              "      <td>90400</td>\n",
              "    </tr>\n",
              "  </tbody>\n",
              "</table>\n",
              "</div>"
            ],
            "text/plain": [
              "    LONGITUDE  LATITUDE  HOUSING_MEDIAN_AGE  TOTAL_ROOMS  TOTAL_BEDROOMS  \\\n",
              "0        -118        34                  48         1226           288.0   \n",
              "1        -117        33                   7        10665          2576.0   \n",
              "2        -122        38                  52         3563           832.0   \n",
              "3        -118        34                  15         4713           671.0   \n",
              "4        -122        39                  41         1317           309.0   \n",
              "5        -119        34                  27         1527           220.0   \n",
              "6        -118        34                  38         1437           272.0   \n",
              "7        -118        34                  20         9893          2283.0   \n",
              "8        -122        38                  52         1900           290.0   \n",
              "9        -119        34                  29         1287           194.0   \n",
              "10       -122        37                  33         2398           317.0   \n",
              "11       -118        34                  29         2228           396.0   \n",
              "12       -122        40                  19         7254          1785.0   \n",
              "13       -123        38                  20         4582          1124.0   \n",
              "14       -122        37                  20         3976           953.0   \n",
              "15       -117        34                   5         1775           234.0   \n",
              "16       -118        34                  24         1705           479.0   \n",
              "17       -118        36                  15         1962           403.0   \n",
              "18       -120        37                  38         1696           301.0   \n",
              "19       -121        39                  15         7901          1422.0   \n",
              "\n",
              "    POPULATION  HOUSEHOLDS  MEDIAN_INCOME OCEAN_PROXIMITY     PREDICTION  \\\n",
              "0          370         264              4       <1H OCEAN  337086.605000   \n",
              "1         4917        2424              2       <1H OCEAN  143332.138278   \n",
              "2         1712         787              3        NEAR BAY  274763.820107   \n",
              "3         2197         673              8       <1H OCEAN  360629.228535   \n",
              "4          856         337              2          INLAND   88481.666667   \n",
              "5          756         226              6       <1H OCEAN  291188.946429   \n",
              "6          590         250              5       <1H OCEAN  341047.958493   \n",
              "7         7228        2159              3       <1H OCEAN  188565.617965   \n",
              "8          665         276              5      NEAR OCEAN  335901.317419   \n",
              "9          525         187              6       <1H OCEAN  324530.925852   \n",
              "10         832         314             10        NEAR BAY  490211.876667   \n",
              "11        1140         352              4       <1H OCEAN  217153.803752   \n",
              "12        4030        1667              2          INLAND  115840.000000   \n",
              "13        2325        1040              4      NEAR OCEAN  293688.742883   \n",
              "14        3866         950              3          INLAND  128528.714286   \n",
              "15         726         222              8          INLAND  246011.340909   \n",
              "16        2037         459              2       <1H OCEAN  135870.625992   \n",
              "17         730         321              2          INLAND   87135.583333   \n",
              "18         985         278              2          INLAND   85476.583333   \n",
              "19        4769        1418              3          INLAND  116869.821429   \n",
              "\n",
              "    ACTUAL_LABEL  \n",
              "0         450000  \n",
              "1         159500  \n",
              "2         335700  \n",
              "3         294800  \n",
              "4          64100  \n",
              "5         227000  \n",
              "6         358000  \n",
              "7         186700  \n",
              "8         500001  \n",
              "9         319300  \n",
              "10        500001  \n",
              "11        169400  \n",
              "12         87300  \n",
              "13        275000  \n",
              "14        160100  \n",
              "15        223900  \n",
              "16        137500  \n",
              "17         67500  \n",
              "18        112500  \n",
              "19         90400  "
            ]
          },
          "execution_count": 157,
          "metadata": {},
          "output_type": "execute_result"
        }
      ],
      "source": [
        "snowdf_results.to_pandas()"
      ]
    },
    {
      "cell_type": "markdown",
      "metadata": {
        "id": "Xo8CRsOmcGSE"
      },
      "source": [
        "And finally, we place the Actual label vs the prediction:"
      ]
    },
    {
      "cell_type": "code",
      "execution_count": 158,
      "metadata": {
        "id": "R24tOak5cGSE",
        "outputId": "2838ddbc-258f-47bd-be9e-dd41e5312357"
      },
      "outputs": [
        {
          "data": {
            "text/html": [
              "<div>\n",
              "<style scoped>\n",
              "    .dataframe tbody tr th:only-of-type {\n",
              "        vertical-align: middle;\n",
              "    }\n",
              "\n",
              "    .dataframe tbody tr th {\n",
              "        vertical-align: top;\n",
              "    }\n",
              "\n",
              "    .dataframe thead th {\n",
              "        text-align: right;\n",
              "    }\n",
              "</style>\n",
              "<table border=\"1\" class=\"dataframe\">\n",
              "  <thead>\n",
              "    <tr style=\"text-align: right;\">\n",
              "      <th></th>\n",
              "      <th>PREDICTION</th>\n",
              "      <th>ACTUAL_LABEL</th>\n",
              "    </tr>\n",
              "  </thead>\n",
              "  <tbody>\n",
              "    <tr>\n",
              "      <th>0</th>\n",
              "      <td>337086.605000</td>\n",
              "      <td>450000</td>\n",
              "    </tr>\n",
              "    <tr>\n",
              "      <th>1</th>\n",
              "      <td>143332.138278</td>\n",
              "      <td>159500</td>\n",
              "    </tr>\n",
              "    <tr>\n",
              "      <th>2</th>\n",
              "      <td>274763.820107</td>\n",
              "      <td>335700</td>\n",
              "    </tr>\n",
              "    <tr>\n",
              "      <th>3</th>\n",
              "      <td>360629.228535</td>\n",
              "      <td>294800</td>\n",
              "    </tr>\n",
              "    <tr>\n",
              "      <th>4</th>\n",
              "      <td>88481.666667</td>\n",
              "      <td>64100</td>\n",
              "    </tr>\n",
              "    <tr>\n",
              "      <th>5</th>\n",
              "      <td>291188.946429</td>\n",
              "      <td>227000</td>\n",
              "    </tr>\n",
              "    <tr>\n",
              "      <th>6</th>\n",
              "      <td>341047.958493</td>\n",
              "      <td>358000</td>\n",
              "    </tr>\n",
              "    <tr>\n",
              "      <th>7</th>\n",
              "      <td>188565.617965</td>\n",
              "      <td>186700</td>\n",
              "    </tr>\n",
              "    <tr>\n",
              "      <th>8</th>\n",
              "      <td>335901.317419</td>\n",
              "      <td>500001</td>\n",
              "    </tr>\n",
              "    <tr>\n",
              "      <th>9</th>\n",
              "      <td>324530.925852</td>\n",
              "      <td>319300</td>\n",
              "    </tr>\n",
              "    <tr>\n",
              "      <th>10</th>\n",
              "      <td>490211.876667</td>\n",
              "      <td>500001</td>\n",
              "    </tr>\n",
              "    <tr>\n",
              "      <th>11</th>\n",
              "      <td>217153.803752</td>\n",
              "      <td>169400</td>\n",
              "    </tr>\n",
              "    <tr>\n",
              "      <th>12</th>\n",
              "      <td>115840.000000</td>\n",
              "      <td>87300</td>\n",
              "    </tr>\n",
              "    <tr>\n",
              "      <th>13</th>\n",
              "      <td>293688.742883</td>\n",
              "      <td>275000</td>\n",
              "    </tr>\n",
              "    <tr>\n",
              "      <th>14</th>\n",
              "      <td>128528.714286</td>\n",
              "      <td>160100</td>\n",
              "    </tr>\n",
              "    <tr>\n",
              "      <th>15</th>\n",
              "      <td>246011.340909</td>\n",
              "      <td>223900</td>\n",
              "    </tr>\n",
              "    <tr>\n",
              "      <th>16</th>\n",
              "      <td>135870.625992</td>\n",
              "      <td>137500</td>\n",
              "    </tr>\n",
              "    <tr>\n",
              "      <th>17</th>\n",
              "      <td>87135.583333</td>\n",
              "      <td>67500</td>\n",
              "    </tr>\n",
              "    <tr>\n",
              "      <th>18</th>\n",
              "      <td>85476.583333</td>\n",
              "      <td>112500</td>\n",
              "    </tr>\n",
              "    <tr>\n",
              "      <th>19</th>\n",
              "      <td>116869.821429</td>\n",
              "      <td>90400</td>\n",
              "    </tr>\n",
              "  </tbody>\n",
              "</table>\n",
              "</div>"
            ],
            "text/plain": [
              "       PREDICTION  ACTUAL_LABEL\n",
              "0   337086.605000        450000\n",
              "1   143332.138278        159500\n",
              "2   274763.820107        335700\n",
              "3   360629.228535        294800\n",
              "4    88481.666667         64100\n",
              "5   291188.946429        227000\n",
              "6   341047.958493        358000\n",
              "7   188565.617965        186700\n",
              "8   335901.317419        500001\n",
              "9   324530.925852        319300\n",
              "10  490211.876667        500001\n",
              "11  217153.803752        169400\n",
              "12  115840.000000         87300\n",
              "13  293688.742883        275000\n",
              "14  128528.714286        160100\n",
              "15  246011.340909        223900\n",
              "16  135870.625992        137500\n",
              "17   87135.583333         67500\n",
              "18   85476.583333        112500\n",
              "19  116869.821429         90400"
            ]
          },
          "execution_count": 158,
          "metadata": {},
          "output_type": "execute_result"
        }
      ],
      "source": [
        "snowdf_results.select(snowdf_results.PREDICTION,snowdf_results.ACTUAL_LABEL).to_pandas()"
      ]
    },
    {
      "cell_type": "markdown",
      "metadata": {
        "id": "m_kzIZ8ccGSE"
      },
      "source": [
        "And this is the view we get placing a Housing_Detection table with our predictions in Snowflake."
      ]
    },
    {
      "cell_type": "markdown",
      "metadata": {
        "id": "NFWkDxTHJtKg"
      },
      "source": [
        "![Snowflake_predictions.png](data:image/png;base64,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)"
      ]
    },
    {
      "cell_type": "markdown",
      "metadata": {
        "id": "R_3gEa51cGSE"
      },
      "source": [
        "# Too Long, Didn't Read:\n",
        "\n",
        "In this article/tutorial, you learned how to take an already available data science model and migrate it to Snowflake using Snowpark for Python.\n",
        "\n",
        "Some of the points covered here were:\n",
        "- How to connect to Snowflake\n",
        "- Loading data using Snowpark functions like copy_into\n",
        "- Connect to your data in Snowflake\n",
        "- Perform data science predictive modeling in our data with EDA, data cleaning, Cross-validation and fine tunnning \n",
        "- Deploy the model in Snowflake with UDF python functions.\n",
        "\n",
        "I hope you enjoyed the tutorial as much as we did creating it! As a closing thought, if you no longer need to use a session for executing queries and want to cancel any queries that are currently running, calling the Close method from the Session object is a good way to go."
      ]
    },
    {
      "cell_type": "code",
      "execution_count": null,
      "metadata": {
        "id": "AzqYy_xvcGSE"
      },
      "outputs": [],
      "source": [
        "session.close()"
      ]
    },
    {
      "cell_type": "markdown",
      "metadata": {
        "id": "CPKHsD_GcGSF"
      },
      "source": [
        "# More information and references \n",
        "\n",
        "\n",
        "1. Snowpark Developer Guide for Python https://docs.snowflake.com/en/developer-guide/snowpark/python/index.html\n",
        "\n",
        "2. Snowpark-optimized Warehouses https://docs.snowflake.com/en/user-guide/warehouses-snowpark-optimized.html#billing-for-snowpark-optimized-warehouses\n",
        "\n",
        "3. Hands-On Machine Learning with Scikit-Learn, Keras and TensorFlow by Aurélien Géron (O’Reilly).Copyright 2019 Aurélien Géron, 978-1-492-03264-9.\n",
        "\n",
        "\n",
        "\n",
        "\n",
        "\n"
      ]
    }
  ],
  "metadata": {
    "colab": {
      "provenance": []
    },
    "kernelspec": {
      "display_name": "snowpark",
      "language": "python",
      "name": "snowpark"
    },
    "language_info": {
      "codemirror_mode": {
        "name": "ipython",
        "version": 3
      },
      "file_extension": ".py",
      "mimetype": "text/x-python",
      "name": "python",
      "nbconvert_exporter": "python",
      "pygments_lexer": "ipython3",
      "version": "3.8.13"
    },
    "orig_nbformat": 4,
    "vscode": {
      "interpreter": {
        "hash": "777421807a20b9e320d9c687a12e190ded23794501e2a9aaca0518534005ddb5"
      }
    }
  },
  "nbformat": 4,
  "nbformat_minor": 0
}
