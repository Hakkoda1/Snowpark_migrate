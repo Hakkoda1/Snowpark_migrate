{
 "cells": [
  {
   "cell_type": "markdown",
   "metadata": {},
   "source": [
    "### Tittle option\n",
    "# Option 1: Snowpark Python: Run your Data Science where your data lives: A hands-on guide\n",
    "\n",
    "# Option 2: Snowpark Python: How to migrate your DS projects."
   ]
  },
  {
   "cell_type": "markdown",
   "metadata": {},
   "source": [
    "Python for Snowpark has just been released, and now we have the ability to run our models closer of were our data lives, using Snowflake procesing power to run our model prediction. \n",
    "\n",
    "In this example we're going to take a fairly known dataset **[California Housing Prices](https://www.kaggle.com/datasets/camnugent/california-housing-prices)**, upload the data  into Snowflake using **Snowpark for Python**, we will do a quick data exploration, crossvalidation and fine-tunning, to then deploy our model into Snowflake to get our predictions using Snowflake's data warehouse. \n",
    "\n"
   ]
  },
  {
   "cell_type": "markdown",
   "metadata": {},
   "source": [
    "## 1. Load necesary Snowpark packages and connect to Snowflake\n",
    "\n",
    "We will begin by importing necesary libraries, the session class will give us everything we need to connect to Snowflake, using the same parameters from the connect function in the Snowflake Connector for Python. To create a session we will build a Python dictionary containing the names and values of the parameters, see example below. \n",
    "\n",
    "For this example, we placed those parameters in a different file called \"config\"."
   ]
  },
  {
   "cell_type": "code",
   "execution_count": null,
   "metadata": {},
   "outputs": [],
   "source": [
    "import os\n",
    "\n",
    "connection_parameters = {\n",
    "    \"account\": os.environ[\"snowflake_account\"],\n",
    "    \"user\": os.environ[\"snowflake_user\"],\n",
    "    \"password\": os.environ[\"snowflake_password\"],\n",
    "    \"role\": os.environ[\"snowflake_user_role\"],\n",
    "    \"warehouse\": os.environ[\"snowflake_warehouse\"],\n",
    "    \"database\": os.environ[\"snowflake_database\"],\n",
    "    \"schema\": os.environ[\"snowflake_schema\"]\n",
    "  }"
   ]
  },
  {
   "cell_type": "markdown",
   "metadata": {},
   "source": [
    "We will also import standart machine learning libraries like pandas, numpy and Matplotlib, and several snowpark libraries like functions that provides utility and SQL functions to generate column expressions to pass to DataFrame transformation methods, date types, and UDF to build our predictions in Snowflake. \n",
    "\n"
   ]
  },
  {
   "cell_type": "code",
   "execution_count": 2,
   "metadata": {},
   "outputs": [],
   "source": [
    "from snowflake.snowpark.session import Session\n",
    "from snowflake.snowpark import functions as F\n",
    "from snowflake.snowpark.types import *\n",
    "\n",
    "import pandas as pd\n",
    "import numpy as np\n",
    "%matplotlib inline\n",
    "import matplotlib.pyplot as plt\n",
    "\n",
    "#Snowflake connection info is saved in config.py\n",
    "from config import snowflake_conn_prop\n",
    "\n",
    "# lets import the udf function\n",
    "from snowflake.snowpark.functions import udf"
   ]
  },
  {
   "cell_type": "markdown",
   "metadata": {},
   "source": [
    "Print Snowpark version"
   ]
  },
  {
   "cell_type": "code",
   "execution_count": 2,
   "metadata": {},
   "outputs": [
    {
     "name": "stdout",
     "output_type": "stream",
     "text": [
      "(0, 6, 0, None)\n"
     ]
    }
   ],
   "source": [
    "from snowflake.snowpark import version\n",
    "print(version.VERSION)"
   ]
  },
  {
   "cell_type": "markdown",
   "metadata": {},
   "source": [
    "We'll load our data using pd.read() and pull a sample."
   ]
  },
  {
   "cell_type": "code",
   "execution_count": 3,
   "metadata": {},
   "outputs": [],
   "source": [
    "#Read the housing data\n",
    "\n",
    "#data=pd.read_csv('https://raw.githubusercontent.com/ageron/handson-ml2/master/datasets/housing/housing.csv')\n",
    "#this one will work once we release and make the repo public\n",
    "## TODO : Include public URL\n",
    "#You can download the data from our public repo\n",
    "#data=pd.read_csv('https://raw.githubusercontent.com/Hakkoda1/Snowpark_migrate/main/housing.csv')\n",
    "data=pd.read_csv('/Users/sbrenes/Snowpark/customer-churn-prediction/housing.csv')\n",
    "\n",
    "data.columns= ['LONGITUDE',\n",
    " 'LATITUDE',\n",
    " 'HOUSING_MEDIAN_AGE',\n",
    " 'TOTAL_ROOMS',\n",
    " 'TOTAL_BEDROOMS',\n",
    " 'POPULATION',\n",
    " 'HOUSEHOLDS',\n",
    " 'MEDIAN_INCOME',\n",
    " 'MEDIAN_HOUSE_VALUE',\n",
    " 'OCEAN_PROXIMITY']"
   ]
  },
  {
   "cell_type": "code",
   "execution_count": 4,
   "metadata": {},
   "outputs": [
    {
     "data": {
      "text/html": [
       "<div>\n",
       "<style scoped>\n",
       "    .dataframe tbody tr th:only-of-type {\n",
       "        vertical-align: middle;\n",
       "    }\n",
       "\n",
       "    .dataframe tbody tr th {\n",
       "        vertical-align: top;\n",
       "    }\n",
       "\n",
       "    .dataframe thead th {\n",
       "        text-align: right;\n",
       "    }\n",
       "</style>\n",
       "<table border=\"1\" class=\"dataframe\">\n",
       "  <thead>\n",
       "    <tr style=\"text-align: right;\">\n",
       "      <th></th>\n",
       "      <th>LONGITUDE</th>\n",
       "      <th>LATITUDE</th>\n",
       "      <th>HOUSING_MEDIAN_AGE</th>\n",
       "      <th>TOTAL_ROOMS</th>\n",
       "      <th>TOTAL_BEDROOMS</th>\n",
       "      <th>POPULATION</th>\n",
       "      <th>HOUSEHOLDS</th>\n",
       "      <th>MEDIAN_INCOME</th>\n",
       "      <th>MEDIAN_HOUSE_VALUE</th>\n",
       "      <th>OCEAN_PROXIMITY</th>\n",
       "    </tr>\n",
       "  </thead>\n",
       "  <tbody>\n",
       "    <tr>\n",
       "      <th>0</th>\n",
       "      <td>-122.23</td>\n",
       "      <td>37.88</td>\n",
       "      <td>41.0</td>\n",
       "      <td>880.0</td>\n",
       "      <td>129.0</td>\n",
       "      <td>322.0</td>\n",
       "      <td>126.0</td>\n",
       "      <td>8.3252</td>\n",
       "      <td>452600.0</td>\n",
       "      <td>NEAR BAY</td>\n",
       "    </tr>\n",
       "    <tr>\n",
       "      <th>1</th>\n",
       "      <td>-122.22</td>\n",
       "      <td>37.86</td>\n",
       "      <td>21.0</td>\n",
       "      <td>7099.0</td>\n",
       "      <td>1106.0</td>\n",
       "      <td>2401.0</td>\n",
       "      <td>1138.0</td>\n",
       "      <td>8.3014</td>\n",
       "      <td>358500.0</td>\n",
       "      <td>NEAR BAY</td>\n",
       "    </tr>\n",
       "    <tr>\n",
       "      <th>2</th>\n",
       "      <td>-122.24</td>\n",
       "      <td>37.85</td>\n",
       "      <td>52.0</td>\n",
       "      <td>1467.0</td>\n",
       "      <td>190.0</td>\n",
       "      <td>496.0</td>\n",
       "      <td>177.0</td>\n",
       "      <td>7.2574</td>\n",
       "      <td>352100.0</td>\n",
       "      <td>NEAR BAY</td>\n",
       "    </tr>\n",
       "    <tr>\n",
       "      <th>3</th>\n",
       "      <td>-122.25</td>\n",
       "      <td>37.85</td>\n",
       "      <td>52.0</td>\n",
       "      <td>1274.0</td>\n",
       "      <td>235.0</td>\n",
       "      <td>558.0</td>\n",
       "      <td>219.0</td>\n",
       "      <td>5.6431</td>\n",
       "      <td>341300.0</td>\n",
       "      <td>NEAR BAY</td>\n",
       "    </tr>\n",
       "    <tr>\n",
       "      <th>4</th>\n",
       "      <td>-122.25</td>\n",
       "      <td>37.85</td>\n",
       "      <td>52.0</td>\n",
       "      <td>1627.0</td>\n",
       "      <td>280.0</td>\n",
       "      <td>565.0</td>\n",
       "      <td>259.0</td>\n",
       "      <td>3.8462</td>\n",
       "      <td>342200.0</td>\n",
       "      <td>NEAR BAY</td>\n",
       "    </tr>\n",
       "  </tbody>\n",
       "</table>\n",
       "</div>"
      ],
      "text/plain": [
       "   LONGITUDE  LATITUDE  HOUSING_MEDIAN_AGE  TOTAL_ROOMS  TOTAL_BEDROOMS  \\\n",
       "0    -122.23     37.88                41.0        880.0           129.0   \n",
       "1    -122.22     37.86                21.0       7099.0          1106.0   \n",
       "2    -122.24     37.85                52.0       1467.0           190.0   \n",
       "3    -122.25     37.85                52.0       1274.0           235.0   \n",
       "4    -122.25     37.85                52.0       1627.0           280.0   \n",
       "\n",
       "   POPULATION  HOUSEHOLDS  MEDIAN_INCOME  MEDIAN_HOUSE_VALUE OCEAN_PROXIMITY  \n",
       "0       322.0       126.0         8.3252            452600.0        NEAR BAY  \n",
       "1      2401.0      1138.0         8.3014            358500.0        NEAR BAY  \n",
       "2       496.0       177.0         7.2574            352100.0        NEAR BAY  \n",
       "3       558.0       219.0         5.6431            341300.0        NEAR BAY  \n",
       "4       565.0       259.0         3.8462            342200.0        NEAR BAY  "
      ]
     },
     "execution_count": 4,
     "metadata": {},
     "output_type": "execute_result"
    }
   ],
   "source": [
    "data.head()"
   ]
  },
  {
   "cell_type": "markdown",
   "metadata": {},
   "source": [
    "Now let's create a connection.\n",
    "\n",
    "We will pass the dictionary containing the name and values of the parameters from config.py to the session.builder.configs method to return a object with the parameters to call th create method and stablish connection."
   ]
  },
  {
   "cell_type": "code",
   "execution_count": 5,
   "metadata": {},
   "outputs": [],
   "source": [
    "session = Session.builder.configs(snowflake_conn_prop).create()"
   ]
  },
  {
   "cell_type": "markdown",
   "metadata": {},
   "source": [
    "To create our environment in snowflake you can load different variables with the rolename, database, schema, warehouse name and create them running SQL in Snowflake with the session.sql command. You can update these to adapt your snowflake environment, just make sure the role has create priviledges for the database.\n",
    "Snowpark operations are lazy, which means that to trigger queries you need to call and action function, like the collect function.\n"
   ]
  },
  {
   "cell_type": "code",
   "execution_count": 6,
   "metadata": {},
   "outputs": [
    {
     "data": {
      "text/plain": [
       "[Row(status='Statement executed successfully.')]"
      ]
     },
     "execution_count": 6,
     "metadata": {},
     "output_type": "execute_result"
    }
   ],
   "source": [
    "rolename = \"SYSADMIN\"\n",
    "dbname = \"DEMO\"\n",
    "schemaname = \"TEST\"\n",
    "warehouse = \"HOUSING_LAB_S_WH\"\n",
    "\n",
    "session.sql(f\"USE ROLE {rolename}\").collect()"
   ]
  },
  {
   "cell_type": "code",
   "execution_count": 7,
   "metadata": {},
   "outputs": [
    {
     "data": {
      "text/plain": [
       "[Row(status='LAB_S_WH already exists, statement succeeded.')]"
      ]
     },
     "execution_count": 7,
     "metadata": {},
     "output_type": "execute_result"
    }
   ],
   "source": [
    "#  Create a database, schema, warehouse)\n",
    "session.sql(f\"CREATE DATABASE IF NOT EXISTS {dbname}\").collect()\n",
    "session.sql(f\"CREATE SCHEMA IF NOT EXISTS {dbname}.{schemaname}\").collect()\n",
    "session.sql(f\"CREATE WAREHOUSE  IF NOT EXISTS {warehouse} \\\n",
    "                WAREHOUSE_SIZE = 'SMALL' \\\n",
    "                AUTO_SUSPEND = 300 \\\n",
    "                AUTO_RESUME = TRUE \\\n",
    "                MIN_CLUSTER_COUNT = 1 \\\n",
    "                MAX_CLUSTER_COUNT = 3 \\\n",
    "                SCALING_POLICY = 'STANDARD' \").collect()"
   ]
  },
  {
   "cell_type": "code",
   "execution_count": 8,
   "metadata": {},
   "outputs": [
    {
     "data": {
      "text/plain": [
       "[Row(status='Statement executed successfully.')]"
      ]
     },
     "execution_count": 8,
     "metadata": {},
     "output_type": "execute_result"
    }
   ],
   "source": [
    "session.sql(f\"USE WAREHOUSE {warehouse}\").collect()\n",
    "session.sql(f\"USE SCHEMA {dbname}.{schemaname}\").collect()"
   ]
  },
  {
   "cell_type": "code",
   "execution_count": 9,
   "metadata": {},
   "outputs": [
    {
     "name": "stdout",
     "output_type": "stream",
     "text": [
      "[Row(CURRENT_WAREHOUSE()='LAB_S_WH', CURRENT_DATABASE()='DEMO', CURRENT_SCHEMA()='TEST')]\n"
     ]
    }
   ],
   "source": [
    "print(session.sql('select current_warehouse(), current_database(), current_schema()').collect())"
   ]
  },
  {
   "cell_type": "markdown",
   "metadata": {},
   "source": [
    "Now, to explain the whole process, we will load our csv into Snowflake and use it for our analysis, in your case the data might already be in Snowflake, which is great. \n",
    "\n",
    "The following variable names contain our file name, in this case, housing.csv, the name of the stage we will create, and the raw table name.\n",
    "\n",
    "The session.fle.put command will load the file in the stage, \n",
    "\n",
    "Note: for this example it's important to have our file in the same folder as the notebook.\n",
    "\n"
   ]
  },
  {
   "cell_type": "code",
   "execution_count": 10,
   "metadata": {},
   "outputs": [],
   "source": [
    "filename = \"housing.csv\"\n",
    "stagename = \"rawdata\"\n",
    "rawtable = \"housing\""
   ]
  },
  {
   "cell_type": "code",
   "execution_count": 11,
   "metadata": {},
   "outputs": [
    {
     "data": {
      "text/plain": [
       "[PutResult(source='housing.csv', target='housing.csv.gz', source_size=1423529, target_size=396000, source_compression='NONE', target_compression='GZIP', status='UPLOADED', message='')]"
      ]
     },
     "execution_count": 11,
     "metadata": {},
     "output_type": "execute_result"
    }
   ],
   "source": [
    "# Create Snowflake stage\n",
    "session.sql(f\"create or replace stage {stagename} DIRECTORY = (ENABLE = TRUE);\").collect()\n",
    "\n",
    "# Put the file in the stage\n",
    "session.file.put(filename,stagename)"
   ]
  },
  {
   "cell_type": "markdown",
   "metadata": {},
   "source": [
    "Let's create our schema by using a SructType containing names of the columns and data types of such columns, then we'll call the schema property to return an object configured to read files containing the specified fields and with the options property we define the format fields like compressions, field delimiter, type and skipping the header, with the csv option we define the location of our file in the stage and then the copy into creates our table."
   ]
  },
  {
   "cell_type": "code",
   "execution_count": 13,
   "metadata": {},
   "outputs": [],
   "source": [
    "\n",
    "\n",
    "schema_for_data_file = StructType([\n",
    "    StructField(\"longitude\",IntegerType()),\n",
    "    StructField(\"latitude\",IntegerType()),\n",
    "    StructField(\"housing_median_age\",IntegerType()),\n",
    "    StructField(\"total_rooms\",IntegerType()),\n",
    "    StructField(\"total_bedrooms\",IntegerType()),\n",
    "    StructField(\"population\",IntegerType()),\n",
    "    StructField(\"households\",IntegerType()),\n",
    "    StructField(\"median_income\",IntegerType()),\n",
    "    StructField(\"median_house_value\",IntegerType()),\n",
    "    StructField(\"ocean_proximity\",StringType())])\n"
   ]
  },
  {
   "cell_type": "code",
   "execution_count": 14,
   "metadata": {},
   "outputs": [],
   "source": [
    "csv_reader=session.read.schema(schema_for_data_file)"
   ]
  },
  {
   "cell_type": "code",
   "execution_count": 15,
   "metadata": {},
   "outputs": [],
   "source": [
    "format_options={\"compression\": \"gzip\",  \"type\" : \"csv\", \"field_delimiter\" : \",\",\"skip_header\": 1}\n",
    "csv_reader=csv_reader.options(format_options)"
   ]
  },
  {
   "cell_type": "code",
   "execution_count": 16,
   "metadata": {},
   "outputs": [],
   "source": [
    "df = csv_reader.csv(\"@rawdata/housing.csv.gz\")"
   ]
  },
  {
   "cell_type": "code",
   "execution_count": 18,
   "metadata": {},
   "outputs": [
    {
     "data": {
      "text/plain": [
       "[Row(status='HOUSING successfully dropped.')]"
      ]
     },
     "execution_count": 18,
     "metadata": {},
     "output_type": "execute_result"
    }
   ],
   "source": [
    "# In case you already have a table there\n",
    "\n",
    "drop_result = session.sql(f\"drop table if exists {rawtable}\").collect() \n",
    "drop_result"
   ]
  },
  {
   "cell_type": "code",
   "execution_count": 19,
   "metadata": {},
   "outputs": [],
   "source": [
    "\n",
    "df_table=df.copy_into_table(\"housing\",format_type_options=format_options ,force=True)"
   ]
  },
  {
   "cell_type": "code",
   "execution_count": 20,
   "metadata": {},
   "outputs": [
    {
     "name": "stdout",
     "output_type": "stream",
     "text": [
      "CPU times: user 526 ms, sys: 51.8 ms, total: 578 ms\n",
      "Wall time: 3.03 s\n"
     ]
    },
    {
     "data": {
      "text/html": [
       "<div>\n",
       "<style scoped>\n",
       "    .dataframe tbody tr th:only-of-type {\n",
       "        vertical-align: middle;\n",
       "    }\n",
       "\n",
       "    .dataframe tbody tr th {\n",
       "        vertical-align: top;\n",
       "    }\n",
       "\n",
       "    .dataframe thead th {\n",
       "        text-align: right;\n",
       "    }\n",
       "</style>\n",
       "<table border=\"1\" class=\"dataframe\">\n",
       "  <thead>\n",
       "    <tr style=\"text-align: right;\">\n",
       "      <th></th>\n",
       "      <th>LONGITUDE</th>\n",
       "      <th>LATITUDE</th>\n",
       "      <th>HOUSING_MEDIAN_AGE</th>\n",
       "      <th>TOTAL_ROOMS</th>\n",
       "      <th>TOTAL_BEDROOMS</th>\n",
       "      <th>POPULATION</th>\n",
       "      <th>HOUSEHOLDS</th>\n",
       "      <th>MEDIAN_INCOME</th>\n",
       "      <th>MEDIAN_HOUSE_VALUE</th>\n",
       "      <th>OCEAN_PROXIMITY</th>\n",
       "    </tr>\n",
       "  </thead>\n",
       "  <tbody>\n",
       "    <tr>\n",
       "      <th>0</th>\n",
       "      <td>-122</td>\n",
       "      <td>38</td>\n",
       "      <td>41</td>\n",
       "      <td>880</td>\n",
       "      <td>129.0</td>\n",
       "      <td>322</td>\n",
       "      <td>126</td>\n",
       "      <td>8</td>\n",
       "      <td>452600</td>\n",
       "      <td>NEAR BAY</td>\n",
       "    </tr>\n",
       "    <tr>\n",
       "      <th>1</th>\n",
       "      <td>-122</td>\n",
       "      <td>38</td>\n",
       "      <td>21</td>\n",
       "      <td>7099</td>\n",
       "      <td>1106.0</td>\n",
       "      <td>2401</td>\n",
       "      <td>1138</td>\n",
       "      <td>8</td>\n",
       "      <td>358500</td>\n",
       "      <td>NEAR BAY</td>\n",
       "    </tr>\n",
       "    <tr>\n",
       "      <th>2</th>\n",
       "      <td>-122</td>\n",
       "      <td>38</td>\n",
       "      <td>52</td>\n",
       "      <td>1467</td>\n",
       "      <td>190.0</td>\n",
       "      <td>496</td>\n",
       "      <td>177</td>\n",
       "      <td>7</td>\n",
       "      <td>352100</td>\n",
       "      <td>NEAR BAY</td>\n",
       "    </tr>\n",
       "    <tr>\n",
       "      <th>3</th>\n",
       "      <td>-122</td>\n",
       "      <td>38</td>\n",
       "      <td>52</td>\n",
       "      <td>1274</td>\n",
       "      <td>235.0</td>\n",
       "      <td>558</td>\n",
       "      <td>219</td>\n",
       "      <td>6</td>\n",
       "      <td>341300</td>\n",
       "      <td>NEAR BAY</td>\n",
       "    </tr>\n",
       "    <tr>\n",
       "      <th>4</th>\n",
       "      <td>-122</td>\n",
       "      <td>38</td>\n",
       "      <td>52</td>\n",
       "      <td>1627</td>\n",
       "      <td>280.0</td>\n",
       "      <td>565</td>\n",
       "      <td>259</td>\n",
       "      <td>4</td>\n",
       "      <td>342200</td>\n",
       "      <td>NEAR BAY</td>\n",
       "    </tr>\n",
       "  </tbody>\n",
       "</table>\n",
       "</div>"
      ],
      "text/plain": [
       "   LONGITUDE  LATITUDE  HOUSING_MEDIAN_AGE  TOTAL_ROOMS  TOTAL_BEDROOMS  \\\n",
       "0       -122        38                  41          880           129.0   \n",
       "1       -122        38                  21         7099          1106.0   \n",
       "2       -122        38                  52         1467           190.0   \n",
       "3       -122        38                  52         1274           235.0   \n",
       "4       -122        38                  52         1627           280.0   \n",
       "\n",
       "   POPULATION  HOUSEHOLDS  MEDIAN_INCOME  MEDIAN_HOUSE_VALUE OCEAN_PROXIMITY  \n",
       "0         322         126              8              452600        NEAR BAY  \n",
       "1        2401        1138              8              358500        NEAR BAY  \n",
       "2         496         177              7              352100        NEAR BAY  \n",
       "3         558         219              6              341300        NEAR BAY  \n",
       "4         565         259              4              342200        NEAR BAY  "
      ]
     },
     "execution_count": 20,
     "metadata": {},
     "output_type": "execute_result"
    }
   ],
   "source": [
    "%%time\n",
    "\n",
    "housing_snowflake = session.table('housing')\n",
    "\n",
    "pd.pandas.set_option('display.max_columns', None)\n",
    "\n",
    "data = housing_snowflake.toPandas()\n",
    "data.head()"
   ]
  },
  {
   "cell_type": "code",
   "execution_count": 5,
   "metadata": {},
   "outputs": [
    {
     "name": "stdout",
     "output_type": "stream",
     "text": [
      "<class 'pandas.core.frame.DataFrame'>\n",
      "RangeIndex: 20640 entries, 0 to 20639\n",
      "Data columns (total 10 columns):\n",
      " #   Column              Non-Null Count  Dtype  \n",
      "---  ------              --------------  -----  \n",
      " 0   LONGITUDE           20640 non-null  float64\n",
      " 1   LATITUDE            20640 non-null  float64\n",
      " 2   HOUSING_MEDIAN_AGE  20640 non-null  float64\n",
      " 3   TOTAL_ROOMS         20640 non-null  float64\n",
      " 4   TOTAL_BEDROOMS      20433 non-null  float64\n",
      " 5   POPULATION          20640 non-null  float64\n",
      " 6   HOUSEHOLDS          20640 non-null  float64\n",
      " 7   MEDIAN_INCOME       20640 non-null  float64\n",
      " 8   MEDIAN_HOUSE_VALUE  20640 non-null  float64\n",
      " 9   OCEAN_PROXIMITY     20640 non-null  object \n",
      "dtypes: float64(9), object(1)\n",
      "memory usage: 1.6+ MB\n"
     ]
    }
   ],
   "source": [
    "data.info()"
   ]
  },
  {
   "cell_type": "markdown",
   "metadata": {},
   "source": [
    "## Perform Exploratory Data Analysis (EDA)"
   ]
  },
  {
   "cell_type": "markdown",
   "metadata": {},
   "source": [
    "Now that we have our data in Snowflake we can decide if we want to work with Snowpark python or with our preferred Python native libraries like numpy and pandas.\n",
    "\n",
    "We will perform a histogram on numeric variables to see how our data is represented.\n",
    "\n",
    "At first glance we can see that this attributes have very different ranges, we will work on this later and do feature scaling. "
   ]
  },
  {
   "cell_type": "code",
   "execution_count": 6,
   "metadata": {},
   "outputs": [
    {
     "data": {
      "image/png": "[encoded data removed]",
      "text/plain": [
       "<Figure size 1440x1080 with 9 Axes>"
      ]
     },
     "metadata": {
      "needs_background": "light"
     },
     "output_type": "display_data"
    }
   ],
   "source": [
    "data.hist(bins=50, figsize=(20,15))\n",
    "plt.show()"
   ]
  },
  {
   "cell_type": "code",
   "execution_count": 7,
   "metadata": {},
   "outputs": [
    {
     "name": "stdout",
     "output_type": "stream",
     "text": [
      "['OCEAN_PROXIMITY']\n",
      "['LONGITUDE', 'LATITUDE', 'HOUSING_MEDIAN_AGE', 'TOTAL_ROOMS', 'TOTAL_BEDROOMS', 'POPULATION', 'HOUSEHOLDS', 'MEDIAN_INCOME', 'MEDIAN_HOUSE_VALUE']\n"
     ]
    }
   ],
   "source": [
    "cat_vars = [var for var in data.columns if ((data[var].dtype == 'O') or (data[var].dtype==\"bool\"))]\n",
    "print(cat_vars)\n",
    "\n",
    "num_vars = [var for var in data.columns if var not in cat_vars]\n",
    "print(num_vars)\n"
   ]
  },
  {
   "cell_type": "markdown",
   "metadata": {},
   "source": [
    "\n",
    "Median income is an important predictor for median housing prices, so we will create a new attribute with pd.cut() called INCOME_CAT, that will define 5 categories (labeled from 1 to 5) based on Median_INCOME cuts. "
   ]
  },
  {
   "cell_type": "code",
   "execution_count": 11,
   "metadata": {},
   "outputs": [],
   "source": [
    "data[\"INCOME_CAT\"] = pd.cut(data[\"MEDIAN_INCOME\"],\n",
    " bins=[0., 1.5, 3.0, 4.5, 6., np.inf],\n",
    " labels=[1, 2, 3, 4, 5])"
   ]
  },
  {
   "cell_type": "markdown",
   "metadata": {},
   "source": [
    "Then some clean up is required, we will run code detect null values in our dataset."
   ]
  },
  {
   "cell_type": "code",
   "execution_count": 12,
   "metadata": {},
   "outputs": [],
   "source": [
    "vars_with_na = [var for var in data.columns if data[var].isnull().sum() > 0]\n",
    "\n",
    "mean_val=data[vars_with_na].isnull().sum().sort_values(ascending=False)\n",
    "sum_val=data[vars_with_na].isnull().mean().sort_values(ascending=False)\n"
   ]
  },
  {
   "cell_type": "markdown",
   "metadata": {},
   "source": [
    "Variables TOTAL_BEDROOMS and INCOME_CAT have 207 and 12 null values respectively."
   ]
  },
  {
   "cell_type": "code",
   "execution_count": 13,
   "metadata": {},
   "outputs": [
    {
     "data": {
      "text/html": [
       "<div>\n",
       "<style scoped>\n",
       "    .dataframe tbody tr th:only-of-type {\n",
       "        vertical-align: middle;\n",
       "    }\n",
       "\n",
       "    .dataframe tbody tr th {\n",
       "        vertical-align: top;\n",
       "    }\n",
       "\n",
       "    .dataframe thead th {\n",
       "        text-align: right;\n",
       "    }\n",
       "</style>\n",
       "<table border=\"1\" class=\"dataframe\">\n",
       "  <thead>\n",
       "    <tr style=\"text-align: right;\">\n",
       "      <th></th>\n",
       "      <th>sum</th>\n",
       "      <th>mean</th>\n",
       "    </tr>\n",
       "  </thead>\n",
       "  <tbody>\n",
       "    <tr>\n",
       "      <th>TOTAL_BEDROOMS</th>\n",
       "      <td>207</td>\n",
       "      <td>0.010029</td>\n",
       "    </tr>\n",
       "  </tbody>\n",
       "</table>\n",
       "</div>"
      ],
      "text/plain": [
       "                sum      mean\n",
       "TOTAL_BEDROOMS  207  0.010029"
      ]
     },
     "execution_count": 13,
     "metadata": {},
     "output_type": "execute_result"
    }
   ],
   "source": [
    "pd.concat([mean_val.rename('sum'),sum_val.rename('mean')],axis=1)"
   ]
  },
  {
   "cell_type": "code",
   "execution_count": 14,
   "metadata": {},
   "outputs": [
    {
     "name": "stdout",
     "output_type": "stream",
     "text": [
      "<class 'pandas.core.frame.DataFrame'>\n",
      "RangeIndex: 20640 entries, 0 to 20639\n",
      "Data columns (total 11 columns):\n",
      " #   Column              Non-Null Count  Dtype   \n",
      "---  ------              --------------  -----   \n",
      " 0   LONGITUDE           20640 non-null  float64 \n",
      " 1   LATITUDE            20640 non-null  float64 \n",
      " 2   HOUSING_MEDIAN_AGE  20640 non-null  float64 \n",
      " 3   TOTAL_ROOMS         20640 non-null  float64 \n",
      " 4   TOTAL_BEDROOMS      20433 non-null  float64 \n",
      " 5   POPULATION          20640 non-null  float64 \n",
      " 6   HOUSEHOLDS          20640 non-null  float64 \n",
      " 7   MEDIAN_INCOME       20640 non-null  float64 \n",
      " 8   MEDIAN_HOUSE_VALUE  20640 non-null  float64 \n",
      " 9   OCEAN_PROXIMITY     20640 non-null  object  \n",
      " 10  INCOME_CAT          20640 non-null  category\n",
      "dtypes: category(1), float64(9), object(1)\n",
      "memory usage: 1.6+ MB\n"
     ]
    }
   ],
   "source": [
    "data.info()"
   ]
  },
  {
   "cell_type": "markdown",
   "metadata": {},
   "source": [
    "In this case, for example purpuses, we're going to drop the na's but calculating the mean is also an option if the dataset is small and you need each and every row."
   ]
  },
  {
   "cell_type": "code",
   "execution_count": 15,
   "metadata": {},
   "outputs": [],
   "source": [
    "data=data.dropna(subset=['TOTAL_BEDROOMS','INCOME_CAT'])"
   ]
  },
  {
   "cell_type": "code",
   "execution_count": 16,
   "metadata": {},
   "outputs": [
    {
     "name": "stdout",
     "output_type": "stream",
     "text": [
      "<class 'pandas.core.frame.DataFrame'>\n",
      "Int64Index: 20433 entries, 0 to 20639\n",
      "Data columns (total 11 columns):\n",
      " #   Column              Non-Null Count  Dtype   \n",
      "---  ------              --------------  -----   \n",
      " 0   LONGITUDE           20433 non-null  float64 \n",
      " 1   LATITUDE            20433 non-null  float64 \n",
      " 2   HOUSING_MEDIAN_AGE  20433 non-null  float64 \n",
      " 3   TOTAL_ROOMS         20433 non-null  float64 \n",
      " 4   TOTAL_BEDROOMS      20433 non-null  float64 \n",
      " 5   POPULATION          20433 non-null  float64 \n",
      " 6   HOUSEHOLDS          20433 non-null  float64 \n",
      " 7   MEDIAN_INCOME       20433 non-null  float64 \n",
      " 8   MEDIAN_HOUSE_VALUE  20433 non-null  float64 \n",
      " 9   OCEAN_PROXIMITY     20433 non-null  object  \n",
      " 10  INCOME_CAT          20433 non-null  category\n",
      "dtypes: category(1), float64(9), object(1)\n",
      "memory usage: 1.7+ MB\n"
     ]
    }
   ],
   "source": [
    "\n",
    "data.info()"
   ]
  },
  {
   "cell_type": "markdown",
   "metadata": {},
   "source": [
    "Since we have out set cleaned o null values we will perform a stratified split of our data based on INCOME_CAT, we can be sure that our test set has almost the same proportion of income categories than the full dataset. Note: More on why this is important at reference 2 pag. 57 and 58. "
   ]
  },
  {
   "cell_type": "code",
   "execution_count": 17,
   "metadata": {},
   "outputs": [],
   "source": [
    "from sklearn.model_selection import StratifiedShuffleSplit\n",
    "split = StratifiedShuffleSplit(n_splits=1, test_size=0.2, random_state=42)\n",
    "for train_index, test_index in split.split(data, data[\"INCOME_CAT\"]):\n",
    " strat_train_set = data.iloc[train_index]\n",
    " strat_test_set = data.iloc[test_index]"
   ]
  },
  {
   "cell_type": "markdown",
   "metadata": {},
   "source": [
    "We drop the INCOME_CAT to get the dataset to the initial state and split our features.\n"
   ]
  },
  {
   "cell_type": "code",
   "execution_count": 18,
   "metadata": {},
   "outputs": [],
   "source": [
    "# TODO : Check when to perform the drop.\n",
    "#data=data.drop('INCOME_CAT',axis=1)\n",
    "data = strat_train_set.drop(['MEDIAN_HOUSE_VALUE', 'INCOME_CAT'], axis=1)\n",
    "data_labels = strat_train_set[\"MEDIAN_HOUSE_VALUE\"].copy()"
   ]
  },
  {
   "cell_type": "markdown",
   "metadata": {},
   "source": [
    "And perform transformation for numerical values and categorical values. In this section we create a transformation pipeline using standardScaler(), as mentioned before when we built our histogram, the attributes of this dataset have very different scales and is important to get them all in the same range, we will also perform a OneHotEncoder to transfor categorical variables into numbers. "
   ]
  },
  {
   "cell_type": "code",
   "execution_count": 19,
   "metadata": {},
   "outputs": [],
   "source": [
    "data_cat = data[[\"OCEAN_PROXIMITY\"]]\n",
    "data_num = data.drop(\"OCEAN_PROXIMITY\", axis=1)"
   ]
  },
  {
   "cell_type": "code",
   "execution_count": 20,
   "metadata": {},
   "outputs": [],
   "source": [
    "from sklearn.pipeline import Pipeline\n",
    "from sklearn.compose import ColumnTransformer\n",
    "from sklearn.preprocessing import StandardScaler\n",
    "from sklearn.preprocessing import OneHotEncoder\n",
    "\n",
    "num_pipeline = Pipeline([\n",
    " ('std_scaler', StandardScaler()),\n",
    " ])\n",
    "data_num_tr = num_pipeline.fit_transform(data_num)\n",
    "\n",
    "\n",
    "\n",
    "num_attribs = list(data_num)\n",
    "cat_attribs = [\"OCEAN_PROXIMITY\"]\n",
    "full_pipeline = ColumnTransformer([\n",
    " (\"num\", num_pipeline, num_attribs),\n",
    " (\"cat\", OneHotEncoder(), cat_attribs),\n",
    " ])\n",
    "data_prepared = full_pipeline.fit_transform(data)"
   ]
  },
  {
   "cell_type": "markdown",
   "metadata": {},
   "source": [
    "## Train and evaluate the model using Cross validation"
   ]
  },
  {
   "cell_type": "markdown",
   "metadata": {},
   "source": [
    "Having our data clean and perform an extensive exploration are important steps in any Data Science modelling process, so far we have done it at a high level, but I encourage you to do a deep dive and understand your data as much as possible. \n",
    "\n",
    "We're getting into the fun part, testing different machine learning algoritms and see how it perform in our data. \n",
    "\n",
    "We will start with simple Linear regression, using crossvalidation to split the training set into 10 subsets, to evaluate the model 10 times, with a different fold everry time. Let's see how well it does it. \n"
   ]
  },
  {
   "cell_type": "code",
   "execution_count": 21,
   "metadata": {},
   "outputs": [
    {
     "name": "stdout",
     "output_type": "stream",
     "text": [
      " Mean:  69074.45289191636 \n",
      " Standart deviation: 2065.35711255224 \n",
      "\n",
      " Scores: [69409.72482934 66440.04782011 68861.36427355 68868.26566486\n",
      " 67620.10872067 69273.74693297 65536.86929921 70819.6908918\n",
      " 75020.15018402 68379.52619984 69624.33466882 68546.61716369\n",
      " 66803.50042429 66924.2785971  69224.75624337 71983.99453759\n",
      " 71740.73397233 66848.79899075 70168.18885823 69080.4591481\n",
      " 70617.89757939 69566.79127908 70844.6205866  69191.20134518\n",
      " 68296.47856266 70473.16595759 65382.99365239 69051.89337138\n",
      " 71373.95246315 66259.43453944]\n"
     ]
    }
   ],
   "source": [
    "from sklearn.linear_model import LinearRegression\n",
    "from sklearn.model_selection import cross_val_score\n",
    "from sklearn.model_selection import RepeatedKFold\n",
    "\n",
    "#best practice of repeated k-fold cross-validation with 3 repeats and 10 folds. Check this fact\n",
    "cv = RepeatedKFold(n_splits=10, n_repeats=3, random_state=1)\n",
    "\n",
    "\n",
    "linear_reg = LinearRegression()\n",
    "linear_reg.fit(data_prepared, data_labels)\n",
    "linear_scores = cross_val_score(linear_reg, data_prepared, data_labels, scoring=\"neg_mean_squared_error\", cv=cv)\n",
    "linear_rmse_scores = np.sqrt(-linear_scores)\n",
    "\n",
    "#create function for printing scores\n",
    "def print_scores(scores):\n",
    "    print (f' Mean:  {scores.mean()} \\n Standart deviation: {scores.std()} \\n\\n Scores: {scores}')\n",
    "    \n",
    "print_scores(linear_rmse_scores)"
   ]
  },
  {
   "cell_type": "markdown",
   "metadata": {},
   "source": [
    "Not a great score, having a $69661 of prediction error is not very satisfying, let's try other algorithms."
   ]
  },
  {
   "cell_type": "code",
   "execution_count": 161,
   "metadata": {},
   "outputs": [
    {
     "name": "stdout",
     "output_type": "stream",
     "text": [
      " Mean:  80791.99528233192 \n",
      " Standart deviation: 1935.031337582773 \n",
      "\n",
      " Scores: [82998.01394915 76860.39917914 78923.57872257 81028.57953614\n",
      " 82560.59609811 82531.79074024 81903.00970476 80246.80217811\n",
      " 81868.55137893 77235.40889582 82715.25385025 80200.85233855\n",
      " 82315.53336981 81900.13402185 81482.34119943 79568.99986616\n",
      " 81390.66393511 81156.65354724 83034.09190093 75100.41591242\n",
      " 79308.22830443 82764.07940545 80522.90749226 80111.04166708\n",
      " 82488.40907513 83256.42351328 80712.54377736 80235.88024413\n",
      " 78938.51861603 80400.1560501 ]\n"
     ]
    }
   ],
   "source": [
    "from sklearn.tree import DecisionTreeRegressor\n",
    "tree_reg = DecisionTreeRegressor()\n",
    "tree_reg.fit(data_prepared, data_labels)\n",
    "tree_scores = cross_val_score(tree_reg, data_prepared, data_labels, scoring=\"neg_mean_squared_error\", cv=cv)\n",
    "tree_rmse_scores = np.sqrt(-tree_scores)\n",
    "print_scores(tree_rmse_scores)"
   ]
  },
  {
   "cell_type": "markdown",
   "metadata": {},
   "source": [
    "Decision Trees performs even worse with a median score of $80792"
   ]
  },
  {
   "cell_type": "code",
   "execution_count": null,
   "metadata": {},
   "outputs": [],
   "source": [
    "%pip install xgboost"
   ]
  },
  {
   "cell_type": "code",
   "execution_count": 166,
   "metadata": {},
   "outputs": [
    {
     "name": "stdout",
     "output_type": "stream",
     "text": [
      " Mean:  63163.316117758026 \n",
      " Standart deviation: 1793.6749099874107 \n",
      "\n",
      " Scores: [66538.71634304 61364.17115479 63775.86973605 63611.66262149\n",
      " 62211.9050135  61999.33750688 62770.50258435 63199.9335667\n",
      " 66899.03361428 60159.60255247 65549.91195697 61007.32447644\n",
      " 64467.43746634 63580.00049866 61213.74374844 62584.07513247\n",
      " 61161.01330897 62567.96194796 66412.83000481 64256.4875851\n",
      " 60813.30013116 64505.17290534 60681.08546139 63073.89525194\n",
      " 61834.41024635 65273.40807938 63807.2863684  64647.76185937\n",
      " 62733.02868879 62198.61372091]\n"
     ]
    }
   ],
   "source": [
    "from sklearn.neighbors import KNeighborsRegressor\n",
    "knn_reg = KNeighborsRegressor()\n",
    "knn_reg.fit(data_prepared, data_labels)\n",
    "knn_scores = cross_val_score(knn_reg, data_prepared, data_labels, scoring=\"neg_mean_squared_error\", cv=cv)\n",
    "knn_rmse_scores = np.sqrt(-knn_scores)\n",
    "print_scores(knn_rmse_scores)\n",
    "\n"
   ]
  },
  {
   "cell_type": "markdown",
   "metadata": {},
   "source": [
    "With KNN we get a sligtly better result of 63163 for the prediction error, but let's try Random Forest and see if we can do better."
   ]
  },
  {
   "cell_type": "code",
   "execution_count": 22,
   "metadata": {},
   "outputs": [
    {
     "name": "stdout",
     "output_type": "stream",
     "text": [
      " Mean:  48748.79694865395 \n",
      " Standart deviation: 1769.2771277121342 \n",
      "\n",
      " Scores: [47711.85129333 47240.84784409 50120.63156622 47973.13670894\n",
      " 47505.43722516 50241.7207659  44952.38542366 51307.22451471\n",
      " 51943.53081142 48354.08776296 49363.13804767 47782.06768937\n",
      " 46582.5973054  47540.71399958 48703.77114533 51561.4697794\n",
      " 48796.31857497 46853.55596376 49622.33870737 49480.74280856\n",
      " 51771.81772591 48665.86635961 51138.85302217 48955.69289003\n",
      " 46652.81639946 49848.94681105 46668.48499194 50604.35608805\n",
      " 47222.2366078  47297.26962579]\n"
     ]
    }
   ],
   "source": [
    "from sklearn.ensemble import RandomForestRegressor\n",
    "forest_regression = RandomForestRegressor()\n",
    "forest_regression.fit(data_prepared, data_labels)\n",
    "forest_scores = cross_val_score(forest_regression, data_prepared, data_labels, scoring=\"neg_mean_squared_error\", cv=cv)\n",
    "forest_rmse_scores = np.sqrt(-forest_scores)\n",
    "print_scores(forest_rmse_scores)\n",
    "\n"
   ]
  },
  {
   "cell_type": "markdown",
   "metadata": {},
   "source": [
    "That's better, I think you get the idea at this point, it's important to check different algorithms and evaluate which one can give you best results, but let's dive a little more and fine tune some parameters to improve our results, fortunately Scikit-learn offers a handy library that allows to test different parameter combinations. "
   ]
  },
  {
   "cell_type": "markdown",
   "metadata": {},
   "source": [
    "### Fine tune model with RandomizedSearch"
   ]
  },
  {
   "cell_type": "markdown",
   "metadata": {},
   "source": [
    "Instead of trying manually each parameter combination, with Randomized you can try a large list of parameters, to test on every iteration a number of random combinations selecting a random value each round for each hyperparameter."
   ]
  },
  {
   "cell_type": "code",
   "execution_count": null,
   "metadata": {},
   "outputs": [],
   "source": [
    "from sklearn.model_selection import RandomizedSearchCV\n",
    "from xgboost import XGBRegressor\n",
    "\n",
    "parameters = { 'max_depth': [3, 5, 6, 10, 15, 20],\n",
    "           'learning_rate': [0.001, 0.01, 0.1, 0.2, 0.3, 0.4, 0.5,0.6,0.7, 0.8, 0.9,1.0],\n",
    "           'subsample': np.arange(0.1, 1.0, 0.1),\n",
    "           'colsample_bytree': np.arange(0.1, 1.0, 0.1),\n",
    "           'colsample_bylevel': np.arange(0.1, 1.0, 0.1),\n",
    "           'n_estimators': [100, 500, 1000]}\n",
    "\n",
    "xgb_reg = XGBRegressor()\n",
    "\n",
    "random_search=RandomizedSearchCV(estimator=xgb_reg,\n",
    "                         param_distributions=parameters,\n",
    "                         scoring='neg_mean_squared_error',\n",
    "                         n_iter=25,\n",
    "                         cv=5,\n",
    "                         random_state=42,\n",
    "                         verbose=1)\n",
    "random_search.fit(data_prepared, data_labels)"
   ]
  },
  {
   "cell_type": "code",
   "execution_count": null,
   "metadata": {},
   "outputs": [],
   "source": [
    "random_search.best_params_"
   ]
  },
  {
   "cell_type": "code",
   "execution_count": null,
   "metadata": {},
   "outputs": [],
   "source": [
    "random_search.best_estimator_"
   ]
  },
  {
   "cell_type": "code",
   "execution_count": null,
   "metadata": {},
   "outputs": [],
   "source": [
    "cvres = random_search.cv_results_\n",
    "for mean_score, params in zip(cvres[\"mean_test_score\"], cvres[\"params\"]):\n",
    "    print(f' {np.sqrt(-mean_score)}, \\n {params}')"
   ]
  },
  {
   "cell_type": "code",
   "execution_count": null,
   "metadata": {},
   "outputs": [],
   "source": [
    "from scipy.stats import expon, reciprocal\n",
    "from sklearn.model_selection import RandomizedSearchCV\n",
    "from sklearn.svm import SVR\n",
    "# see https://docs.scipy.org/doc/scipy/reference/stats.html\n",
    "# for `expon()` and `reciprocal()` documentation and more probability distribution functions.\n",
    "\n",
    "# Note: gamma is ignored when kernel is \"linear\"\n",
    "param_distribs = [\n",
    "        {'kernel': ['linear'], 'C': [10., 30., 100., 300., 1000., 3000., 10000., 30000.0]},\n",
    "        {'kernel': ['rbf'], 'C': [1.0, 3.0, 10., 30., 100., 300., 1000.0],\n",
    "         'gamma': [0.01, 0.03, 0.1, 0.3, 1.0, 3.0]},\n",
    "    ]\n",
    "\n",
    "svm_reg = SVR()\n",
    "random_svr_search = RandomizedSearchCV(svm_reg, param_distributions=param_distribs,\n",
    "                                n_iter=50, cv=5, scoring='neg_mean_squared_error',\n",
    "                                verbose=1, random_state=42)\n",
    "random_svr_search.fit(data_prepared, data_labels)"
   ]
  },
  {
   "cell_type": "code",
   "execution_count": 59,
   "metadata": {},
   "outputs": [
    {
     "data": {
      "text/plain": [
       "{'C': 157055.10989448498, 'gamma': 0.26497040005002437, 'kernel': 'rbf'}"
      ]
     },
     "execution_count": 59,
     "metadata": {},
     "output_type": "execute_result"
    }
   ],
   "source": [
    "random_svr_search.best_params_"
   ]
  },
  {
   "cell_type": "code",
   "execution_count": null,
   "metadata": {},
   "outputs": [],
   "source": [
    "svres= random_svr_search.best_params_\n",
    "for mean_score, params in zip(svres[\"mean_test_score\"], svres[\"params\"]):\n",
    "    print(f' {np.sqrt(-mean_score)}, \\n {params}')"
   ]
  },
  {
   "cell_type": "code",
   "execution_count": null,
   "metadata": {},
   "outputs": [],
   "source": [
    "random_svr_search.best_params_\n"
   ]
  },
  {
   "cell_type": "code",
   "execution_count": null,
   "metadata": {},
   "outputs": [],
   "source": [
    "from sklearn.model_selection import GridSearchCV\n",
    "\n",
    "param_grid = [\n",
    "    {'n_estimators': [3, 10, 30], 'max_features': [2, 4, 6, 8]},\n",
    "    {'bootstrap': [False], 'n_estimators': [3, 10], 'max_features': [2, 3, 4]},\n",
    "  ]\n",
    "\n",
    "forest_reg = RandomForestRegressor(random_state=42)\n",
    "# train across 5 folds, that's a total of (12+6)*5=90 rounds of training \n",
    "random_search = RandomizedSearchCV(forest_regression, param_grid, cv=5,\n",
    "                           scoring='neg_mean_squared_error',\n",
    "                           return_train_score=True)\n",
    "random_search.fit(data_prepared, data_labels)"
   ]
  },
  {
   "cell_type": "markdown",
   "metadata": {},
   "source": [
    "If you want, you can evaluate your model in python prior to deploying to Snowflakle."
   ]
  },
  {
   "cell_type": "code",
   "execution_count": 53,
   "metadata": {},
   "outputs": [],
   "source": [
    "from sklearn.metrics import mean_squared_error\n",
    "\n",
    "final_model = random_search.best_estimator_\n",
    "X_test = strat_test_set.drop(\"MEDIAN_HOUSE_VALUE\", axis=1)\n",
    "y_test = strat_test_set[\"MEDIAN_HOUSE_VALUE\"].copy()\n",
    "X_test_prepared = full_pipeline.transform(X_test)\n",
    "final_predictions = final_model.predict(X_test_prepared)\n",
    "final_mse = mean_squared_error(y_test, final_predictions)\n",
    "final_rmse = np.sqrt(final_mse) "
   ]
  },
  {
   "cell_type": "code",
   "execution_count": 54,
   "metadata": {},
   "outputs": [
    {
     "data": {
      "text/plain": [
       "57614.76374960302"
      ]
     },
     "execution_count": 54,
     "metadata": {},
     "output_type": "execute_result"
    }
   ],
   "source": [
    "final_rmse"
   ]
  },
  {
   "cell_type": "markdown",
   "metadata": {},
   "source": [
    "# Deploy the model in Snowflake"
   ]
  },
  {
   "cell_type": "markdown",
   "metadata": {},
   "source": [
    "Once our model is trained and tuned, and we are satisifed with the accuracy, let's proceed to deploy it in Snowflake using python UDFs.\n",
    "\n",
    "First we create a stage to store the artifacts."
   ]
  },
  {
   "cell_type": "code",
   "execution_count": 42,
   "metadata": {},
   "outputs": [
    {
     "name": "stdout",
     "output_type": "stream",
     "text": [
      "[Row(status='MODELSTAGE already exists, statement succeeded.')]\n"
     ]
    }
   ],
   "source": [
    "print(session.sql('create stage if not exists MODELSTAGE').collect())"
   ]
  },
  {
   "cell_type": "markdown",
   "metadata": {},
   "source": [
    "Then we specify the Anaconda packages to install using **session.add_packages**. The **@udf** decorator will package the function as Snowflake Python UDF and save the model into Snowflake's internal stage.\n",
    "\n",
    "The full_pipeline.transform will apply transformations done in the training set. In this case we will use the Random Forest model that we just trained.\n",
    "\n",
    "The session.table will load a HOUSING sample of 10 rows in snow_df, then we will call the UDF we created \"predict_housing\" with the statement call_udf from the functions library, the array_construct will an array based on our feature and then we will save our table as \"housing_detection\" and call the prediction column \"PREDICTED_HOUSE_VALUE\"."
   ]
  },
  {
   "cell_type": "code",
   "execution_count": 56,
   "metadata": {},
   "outputs": [
    {
     "name": "stdout",
     "output_type": "stream",
     "text": [
      "CPU times: user 5.65 s, sys: 1.31 s, total: 6.96 s\n",
      "Wall time: 1min 16s\n"
     ]
    }
   ],
   "source": [
    "%%time\n",
    "\n",
    "features = list(data.columns)\n",
    "final_model = random_search.best_estimator_\n",
    "session.add_packages(\"scikit-learn==1.0.2\", \"pandas\", \"numpy\")\n",
    "\n",
    "@udf(name='predict_housing',is_permanent = True, stage_location = '@MODELSTAGE', replace=True)\n",
    "def predict_housing(args: list) -> float:\n",
    "    row = full_pipeline.transform(pd.DataFrame([args], columns=features))\n",
    "    return final_model.predict(row)\n",
    "   # return forest_reg.predict(row)\n",
    "   # TODO : Remove commmented line"
   ]
  },
  {
   "cell_type": "code",
   "execution_count": 77,
   "metadata": {},
   "outputs": [],
   "source": [
    "snow_df = session.table('HOUSING').sample(n = 10)"
   ]
  },
  {
   "cell_type": "code",
   "execution_count": 81,
   "metadata": {},
   "outputs": [
    {
     "name": "stdout",
     "output_type": "stream",
     "text": [
      "CPU times: user 8.25 ms, sys: 2.45 ms, total: 10.7 ms\n",
      "Wall time: 9.25 s\n"
     ]
    }
   ],
   "source": [
    "%%time\n",
    "snow_df.select(snow_df.LONGITUDE,snow_df.MEDIAN_HOUSE_VALUE, \\\n",
    "              F.call_udf(\"predict_housing\", F.array_construct(*features)).alias('PREDICTED_HOUSE_VALUE')) \\\n",
    "        .write.mode('overwrite').saveAsTable('housing_detection')"
   ]
  },
  {
   "cell_type": "markdown",
   "metadata": {},
   "source": [
    "And finally we pulled the \"HOUSING_DETECTION\" from snowflake and display our results as a Pandas dataframe."
   ]
  },
  {
   "cell_type": "code",
   "execution_count": 82,
   "metadata": {},
   "outputs": [
    {
     "data": {
      "text/html": [
       "<div>\n",
       "<style scoped>\n",
       "    .dataframe tbody tr th:only-of-type {\n",
       "        vertical-align: middle;\n",
       "    }\n",
       "\n",
       "    .dataframe tbody tr th {\n",
       "        vertical-align: top;\n",
       "    }\n",
       "\n",
       "    .dataframe thead th {\n",
       "        text-align: right;\n",
       "    }\n",
       "</style>\n",
       "<table border=\"1\" class=\"dataframe\">\n",
       "  <thead>\n",
       "    <tr style=\"text-align: right;\">\n",
       "      <th></th>\n",
       "      <th>LONGITUDE</th>\n",
       "      <th>MEDIAN_HOUSE_VALUE</th>\n",
       "      <th>PREDICTED_HOUSE_VALUE</th>\n",
       "    </tr>\n",
       "  </thead>\n",
       "  <tbody>\n",
       "    <tr>\n",
       "      <th>0</th>\n",
       "      <td>-120</td>\n",
       "      <td>60600</td>\n",
       "      <td>64973.00</td>\n",
       "    </tr>\n",
       "    <tr>\n",
       "      <th>1</th>\n",
       "      <td>-119</td>\n",
       "      <td>63300</td>\n",
       "      <td>63584.00</td>\n",
       "    </tr>\n",
       "    <tr>\n",
       "      <th>2</th>\n",
       "      <td>-118</td>\n",
       "      <td>366200</td>\n",
       "      <td>365407.01</td>\n",
       "    </tr>\n",
       "    <tr>\n",
       "      <th>3</th>\n",
       "      <td>-118</td>\n",
       "      <td>262100</td>\n",
       "      <td>283993.03</td>\n",
       "    </tr>\n",
       "    <tr>\n",
       "      <th>4</th>\n",
       "      <td>-118</td>\n",
       "      <td>214600</td>\n",
       "      <td>169367.00</td>\n",
       "    </tr>\n",
       "    <tr>\n",
       "      <th>5</th>\n",
       "      <td>-122</td>\n",
       "      <td>179800</td>\n",
       "      <td>184869.00</td>\n",
       "    </tr>\n",
       "    <tr>\n",
       "      <th>6</th>\n",
       "      <td>-118</td>\n",
       "      <td>222800</td>\n",
       "      <td>171059.00</td>\n",
       "    </tr>\n",
       "    <tr>\n",
       "      <th>7</th>\n",
       "      <td>-118</td>\n",
       "      <td>137500</td>\n",
       "      <td>139847.00</td>\n",
       "    </tr>\n",
       "    <tr>\n",
       "      <th>8</th>\n",
       "      <td>-118</td>\n",
       "      <td>181000</td>\n",
       "      <td>246292.09</td>\n",
       "    </tr>\n",
       "    <tr>\n",
       "      <th>9</th>\n",
       "      <td>-122</td>\n",
       "      <td>246100</td>\n",
       "      <td>276129.04</td>\n",
       "    </tr>\n",
       "  </tbody>\n",
       "</table>\n",
       "</div>"
      ],
      "text/plain": [
       "   LONGITUDE  MEDIAN_HOUSE_VALUE  PREDICTED_HOUSE_VALUE\n",
       "0       -120               60600               64973.00\n",
       "1       -119               63300               63584.00\n",
       "2       -118              366200              365407.01\n",
       "3       -118              262100              283993.03\n",
       "4       -118              214600              169367.00\n",
       "5       -122              179800              184869.00\n",
       "6       -118              222800              171059.00\n",
       "7       -118              137500              139847.00\n",
       "8       -118              181000              246292.09\n",
       "9       -122              246100              276129.04"
      ]
     },
     "execution_count": 82,
     "metadata": {},
     "output_type": "execute_result"
    }
   ],
   "source": [
    "session.table('HOUSING_DETECTION').toPandas()"
   ]
  },
  {
   "cell_type": "markdown",
   "metadata": {},
   "source": [
    "And this is the view we get in a Housing_Detection table with our predictions located in our Snowflake database."
   ]
  },
  {
   "cell_type": "markdown",
   "metadata": {},
   "source": [
    "![Snowflake predictions](./pictures/Snowflake_predictions.png)"
   ]
  },
  {
   "cell_type": "markdown",
   "metadata": {},
   "source": [
    "# Summary\n",
    "\n",
    "In this article/tutorial, you discovered how to take an already available data science model and migrate it to Snowflake using Snowpark for python.\n",
    "\n",
    "Specifically:\n",
    "- How to connect to Snowflake\n",
    "- Loading data using Snowpark functions like copy_into\n",
    "- Connect to your data in Snowflake\n",
    "- Perform data science predictive modeling in our data with EDA, Cross-validation and fine tunnning \n",
    "- Deploy the model in Snowflake with UDF python functions.\n",
    "\n",
    "I hope you enjoyed the tutorial as much as we did creating it, a closing thought, ff you no longer need to use a session for executing queries and  want to cancel any queries that are currently running calling the close method of the Session object is a good practice."
   ]
  },
  {
   "cell_type": "code",
   "execution_count": null,
   "metadata": {},
   "outputs": [],
   "source": [
    "session.close()"
   ]
  },
  {
   "cell_type": "code",
   "execution_count": null,
   "metadata": {},
   "outputs": [],
   "source": [
    "#TODO Change to official documentation"
   ]
  },
  {
   "cell_type": "markdown",
   "metadata": {},
   "source": [
    "# More information and references \n",
    "\n",
    "\n",
    "1. Snowpark Developer Guide for Python https://docs.snowflake.com/en/LIMITEDACCESS/snowpark-python.html#label-snowpark-python-dataframe-action-method\n",
    "\n",
    "2. Hands-On Machine Learning with Scikit-Learn, Keras and TensorFlow by Aurélien Géron (O’Reilly).Copyright 2019 Aurélien Géron, 978-1-492-03264-9.\n",
    "\n",
    "\n",
    "\n",
    "\n",
    "\n"
   ]
  }
 ],
 "metadata": {
  "interpreter": {
   "hash": "c1917fe8151d500fea6fd19db5b478956755590a3bdb3718d1d00685aaa0a887"
  },
  "kernelspec": {
   "display_name": "Python 3.8.13 ('snowpark')",
   "language": "python",
   "name": "python3"
  },
  "language_info": {
   "codemirror_mode": {
    "name": "ipython",
    "version": 3
   },
   "file_extension": ".py",
   "mimetype": "text/x-python",
   "name": "python",
   "nbconvert_exporter": "python",
   "pygments_lexer": "ipython3",
   "version": "3.8.13"
  },
  "orig_nbformat": 4
 },
 "nbformat": 4,
 "nbformat_minor": 2
}
